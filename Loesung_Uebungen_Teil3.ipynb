{
  "cells": [
    {
      "cell_type": "markdown",
      "metadata": {
        "id": "view-in-github",
        "colab_type": "text"
      },
      "source": [
        "<a href=\"https://colab.research.google.com/github/Fuenfgeld/2022TeamADataEngineeringBC/blob/36-pr%C3%A4sentation-fortgeschrittene-transaktionen/Loesung_Uebungen_Teil3.ipynb\" target=\"_parent\"><img src=\"https://colab.research.google.com/assets/colab-badge.svg\" alt=\"Open In Colab\"/></a>"
      ]
    },
    {
      "cell_type": "markdown",
      "metadata": {
        "id": "zopt-B7jUV16"
      },
      "source": [
        "# Vorbereitung einlesen der Daten \n",
        "\n",
        "In diesem Abschnitt müssen Sie nichts machen. Dieser dient nur für das Einlesen und die Bereitstellung der Daten für die folgenden Übungen. "
      ]
    },
    {
      "cell_type": "code",
      "execution_count": 2,
      "metadata": {
        "colab": {
          "base_uri": "https://localhost:8080/"
        },
        "id": "0GfC-OQBE_bh",
        "outputId": "41ba8110-02be-47b3-aa06-93a38df45e74"
      },
      "outputs": [
        {
          "output_type": "stream",
          "name": "stdout",
          "text": [
            "Requirement already satisfied: pyspark in /usr/local/lib/python3.7/dist-packages (3.2.1)\n",
            "Requirement already satisfied: pandas in /usr/local/lib/python3.7/dist-packages (1.3.5)\n",
            "Requirement already satisfied: pysqlite3 in /usr/local/lib/python3.7/dist-packages (0.4.7)\n",
            "Requirement already satisfied: py4j==0.10.9.3 in /usr/local/lib/python3.7/dist-packages (from pyspark) (0.10.9.3)\n",
            "Requirement already satisfied: numpy>=1.17.3 in /usr/local/lib/python3.7/dist-packages (from pandas) (1.21.6)\n",
            "Requirement already satisfied: python-dateutil>=2.7.3 in /usr/local/lib/python3.7/dist-packages (from pandas) (2.8.2)\n",
            "Requirement already satisfied: pytz>=2017.3 in /usr/local/lib/python3.7/dist-packages (from pandas) (2022.1)\n",
            "Requirement already satisfied: six>=1.5 in /usr/local/lib/python3.7/dist-packages (from python-dateutil>=2.7.3->pandas) (1.15.0)\n"
          ]
        }
      ],
      "source": [
        "# Bibliotheken einmalig installieren\n",
        "!pip install pyspark pandas pysqlite3 "
      ]
    },
    {
      "cell_type": "code",
      "execution_count": 3,
      "metadata": {
        "colab": {
          "base_uri": "https://localhost:8080/"
        },
        "id": "6-23uk-88H6R",
        "outputId": "1578a6d1-2621-4695-b250-c17712a2be2d"
      },
      "outputs": [
        {
          "output_type": "stream",
          "name": "stdout",
          "text": [
            "--2022-05-12 10:46:40--  https://github.com/Fuenfgeld/2022TeamADataEngineeringBC/blob/36-pr%C3%A4sentation-fortgeschrittene-transaktionen/Pr%C3%A4sentationen/03-Fortgeschrittene%20Transformationen/create_data_advacend.py\n",
            "Resolving github.com (github.com)... 140.82.113.4\n",
            "Connecting to github.com (github.com)|140.82.113.4|:443... connected.\n",
            "HTTP request sent, awaiting response... 200 OK\n",
            "Length: unspecified [text/html]\n",
            "Saving to: ‘create_data_advacend.py’\n",
            "\n",
            "create_data_advacen     [ <=>                ] 296.55K  --.-KB/s    in 0.05s   \n",
            "\n",
            "2022-05-12 10:46:40 (5.44 MB/s) - ‘create_data_advacend.py’ saved [303668]\n",
            "\n"
          ]
        }
      ],
      "source": [
        "#Angabe der Daten für den Pfad\n",
        "!wget -O create_data_advacend.py https://github.com/Fuenfgeld/2022TeamADataEngineeringBC/blob/36-pr%C3%A4sentation-fortgeschrittene-transaktionen/Pr%C3%A4sentationen/03-Fortgeschrittene%20Transformationen/create_data_advacend.py"
      ]
    },
    {
      "cell_type": "code",
      "execution_count": 8,
      "metadata": {
        "colab": {
          "base_uri": "https://localhost:8080/"
        },
        "id": "-wrNz_wMFTYI",
        "outputId": "26d79c09-1df3-4e7f-c4d9-203baa79440d"
      },
      "outputs": [
        {
          "output_type": "execute_result",
          "data": {
            "text/plain": [
              "0"
            ]
          },
          "metadata": {},
          "execution_count": 8
        }
      ],
      "source": [
        "#Import der nötigen Packete\n",
        "import sqlite3\n",
        "import pandas as pd\n",
        "import pyspark.sql.functions as func\n",
        "import os\n",
        "\n",
        "os.system(\"python3 create_data_advacend.py\")"
      ]
    },
    {
      "cell_type": "code",
      "execution_count": 9,
      "metadata": {
        "id": "IcR_IIdyVAwo"
      },
      "outputs": [],
      "source": [
        "## (Py)Spark starten\n",
        "from pyspark.sql import SparkSession\n",
        "spark = SparkSession.builder.getOrCreate()"
      ]
    },
    {
      "cell_type": "code",
      "execution_count": 16,
      "metadata": {
        "colab": {
          "base_uri": "https://localhost:8080/"
        },
        "id": "ZS1ALDxs8KlI",
        "outputId": "92749f9b-afe3-4bb8-8979-67ecde50b65d"
      },
      "outputs": [
        {
          "output_type": "stream",
          "name": "stdout",
          "text": [
            "+------+-----+-------+-----------------+----+-------------+\n",
            "|  crop|field|revenue|water_consumption|week|yield_per_sqm|\n",
            "+------+-----+-------+-----------------+----+-------------+\n",
            "|barley|    8|      0|               12|   1|            0|\n",
            "|barley|    8|      0|               10|   2|            0|\n",
            "|barley|    8|      0|               12|   3|            0|\n",
            "|barley|    8|     35|               14|   4|           10|\n",
            "|barley|    8|     50|               14|   5|           25|\n",
            "|barley|    8|     40|               18|   6|           15|\n",
            "|barley|    8|     60|               12|   7|           30|\n",
            "|  corn|   10|      0|               10|   1|            0|\n",
            "|  corn|   10|      0|               12|   2|            0|\n",
            "|  corn|   10|     30|               20|   3|           25|\n",
            "|  corn|   10|     60|               26|   4|           25|\n",
            "|  corn|   10|    150|               24|   5|           25|\n",
            "|  corn|   10|    100|               10|   6|           25|\n",
            "|  corn|   10|    150|               15|   7|            0|\n",
            "|  oats|    9|      0|               15|   1|            0|\n",
            "|  oats|    9|      0|               25|   2|            0|\n",
            "|  oats|    9|    150|               15|   3|           60|\n",
            "|  oats|    9|    150|               25|   4|           60|\n",
            "|  oats|    9|    150|               25|   5|           60|\n",
            "|  oats|    9|    120|               15|   6|           40|\n",
            "+------+-----+-------+-----------------+----+-------------+\n",
            "only showing top 20 rows\n",
            "\n"
          ]
        }
      ],
      "source": [
        "# Datei Corn einlesen & in Spark-Dataframe schreiben\n",
        "df_corn = spark.read.option(\"multiline\",True).json('Corn.json')\n",
        "df_corn.show()\n"
      ]
    },
    {
      "cell_type": "code",
      "execution_count": 22,
      "metadata": {
        "colab": {
          "base_uri": "https://localhost:8080/"
        },
        "id": "YP7ra-l3WSKr",
        "outputId": "93c8861e-cbed-4587-a891-a885a9bbfc4f"
      },
      "outputs": [
        {
          "output_type": "stream",
          "name": "stdout",
          "text": [
            "(5, 'Barn Ground', 10)\n",
            "(6, 'Bank', 10)\n",
            "(7, 'Far Brossler', 20)\n",
            "(8, 'Middle Broom', 20)\n",
            "(9, 'Chalks', 25)\n",
            "(10, 'Big Broom ', 60)\n",
            "\n",
            "\n",
            "Dies ist das erzeugte Dataframe:\n",
            "\n",
            "    field_id    field_name  area_in_sqm\n",
            "0         5   Barn Ground           10\n",
            "1         6          Bank           10\n",
            "2         7  Far Brossler           20\n",
            "3         8  Middle Broom           20\n",
            "4         9        Chalks           25\n",
            "5        10    Big Broom            60\n"
          ]
        }
      ],
      "source": [
        "## Datenbankdaten in Dataframe schreiben\n",
        "connection_obj = sqlite3.connect('Diddly_Squat_Farm.db')\n",
        "cursor_obj = connection_obj.cursor()\n",
        "\n",
        "# Tabelle Fields ausgeben\n",
        "for row in cursor_obj.execute('SELECT * FROM fields'):\n",
        "        print(row)\n",
        "\n",
        "# Tabelle Fields in Dataframe df_fields schreiben\n",
        "df_fields = pd.read_sql_query(\"SELECT * FROM fields\", connection_obj)\n",
        "print('\\n\\nDies ist das erzeugte Dataframe:\\n\\n', df_fields)\n",
        "\n",
        "connection_obj.close()"
      ]
    },
    {
      "cell_type": "code",
      "execution_count": 23,
      "metadata": {
        "id": "EkH8SqGOWVQe",
        "colab": {
          "base_uri": "https://localhost:8080/"
        },
        "outputId": "25393d4f-fde9-4aaa-be06-28f39389cb18"
      },
      "outputs": [
        {
          "output_type": "stream",
          "name": "stdout",
          "text": [
            "+--------+------------+-----------+\n",
            "|field_id|  field_name|area_in_sqm|\n",
            "+--------+------------+-----------+\n",
            "|       5| Barn Ground|         10|\n",
            "|       6|        Bank|         10|\n",
            "|       7|Far Brossler|         20|\n",
            "|       8|Middle Broom|         20|\n",
            "|       9|      Chalks|         25|\n",
            "|      10|  Big Broom |         60|\n",
            "+--------+------------+-----------+\n",
            "\n"
          ]
        }
      ],
      "source": [
        "#DataFrame für Datenbank erzeugen\n",
        "df_fields= spark.createDataFrame(df_fields)\n",
        "df_fields.show()"
      ]
    },
    {
      "cell_type": "markdown",
      "metadata": {
        "id": "JQTRNXS1Vd1l"
      },
      "source": [
        "Nachdem nun alle Daten geladen wurden können Sie anschließend mit den Übungen beginnen."
      ]
    },
    {
      "cell_type": "markdown",
      "metadata": {
        "id": "FPlrbGG7CmG1"
      },
      "source": [
        "#Übungen für Fortgeschrittene \n",
        "\n",
        "In dieser Übung müssen Sie Jeremy tatkräftig unter die Arme greifen. \n",
        "Nachdem wir bereits Ihm bereits bei dem Anbau des Obst und Gemüse geholen haben, müssen Sie nun für in die Daten für das Getreide auswerten.\n",
        "\n",
        "Hierfür müssen Sie folgend vorgehen:\n",
        "\n",
        "1.   Helfen Sie Jeremy dabei sich einen Überblick über die Daten zu verschaffen in dem Sie JOIN verwerden.\n",
        "2.   Berechnen Sie für die jeweilge Getreideart den Wasserverbrauch, Ertrag pro Fläche sowie die Einnahmen.\n",
        "\n",
        "\n",
        "\n",
        "__________________________________________________________________________\n",
        "\n",
        "\n"
      ]
    },
    {
      "cell_type": "markdown",
      "metadata": {
        "id": "kOP_N92hHCDy"
      },
      "source": [
        "Um Jeremy helfen zu können verschaffen Sie sich zunächst einen Überblick über die Daten."
      ]
    },
    {
      "cell_type": "code",
      "execution_count": 24,
      "metadata": {
        "colab": {
          "base_uri": "https://localhost:8080/"
        },
        "id": "GawHQ1z_G9I6",
        "outputId": "a7e77c2a-960a-4a6e-8f34-4e3029fe8cc4"
      },
      "outputs": [
        {
          "output_type": "stream",
          "name": "stdout",
          "text": [
            "+--------+------------+-----------+\n",
            "|field_id|  field_name|area_in_sqm|\n",
            "+--------+------------+-----------+\n",
            "|       5| Barn Ground|         10|\n",
            "|       6|        Bank|         10|\n",
            "|       7|Far Brossler|         20|\n",
            "|       8|Middle Broom|         20|\n",
            "|       9|      Chalks|         25|\n",
            "|      10|  Big Broom |         60|\n",
            "+--------+------------+-----------+\n",
            "\n",
            "+------+-----+-------+-----------------+----+-------------+\n",
            "|  crop|field|revenue|water_consumption|week|yield_per_sqm|\n",
            "+------+-----+-------+-----------------+----+-------------+\n",
            "|barley|    8|      0|               12|   1|            0|\n",
            "|barley|    8|      0|               10|   2|            0|\n",
            "|barley|    8|      0|               12|   3|            0|\n",
            "|barley|    8|     35|               14|   4|           10|\n",
            "|barley|    8|     50|               14|   5|           25|\n",
            "|barley|    8|     40|               18|   6|           15|\n",
            "|barley|    8|     60|               12|   7|           30|\n",
            "|  corn|   10|      0|               10|   1|            0|\n",
            "|  corn|   10|      0|               12|   2|            0|\n",
            "|  corn|   10|     30|               20|   3|           25|\n",
            "+------+-----+-------+-----------------+----+-------------+\n",
            "only showing top 10 rows\n",
            "\n"
          ]
        }
      ],
      "source": [
        "df_fields.show(10)\n",
        "df_corn.show(10)"
      ]
    },
    {
      "cell_type": "markdown",
      "metadata": {
        "id": "7uosHkloqBu8"
      },
      "source": [
        "Verknüpfen Sie anschließend die zwei Tabellen miteinander. Wählen Sie hierfür die geeignete Join-Bedingung. "
      ]
    },
    {
      "cell_type": "code",
      "execution_count": 25,
      "metadata": {
        "id": "A_7gmwzzpWE_",
        "colab": {
          "base_uri": "https://localhost:8080/"
        },
        "outputId": "fc127f70-2035-4929-c070-12f81c22137f"
      },
      "outputs": [
        {
          "output_type": "stream",
          "name": "stdout",
          "text": [
            "+------+-----+-------+-----------------+----+-------------+--------+------------+-----------+\n",
            "|  crop|field|revenue|water_consumption|week|yield_per_sqm|field_id|  field_name|area_in_sqm|\n",
            "+------+-----+-------+-----------------+----+-------------+--------+------------+-----------+\n",
            "|barley|    8|     60|               12|   7|           30|       8|Middle Broom|         20|\n",
            "|barley|    8|     40|               18|   6|           15|       8|Middle Broom|         20|\n",
            "|barley|    8|     50|               14|   5|           25|       8|Middle Broom|         20|\n",
            "|barley|    8|     35|               14|   4|           10|       8|Middle Broom|         20|\n",
            "|barley|    8|      0|               12|   3|            0|       8|Middle Broom|         20|\n",
            "|barley|    8|      0|               10|   2|            0|       8|Middle Broom|         20|\n",
            "|barley|    8|      0|               12|   1|            0|       8|Middle Broom|         20|\n",
            "|  oats|    9|    100|               25|   7|           30|       9|      Chalks|         25|\n",
            "|  oats|    9|    120|               15|   6|           40|       9|      Chalks|         25|\n",
            "|  oats|    9|    150|               25|   5|           60|       9|      Chalks|         25|\n",
            "|  oats|    9|    150|               25|   4|           60|       9|      Chalks|         25|\n",
            "|  oats|    9|    150|               15|   3|           60|       9|      Chalks|         25|\n",
            "|  oats|    9|      0|               25|   2|            0|       9|      Chalks|         25|\n",
            "|  oats|    9|      0|               15|   1|            0|       9|      Chalks|         25|\n",
            "|  corn|   10|    150|               15|   7|            0|      10|  Big Broom |         60|\n",
            "|  corn|   10|    100|               10|   6|           25|      10|  Big Broom |         60|\n",
            "|  corn|   10|    150|               24|   5|           25|      10|  Big Broom |         60|\n",
            "|  corn|   10|     60|               26|   4|           25|      10|  Big Broom |         60|\n",
            "|  corn|   10|     30|               20|   3|           25|      10|  Big Broom |         60|\n",
            "|  corn|   10|      0|               12|   2|            0|      10|  Big Broom |         60|\n",
            "|  corn|   10|      0|               10|   1|            0|      10|  Big Broom |         60|\n",
            "+------+-----+-------+-----------------+----+-------------+--------+------------+-----------+\n",
            "\n"
          ]
        }
      ],
      "source": [
        "gesamt_join = df_corn.join(df_fields, df_corn.field ==  df_fields.field_id,\"inner\")\n",
        "gesamt_join.show(30)"
      ]
    },
    {
      "cell_type": "markdown",
      "metadata": {
        "id": "ae5T4zd7pk5F"
      },
      "source": [
        "Um die Wirtschaftlichkeit unseres Unternehmen zu prüfen, möchte Jeremy sich den gesamten Ertrag pro Fläch für die jeweiligen Getreidesorte wissen. Helfen Sie Jeremy dabei in dem Sie:\n",
        "\n",
        "+  Die Spalten des Ertrag pro m² mit der Fläche in m² multiplizieren um den gesamten Ertrag pro Fläche zu erhalten \n",
        "+ Erzeugen Sie eine neue Spalte im DataFrame für das Ergebnis\n",
        "+ Tipp: hierfür können Sie die Funcktion col der Sparkfunctions verwenden\n",
        "\n"
      ]
    },
    {
      "cell_type": "code",
      "execution_count": 26,
      "metadata": {
        "id": "NAnuWwdwpizi",
        "colab": {
          "base_uri": "https://localhost:8080/"
        },
        "outputId": "c5d13cd1-42c8-4b27-88bf-547a83189424"
      },
      "outputs": [
        {
          "output_type": "stream",
          "name": "stdout",
          "text": [
            "+------+-----+-------+-----------------+----+-------------+--------+------------+-----------+--------------+\n",
            "|  crop|field|revenue|water_consumption|week|yield_per_sqm|field_id|  field_name|area_in_sqm|yield_per_area|\n",
            "+------+-----+-------+-----------------+----+-------------+--------+------------+-----------+--------------+\n",
            "|barley|    8|     60|               12|   7|           30|       8|Middle Broom|         20|           600|\n",
            "|barley|    8|     40|               18|   6|           15|       8|Middle Broom|         20|           300|\n",
            "|barley|    8|     50|               14|   5|           25|       8|Middle Broom|         20|           500|\n",
            "|barley|    8|     35|               14|   4|           10|       8|Middle Broom|         20|           200|\n",
            "|barley|    8|      0|               12|   3|            0|       8|Middle Broom|         20|             0|\n",
            "|barley|    8|      0|               10|   2|            0|       8|Middle Broom|         20|             0|\n",
            "|barley|    8|      0|               12|   1|            0|       8|Middle Broom|         20|             0|\n",
            "|  oats|    9|    100|               25|   7|           30|       9|      Chalks|         25|           750|\n",
            "|  oats|    9|    120|               15|   6|           40|       9|      Chalks|         25|          1000|\n",
            "|  oats|    9|    150|               25|   5|           60|       9|      Chalks|         25|          1500|\n",
            "|  oats|    9|    150|               25|   4|           60|       9|      Chalks|         25|          1500|\n",
            "|  oats|    9|    150|               15|   3|           60|       9|      Chalks|         25|          1500|\n",
            "|  oats|    9|      0|               25|   2|            0|       9|      Chalks|         25|             0|\n",
            "|  oats|    9|      0|               15|   1|            0|       9|      Chalks|         25|             0|\n",
            "|  corn|   10|    150|               15|   7|            0|      10|  Big Broom |         60|             0|\n",
            "|  corn|   10|    100|               10|   6|           25|      10|  Big Broom |         60|          1500|\n",
            "|  corn|   10|    150|               24|   5|           25|      10|  Big Broom |         60|          1500|\n",
            "|  corn|   10|     60|               26|   4|           25|      10|  Big Broom |         60|          1500|\n",
            "|  corn|   10|     30|               20|   3|           25|      10|  Big Broom |         60|          1500|\n",
            "|  corn|   10|      0|               12|   2|            0|      10|  Big Broom |         60|             0|\n",
            "+------+-----+-------+-----------------+----+-------------+--------+------------+-----------+--------------+\n",
            "only showing top 20 rows\n",
            "\n"
          ]
        }
      ],
      "source": [
        "gesamt_join = gesamt_join.withColumn(\"yield_per_area\", func.col(\"yield_per_sqm\") * func.col(\"area_in_sqm\"))\n",
        "gesamt_join.show()\n"
      ]
    },
    {
      "cell_type": "markdown",
      "metadata": {
        "id": "v7AzyzkdwC5m"
      },
      "source": [
        "Nutzen Sie **groupby()** Bedingung sowie die Sparkfuntions **sum** um Jeremy eine Übersicht der Einnahmen, Wasserverbrauchs und dem Ertrag pro Fläche des jeweiligen Getreide zu verschaffen.\n",
        "\n"
      ]
    },
    {
      "cell_type": "code",
      "execution_count": 27,
      "metadata": {
        "id": "dmz5ckT0vzrL",
        "colab": {
          "base_uri": "https://localhost:8080/"
        },
        "outputId": "fa3953e4-8fe8-46c5-e6c5-80bea9022345"
      },
      "outputs": [
        {
          "output_type": "stream",
          "name": "stdout",
          "text": [
            "+------+-------+-----------------+--------------+\n",
            "|  Crop|revenue|water_consumption|yield_per_area|\n",
            "+------+-------+-----------------+--------------+\n",
            "|  corn|    490|              117|          6000|\n",
            "|  oats|    670|              145|          6250|\n",
            "|barley|    185|               92|          1600|\n",
            "+------+-------+-----------------+--------------+\n",
            "\n"
          ]
        }
      ],
      "source": [
        "gesamt_ertrag =  gesamt_join.groupBy(\"crop\").agg(func.sum(\"revenue\"), func.sum(\"yield_per_area\"), func.sum(\"water_consumption\"))\n",
        "gesamt_ertrag = gesamt_ertrag.select(func.col(\"crop\").alias(\"Crop\"),func.col(\"sum(revenue)\").alias(\"revenue\") , func.col(\"sum(water_consumption)\").alias(\"water_consumption\"), func.col(\"sum(yield_per_area)\").alias(\"yield_per_area\"))\n",
        "gesamt_ertrag.show()"
      ]
    },
    {
      "cell_type": "markdown",
      "metadata": {
        "id": "JFj7a_pnv1oO"
      },
      "source": [
        "Nachdem wir den Ertrag für die einzelnen Getreidesorten kennen, müssen wir Jeremy bei der Ermittelung des Gewinn je Lebensmittel unter die Arme greifen.\n",
        "\n",
        "+ Hierfür benötigen wir die zuvor ermittelten Liter je Sorte welche wir mit dem Wert von 0.2 Cent verrechnen. \n",
        " \n",
        "+ Anschließend müssen noch die Erwerbskosten für die  Pflanzensamen miteinbeziehen um unsere Produktionskosten zu erhalten.\n",
        "  >Kosten für Samen :\n",
        "  + Mais = 5 Cent\n",
        "  + Hafer = 10 Cent\n",
        "  + Roggen = 20 Cent \n",
        "\n",
        "\n",
        "+ Geben Sie das Ergebnis absteigend an. "
      ]
    },
    {
      "cell_type": "markdown",
      "metadata": {
        "id": "NjP287nU1D9j"
      },
      "source": [
        "Die folgende Codezeile können Sie einfach ausführen um mit den Übungen fortzufahren."
      ]
    },
    {
      "cell_type": "code",
      "execution_count": 28,
      "metadata": {
        "id": "V4RDD2cjohoE",
        "colab": {
          "base_uri": "https://localhost:8080/"
        },
        "outputId": "34403558-a935-4bd4-f0c8-33b306268134"
      },
      "outputs": [
        {
          "output_type": "stream",
          "name": "stdout",
          "text": [
            "+------+-------+-----------------+--------------+---+\n",
            "|  Crop|revenue|water_consumption|yield_per_area|idx|\n",
            "+------+-------+-----------------+--------------+---+\n",
            "|  corn|    490|              117|          6000|  0|\n",
            "|  oats|    670|              145|          6250|  1|\n",
            "|barley|    185|               92|          1600|  2|\n",
            "+------+-------+-----------------+--------------+---+\n",
            "\n",
            "+------------+---+\n",
            "|cost_of_seed|idx|\n",
            "+------------+---+\n",
            "|           5|  1|\n",
            "|          10|  2|\n",
            "|          20|  3|\n",
            "+------------+---+\n",
            "\n"
          ]
        }
      ],
      "source": [
        "from pyspark.sql.window import Window as W\n",
        "rating = [5,10,20]\n",
        "seed_cost = spark.createDataFrame([(l,) for l in rating], ['cost_of_seed'])\n",
        "gesamt_ertrag = gesamt_ertrag.withColumn(\"idx\", func.monotonically_increasing_id())\n",
        "seed_cost = seed_cost.withColumn(\"idx\", func.monotonically_increasing_id())\n",
        "gesamt_ertrag.show()\n",
        "\n",
        "windowSpec = W.orderBy(\"idx\")\n",
        "gesamt_ertrag = gesamt_ertrag.withColumn(\"idx\", func.row_number().over(windowSpec))\n",
        "seed_cost = seed_cost.withColumn(\"idx\", func.row_number().over(windowSpec))\n",
        "seed_cost.show()\n",
        "\n"
      ]
    },
    {
      "cell_type": "markdown",
      "source": [
        "Nun sind Sie wieder gefragt. Joinen Sie die beiden Tabellen um mit der Ermittlung der Produktionskosten weiterzufahren. "
      ],
      "metadata": {
        "id": "SDX7Luzt5izO"
      }
    },
    {
      "cell_type": "code",
      "source": [
        "gesamt_ertrag = gesamt_ertrag.join(seed_cost, gesamt_ertrag.idx == seed_cost.idx).drop(\"idx\")\n",
        "gesamt_ertrag.show()"
      ],
      "metadata": {
        "id": "S9RIl_625dhI",
        "outputId": "256c0f90-d4e2-499c-ff6e-b95f2e5c48c8",
        "colab": {
          "base_uri": "https://localhost:8080/"
        }
      },
      "execution_count": 29,
      "outputs": [
        {
          "output_type": "stream",
          "name": "stdout",
          "text": [
            "+------+-------+-----------------+--------------+------------+\n",
            "|  Crop|revenue|water_consumption|yield_per_area|cost_of_seed|\n",
            "+------+-------+-----------------+--------------+------------+\n",
            "|  corn|    490|              117|          6000|           5|\n",
            "|  oats|    670|              145|          6250|          10|\n",
            "|barley|    185|               92|          1600|          20|\n",
            "+------+-------+-----------------+--------------+------------+\n",
            "\n"
          ]
        }
      ]
    },
    {
      "cell_type": "code",
      "execution_count": 30,
      "metadata": {
        "id": "iedwMtJC1RNA",
        "colab": {
          "base_uri": "https://localhost:8080/"
        },
        "outputId": "073a2662-440e-41b3-bd83-959fe024dc14"
      },
      "outputs": [
        {
          "output_type": "stream",
          "name": "stdout",
          "text": [
            "+------+-------+-----------------+--------------+------------+------------------------+-------------+\n",
            "|  Crop|revenue|water_consumption|yield_per_area|cost_of_seed|revenue_after_water_cost|netto_revenue|\n",
            "+------+-------+-----------------+--------------+------------+------------------------+-------------+\n",
            "|  oats|    670|              145|          6250|          10|                   667.1|        657.1|\n",
            "|  corn|    490|              117|          6000|           5|                  487.66|       482.66|\n",
            "|barley|    185|               92|          1600|          20|                  183.16|       163.16|\n",
            "+------+-------+-----------------+--------------+------------+------------------------+-------------+\n",
            "\n"
          ]
        }
      ],
      "source": [
        "gesamt_ertrag = gesamt_ertrag.withColumn(\"revenue_after_water_cost\", func.col(\"revenue\") - (func.col(\"water_consumption\")* 0.02))\n",
        "gesamt_ertrag = gesamt_ertrag.withColumn(\"netto_revenue\",func.col(\"revenue_after_water_cost\") - func.col(\"cost_of_seed\"))\n",
        "gesamt_ertrag.orderBy(func.col(\"netto_revenue\").desc()).show()"
      ]
    },
    {
      "cell_type": "markdown",
      "metadata": {
        "id": "z1V2EzJA3J3H"
      },
      "source": [
        "Um auch für das Getreide in unserem Hofladen gewinnbringend vertreiben können, müssen wir Jeremy bei der Preisfindung unterstützen. \n",
        "\n",
        "Die Einnahmen sind bisher in Pence angegeben Rechnenen Sie diese in Pfund um.\n",
        "\n",
        ">> Randinformationen:\n",
        "*   Ein Pfund (£) hat 100 Pence (p).\n",
        "*   Für den Mindestverkaufspreis müssen unsere Getreidesorten noch mit einer Mehrwertsteuer von 19% besteuert werden.\n",
        "* Für einen lukrativen Verkaufspreis müssen wir den Nettopreis mit 59% besteuern\n",
        "\n",
        "\n",
        "\n",
        "\n",
        "\n",
        "\n",
        " \n",
        "\n",
        "\n",
        "\n",
        "\n",
        "\n",
        "+ Verwenden Sie für die Preisfindung Lambda-Funktionen. Welche der beiden Variante Sie verwenden bleibt Ihnen überlassen. \n",
        "\n",
        "+ Ermitteln Sie hierfür den Preis pro Stück und erzeugen hierfür eine neue Spalte in dem Dataframe"
      ]
    },
    {
      "cell_type": "code",
      "execution_count": null,
      "metadata": {
        "id": "RYjUbd0S3x4Z"
      },
      "outputs": [],
      "source": [
        "rdd2 = gesamt_ertrag.rdd.map(lambda x: (x[\"Crop\"], x[\"netto_revenue\"]*1.19*0.01, x[\"netto_revenue\"]*1.59*0.01)) \n",
        "cost_overview = rdd2.toDF([\"Crop\",\"min_selling_price_per_piece\", \"lucrative_selling_price\"])\n",
        "cost_overview = cost_overview.withColumn(\"min_selling_price_per_piece\", func.round(cost_overview[\"min_selling_price_per_piece\"], 2)).withColumn(\"lucrative_selling_price\", func.round(cost_overview[\"lucrative_selling_price\"], 2))\n",
        "cost_overview.withColumn(\"currency\", func.lit(\"£\")).orderBy(col(\"lucrative_selling_price\").desc()).show()"
      ]
    },
    {
      "cell_type": "code",
      "execution_count": null,
      "metadata": {
        "id": "A1hODm_E6iaN"
      },
      "outputs": [],
      "source": [
        "# By Calling function\n",
        "def calc_func(x):\n",
        "    Crop = x.Crop\n",
        "    Netto_Revenue = x.netto_revenue \n",
        "    min_selling_price_per_piece = Netto_Revenue*1.19*0.01\n",
        "    lucrative_selling_price = Netto_Revenue*1.59*0.01\n",
        "    return (Crop, min_selling_price_per_piece, lucrative_selling_price)\n",
        "\n",
        "rdd_process=gesamt_ertrag.rdd.map(lambda x: calc_func(x))\n",
        "cost_overview_with_func = rdd_process.toDF([\"Crop\",\"min_selling_price_per_piece\", \"lucrative_selling_price\"])\n",
        "cost_overview_with_func = cost_overview_with_func.withColumn(\"min_selling_price_per_piece\", func.round(cost_overview_with_func[\"min_selling_price_per_piece\"], 2)).withColumn(\"lucrative_selling_price\", func.round(cost_overview_with_func[\"lucrative_selling_price\"], 2))\n",
        "cost_overview_with_func.withColumn(\"currency\", func.lit(\"£\")).orderBy(col(\"lucrative_selling_price\").desc()).show()\n"
      ]
    }
  ],
  "metadata": {
    "colab": {
      "collapsed_sections": [],
      "name": "Loesung_Uebungen_Teil3.ipynb",
      "provenance": [],
      "include_colab_link": true
    },
    "kernelspec": {
      "display_name": "Python 3",
      "name": "python3"
    },
    "language_info": {
      "name": "python"
    }
  },
  "nbformat": 4,
  "nbformat_minor": 0
}