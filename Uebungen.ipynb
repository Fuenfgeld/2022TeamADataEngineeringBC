{
  "nbformat": 4,
  "nbformat_minor": 0,
  "metadata": {
    "colab": {
      "name": "Uebungen.ipynb",
      "provenance": [],
      "collapsed_sections": [],
      "toc_visible": true,
      "include_colab_link": true
    },
    "kernelspec": {
      "name": "python3",
      "display_name": "Python 3"
    },
    "language_info": {
      "name": "python"
    }
  },
  "cells": [
    {
      "cell_type": "markdown",
      "metadata": {
        "id": "view-in-github",
        "colab_type": "text"
      },
      "source": [
        "<a href=\"https://colab.research.google.com/github/Fuenfgeld/2022TeamADataEngineeringBC/blob/36-pr%C3%A4sentation-fortgeschrittene-transaktionen/Uebungen.ipynb\" target=\"_parent\"><img src=\"https://colab.research.google.com/assets/colab-badge.svg\" alt=\"Open In Colab\"/></a>"
      ]
    },
    {
      "cell_type": "markdown",
      "source": [
        "# Vorbereitung einlesen der Daten \n",
        "\n",
        "In diesem Abschnitt müssen Sie nichts machen. Dieser dient nur für das Einlesen und die Bereitstellung der Daten für die folgenden Übungen. "
      ],
      "metadata": {
        "id": "zopt-B7jUV16"
      }
    },
    {
      "cell_type": "code",
      "execution_count": null,
      "metadata": {
        "colab": {
          "base_uri": "https://localhost:8080/"
        },
        "id": "0GfC-OQBE_bh",
        "outputId": "8fca3555-e731-4ecb-9312-89da086f7150"
      },
      "outputs": [
        {
          "output_type": "stream",
          "name": "stdout",
          "text": [
            "Requirement already satisfied: pyspark in /usr/local/lib/python3.7/dist-packages (3.2.1)\n",
            "Requirement already satisfied: pandas in /usr/local/lib/python3.7/dist-packages (1.3.5)\n",
            "Requirement already satisfied: pysqlite3 in /usr/local/lib/python3.7/dist-packages (0.4.7)\n",
            "Requirement already satisfied: py4j==0.10.9.3 in /usr/local/lib/python3.7/dist-packages (from pyspark) (0.10.9.3)\n",
            "Requirement already satisfied: numpy>=1.17.3 in /usr/local/lib/python3.7/dist-packages (from pandas) (1.21.6)\n",
            "Requirement already satisfied: python-dateutil>=2.7.3 in /usr/local/lib/python3.7/dist-packages (from pandas) (2.8.2)\n",
            "Requirement already satisfied: pytz>=2017.3 in /usr/local/lib/python3.7/dist-packages (from pandas) (2022.1)\n",
            "Requirement already satisfied: six>=1.5 in /usr/local/lib/python3.7/dist-packages (from python-dateutil>=2.7.3->pandas) (1.15.0)\n"
          ]
        }
      ],
      "source": [
        "# Bibliotheken einmalig installieren\n",
        "!pip install pyspark pandas pysqlite3 "
      ]
    },
    {
      "cell_type": "code",
      "source": [
        "#Angabe der Daten für den Pfad\n",
        "!wget -O create_data.py https://github.com/Fuenfgeld/2022TeamADataEngineeringBC/blob/36-pr%C3%A4sentation-fortgeschrittene-transaktionen/Pr%C3%A4sentationen/03-Fortgeschrittene%20Transformationen/create_data.py"
      ],
      "metadata": {
        "colab": {
          "base_uri": "https://localhost:8080/"
        },
        "id": "6-23uk-88H6R",
        "outputId": "b029a20f-042b-4095-e23e-c525c5f46dc3"
      },
      "execution_count": null,
      "outputs": [
        {
          "output_type": "stream",
          "name": "stdout",
          "text": [
            "--2022-05-09 20:18:50--  https://github.com/Fuenfgeld/2022TeamADataEngineeringBC/blob/36-pr%C3%A4sentation-fortgeschrittene-transaktionen/Pr%C3%A4sentationen/03-Fortgeschrittene%20Transformationen/create_data.py\n",
            "Resolving github.com (github.com)... 140.82.114.4\n",
            "Connecting to github.com (github.com)|140.82.114.4|:443... connected.\n",
            "HTTP request sent, awaiting response... 200 OK\n",
            "Length: unspecified [text/html]\n",
            "Saving to: ‘create_data.py’\n",
            "\n",
            "\rcreate_data.py          [<=>                 ]       0  --.-KB/s               \rcreate_data.py          [ <=>                ] 281.07K  --.-KB/s    in 0.05s   \n",
            "\n",
            "2022-05-09 20:18:50 (5.85 MB/s) - ‘create_data.py’ saved [287811]\n",
            "\n"
          ]
        }
      ]
    },
    {
      "cell_type": "code",
      "source": [
        "#Import der nötigen Packete\n",
        "import sqlite3\n",
        "import pandas as pd\n",
        "import pyspark.sql.functions as func\n",
        "import os\n",
        "\n",
        "os.system(\"python3 create_data.py\")"
      ],
      "metadata": {
        "id": "-wrNz_wMFTYI",
        "colab": {
          "base_uri": "https://localhost:8080/"
        },
        "outputId": "b0c73077-4bc1-4cdb-d7f3-7444b5400b63"
      },
      "execution_count": null,
      "outputs": [
        {
          "output_type": "execute_result",
          "data": {
            "text/plain": [
              "256"
            ]
          },
          "metadata": {},
          "execution_count": 44
        }
      ]
    },
    {
      "cell_type": "code",
      "source": [
        "## (Py)Spark starten\n",
        "from pyspark.sql import SparkSession\n",
        "spark = SparkSession.builder.getOrCreate()"
      ],
      "metadata": {
        "id": "IcR_IIdyVAwo"
      },
      "execution_count": null,
      "outputs": []
    },
    {
      "cell_type": "code",
      "source": [
        "# Datei Corn einlesen & in Spark-Dataframe schreiben\n",
        "df_corn = spark.read.option(\"multiline\",True).json('Corn.json')\n",
        "df_corn.show()\n"
      ],
      "metadata": {
        "colab": {
          "base_uri": "https://localhost:8080/"
        },
        "id": "ZS1ALDxs8KlI",
        "outputId": "8aa89277-281f-47fd-8502-b131b61561b5"
      },
      "execution_count": null,
      "outputs": [
        {
          "output_type": "stream",
          "name": "stdout",
          "text": [
            "+----+-----+-------+-----------------+----+-------------+\n",
            "|crop|field|revenue|water_consumption|week|yield_per_sqm|\n",
            "+----+-----+-------+-----------------+----+-------------+\n",
            "|corn|    8|      0|               12|   1|            0|\n",
            "|corn|    9|      0|               10|   2|            0|\n",
            "|corn|    8|      0|               12|   3|            0|\n",
            "|corn|    8|      0|               14|   4|            0|\n",
            "|corn|    8|      0|               14|   5|            5|\n",
            "|corn|    9|     30|               18|   6|           10|\n",
            "|corn|    8|      0|               12|   1|            0|\n",
            "|corn|   10|      0|               10|   2|            0|\n",
            "|corn|   10|      0|               12|   3|            0|\n",
            "|corn|    8|     60|               20|   7|           25|\n",
            "|corn|   10|    150|               26|   8|           25|\n",
            "|corn|    8|    150|               24|   9|           25|\n",
            "|corn|    9|    100|               10|  10|           25|\n",
            "|corn|    8|    150|             null|  11|            0|\n",
            "+----+-----+-------+-----------------+----+-------------+\n",
            "\n"
          ]
        }
      ]
    },
    {
      "cell_type": "code",
      "source": [
        "## Datenbankdaten in Dataframe schreiben\n",
        "connection_obj = sqlite3.connect('Diddly_Squat_Farm.db')\n",
        "cursor_obj = connection_obj.cursor()\n",
        "\n",
        "# Tabelle Fields ausgeben\n",
        "for row in cursor_obj.execute('SELECT * FROM fields'):\n",
        "        print(row)\n",
        "\n",
        "# Tabelle Fields in Dataframe df_fields schreiben\n",
        "df_fields = pd.read_sql_query(\"SELECT * FROM fields\", connection_obj)\n",
        "print('\\n\\nDies ist das erzeugte Dataframe:\\n\\n', df_fields)\n",
        "\n",
        "connection_obj.close()"
      ],
      "metadata": {
        "colab": {
          "base_uri": "https://localhost:8080/"
        },
        "id": "YP7ra-l3WSKr",
        "outputId": "e5ae11f1-0fa4-4c63-a059-f75f2495a106"
      },
      "execution_count": null,
      "outputs": [
        {
          "output_type": "stream",
          "name": "stdout",
          "text": [
            "(5, 'Barn Ground', 10)\n",
            "(6, 'Bank', 10)\n",
            "(7, 'Far Brossler', 20)\n",
            "\n",
            "\n",
            "Dies ist das erzeugte Dataframe:\n",
            "\n",
            "    field_id    field_name  area_in_sqm\n",
            "0         5   Barn Ground           10\n",
            "1         6          Bank           10\n",
            "2         7  Far Brossler           20\n"
          ]
        }
      ]
    },
    {
      "cell_type": "code",
      "source": [
        "#DataFrame für Datenbank erzeugen\n",
        "df_fields= spark.createDataFrame(df_fields) \n",
        "df_fields.show()"
      ],
      "metadata": {
        "colab": {
          "base_uri": "https://localhost:8080/"
        },
        "id": "EkH8SqGOWVQe",
        "outputId": "205016c8-b383-485f-fe5d-70d69512b8ba"
      },
      "execution_count": null,
      "outputs": [
        {
          "output_type": "stream",
          "name": "stdout",
          "text": [
            "+--------+------------+-----------+\n",
            "|field_id|  field_name|area_in_sqm|\n",
            "+--------+------------+-----------+\n",
            "|       5| Barn Ground|         10|\n",
            "|       6|        Bank|         10|\n",
            "|       7|Far Brossler|         20|\n",
            "+--------+------------+-----------+\n",
            "\n"
          ]
        }
      ]
    },
    {
      "cell_type": "markdown",
      "source": [
        "Nachdem nun alle Daten geladen wurden können Sie anschließend mit den Übungen beginnen."
      ],
      "metadata": {
        "id": "JQTRNXS1Vd1l"
      }
    },
    {
      "cell_type": "markdown",
      "source": [
        "#Übungen für Fortgeschrittene \n",
        "\n",
        "In dieser Übung müssen Sie Jeremy tatkräftig unter die Arme greifen. \n",
        "Nachdem wir bereits Ihm bereits bei dem Anbau des Obst und Gemüse geholen haben, müssen Sie nun für in die Daten für das Getreide auswerten.\n",
        "\n",
        "Hierfür müssen Sie folgend vorgehen:\n",
        "\n",
        "1.   Helfen Sie Jeremy dabei sich einen Überblick über die Daten zu verschaffen in dem Sie JOIN verwerden.\n",
        "2.   \n",
        "\n",
        "\n"
      ],
      "metadata": {
        "id": "FPlrbGG7CmG1"
      }
    },
    {
      "cell_type": "markdown",
      "source": [
        "# Transformationen für Fortgeschrittene"
      ],
      "metadata": {
        "id": "FiieohenG2Bm"
      }
    },
    {
      "cell_type": "markdown",
      "source": [
        "Damit Jeremy sich weitere Inforamtionen aus den Daten beschaffen kann,muss er sich erneut einen Überblick verschaffen. "
      ],
      "metadata": {
        "id": "kOP_N92hHCDy"
      }
    },
    {
      "cell_type": "code",
      "source": [
        "df_fields.show(10)\n",
        "df_corn.show(10)"
      ],
      "metadata": {
        "id": "GawHQ1z_G9I6",
        "colab": {
          "base_uri": "https://localhost:8080/"
        },
        "outputId": "467f6020-a01c-407c-bfa5-b803efaf9599"
      },
      "execution_count": null,
      "outputs": [
        {
          "output_type": "stream",
          "name": "stdout",
          "text": [
            "+--------+------------+-----------+\n",
            "|field_id|  field_name|area_in_sqm|\n",
            "+--------+------------+-----------+\n",
            "|       5| Barn Ground|         10|\n",
            "|       6|        Bank|         10|\n",
            "|       7|Far Brossler|         20|\n",
            "+--------+------------+-----------+\n",
            "\n",
            "+----+-----+-------+-----------------+----+-------------+\n",
            "|crop|field|revenue|water_consumption|week|yield_per_sqm|\n",
            "+----+-----+-------+-----------------+----+-------------+\n",
            "|corn|    8|      0|               12|   1|            0|\n",
            "|corn|    9|      0|               10|   2|            0|\n",
            "|corn|    8|      0|               12|   3|            0|\n",
            "|corn|    8|      0|               14|   4|            0|\n",
            "|corn|    8|      0|               14|   5|            5|\n",
            "|corn|    9|     30|               18|   6|           10|\n",
            "|corn|    8|      0|               12|   1|            0|\n",
            "|corn|   10|      0|               10|   2|            0|\n",
            "|corn|   10|      0|               12|   3|            0|\n",
            "|corn|    8|     60|               20|   7|           25|\n",
            "+----+-----+-------+-----------------+----+-------------+\n",
            "only showing top 10 rows\n",
            "\n"
          ]
        }
      ]
    },
    {
      "cell_type": "markdown",
      "source": [
        "Für die kommenden Wochen ist mit erhöhten Niederschlägen zu rechnen. Um zuwissen wann es sich lohnt die Felder zu bewässern, will sich Jeremy einen Überblick über die Durchschnittliche Wassermenge pro Woche verschaffen."
      ],
      "metadata": {
        "id": "QgDG4e1JcNV2"
      }
    },
    {
      "cell_type": "code",
      "source": [
        "\n",
        "df_alles_was_angebaut_wird = df_fru_veg.groupBy(\"week\").agg(func.avg(\"water_consumption\"))\n",
        "df_alles_was_angebaut_wird.show()\n"
      ],
      "metadata": {
        "colab": {
          "base_uri": "https://localhost:8080/",
          "height": 205
        },
        "id": "rwblOPantv6c",
        "outputId": "1b8a37db-4569-49b2-8165-8482857a3020"
      },
      "execution_count": null,
      "outputs": [
        {
          "output_type": "error",
          "ename": "NameError",
          "evalue": "ignored",
          "traceback": [
            "\u001b[0;31m---------------------------------------------------------------------------\u001b[0m",
            "\u001b[0;31mNameError\u001b[0m                                 Traceback (most recent call last)",
            "\u001b[0;32m<ipython-input-31-5a0c42efb818>\u001b[0m in \u001b[0;36m<module>\u001b[0;34m()\u001b[0m\n\u001b[1;32m      1\u001b[0m \u001b[0;34m\u001b[0m\u001b[0m\n\u001b[0;32m----> 2\u001b[0;31m \u001b[0mdf_alles_was_angebaut_wird\u001b[0m \u001b[0;34m=\u001b[0m \u001b[0mdf_fru_veg\u001b[0m\u001b[0;34m.\u001b[0m\u001b[0mgroupBy\u001b[0m\u001b[0;34m(\u001b[0m\u001b[0;34m\"week\"\u001b[0m\u001b[0;34m)\u001b[0m\u001b[0;34m.\u001b[0m\u001b[0magg\u001b[0m\u001b[0;34m(\u001b[0m\u001b[0mfunc\u001b[0m\u001b[0;34m.\u001b[0m\u001b[0mavg\u001b[0m\u001b[0;34m(\u001b[0m\u001b[0;34m\"water_consumption\"\u001b[0m\u001b[0;34m)\u001b[0m\u001b[0;34m)\u001b[0m\u001b[0;34m\u001b[0m\u001b[0;34m\u001b[0m\u001b[0m\n\u001b[0m\u001b[1;32m      3\u001b[0m \u001b[0mdf_alles_was_angebaut_wird\u001b[0m\u001b[0;34m.\u001b[0m\u001b[0mshow\u001b[0m\u001b[0;34m(\u001b[0m\u001b[0;34m)\u001b[0m\u001b[0;34m\u001b[0m\u001b[0;34m\u001b[0m\u001b[0m\n",
            "\u001b[0;31mNameError\u001b[0m: name 'df_fru_veg' is not defined"
          ]
        }
      ]
    },
    {
      "cell_type": "code",
      "source": [
        "#Gesamter Wasserverbrauch pro Pflanze aufsummieren Beispiel GroupBy\n",
        "gesamt_verbrauch =  df_fru_veg.groupBy(\"crop\").agg(func.sum(\"water_consumption\"))\n",
        "gesamt_verbrauch.show()"
      ],
      "metadata": {
        "id": "i4FhWIAwN-Zw"
      },
      "execution_count": null,
      "outputs": []
    },
    {
      "cell_type": "markdown",
      "source": [
        "als nächstes Folgen die Beispiel für die Join Bedingung"
      ],
      "metadata": {
        "id": "Mc2M1zTVRKn-"
      }
    },
    {
      "cell_type": "code",
      "source": [
        "#Beispiel JOIN\n",
        "#Nun will Jeremy wieviele Pflanzen er auf jedem Feld anbauen kann  \n",
        "\n",
        "gesamt_join = df_fru_veg.join(df_fields, df_fru_veg.field ==  df_fields.field_id,\"inner\")\n",
        "gesamt_join.show(30)"
      ],
      "metadata": {
        "id": "t2xewOjSP5fh"
      },
      "execution_count": null,
      "outputs": []
    },
    {
      "cell_type": "code",
      "source": [
        "\n",
        "gesamt_join = gesamt_join.withColumn(\"yield_per_area\", col(\"yield_per_sqm\") * col(\"area_in_sqm\"))\n",
        "gesamt_join.show()\n"
      ],
      "metadata": {
        "id": "IhIzI39pWm5n"
      },
      "execution_count": null,
      "outputs": []
    },
    {
      "cell_type": "code",
      "source": [
        "#Nachdem der Ertrag für die einzelnen Gemüse- oder Obstsorten ermittelt wurde müssen wir noch unseren Netto gewinn für die einzelnen Sachen berechenen.\n",
        "gesamt_ertrag =  gesamt_join.groupBy(\"crop\").agg(func.sum(\"yield_per_area\"), func.sum(\"water_consumption\"))\n",
        "gesamt_ertrag = gesamt_ertrag.select(col(\"crop\").alias(\"Crop\"),col(\"sum(water_consumption)\").alias(\"water_consumption\"), col(\"sum(yield_per_area)\").alias(\"yield_per_area\"))\n",
        "gesamt_ertrag.show()\n"
      ],
      "metadata": {
        "id": "V4RDD2cjohoE"
      },
      "execution_count": null,
      "outputs": []
    },
    {
      "cell_type": "markdown",
      "source": [
        "Hierfür benötogen wir die zuvor ermittelten Liter je Sorte welche wir mit dem Wert von 20Cent verrechnen müssen um die gesanten Bewässerungskosten zu erhalten."
      ],
      "metadata": {
        "id": "9Ar2YentoKEd"
      }
    },
    {
      "cell_type": "code",
      "source": [
        "gesamt_ertrag = gesamt_ertrag.withColumn(\"netto_yield_per_area\",col(\"yield_per_area\") - (col(\"water_consumption\")* 0.2))\n",
        "df3 = gesamt_ertrag.withColumn(\"netto_yield_per_area\", func.round(gesamt_ertrag[\"netto_yield_per_area\"], 2))\n",
        "df3.show()"
      ],
      "metadata": {
        "id": "XVOAD7ORwnMl"
      },
      "execution_count": null,
      "outputs": []
    },
    {
      "cell_type": "code",
      "source": [
        "df3.orderBy(col(\"netto_yield_per_area\").desc()).show(truncate=False)\n",
        "\n"
      ],
      "metadata": {
        "id": "vCPCxXQB1OZW"
      },
      "execution_count": null,
      "outputs": []
    },
    {
      "cell_type": "markdown",
      "source": [
        "Nun mach ich noch irgendwas anderes und dann sollte das wenigstens für heute passen "
      ],
      "metadata": {
        "id": "dR-TzO-IiRZc"
      }
    }
  ]
}