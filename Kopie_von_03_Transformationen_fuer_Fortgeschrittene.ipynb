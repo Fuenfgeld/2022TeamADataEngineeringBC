{
  "nbformat": 4,
  "nbformat_minor": 0,
  "metadata": {
    "colab": {
      "name": "Kopie von 03-Transformationen fuer Fortgeschrittene.ipynb",
      "provenance": [],
      "collapsed_sections": [],
      "toc_visible": true,
      "authorship_tag": "ABX9TyORavreQypV7d/65FDPch/z",
      "include_colab_link": true
    },
    "kernelspec": {
      "name": "python3",
      "display_name": "Python 3"
    },
    "language_info": {
      "name": "python"
    }
  },
  "cells": [
    {
      "cell_type": "markdown",
      "metadata": {
        "id": "view-in-github",
        "colab_type": "text"
      },
      "source": [
        "<a href=\"https://colab.research.google.com/github/Fuenfgeld/2022TeamADataEngineeringBC/blob/36-pr%C3%A4sentation-fortgeschrittene-transaktionen/Kopie_von_03_Transformationen_fuer_Fortgeschrittene.ipynb\" target=\"_parent\"><img src=\"https://colab.research.google.com/assets/colab-badge.svg\" alt=\"Open In Colab\"/></a>"
      ]
    },
    {
      "cell_type": "markdown",
      "source": [
        "#Einlesen der Daten "
      ],
      "metadata": {
        "id": "FPlrbGG7CmG1"
      }
    },
    {
      "cell_type": "code",
      "execution_count": null,
      "metadata": {
        "colab": {
          "base_uri": "https://localhost:8080/"
        },
        "id": "0GfC-OQBE_bh",
        "outputId": "baae193a-04dd-4f80-8cfd-f56955e4e7e4"
      },
      "outputs": [
        {
          "output_type": "stream",
          "name": "stdout",
          "text": [
            "Requirement already satisfied: pyspark in /usr/local/lib/python3.7/dist-packages (3.2.1)\n",
            "Requirement already satisfied: pandas in /usr/local/lib/python3.7/dist-packages (1.3.5)\n",
            "Requirement already satisfied: pysqlite3 in /usr/local/lib/python3.7/dist-packages (0.4.7)\n",
            "Requirement already satisfied: py4j==0.10.9.3 in /usr/local/lib/python3.7/dist-packages (from pyspark) (0.10.9.3)\n",
            "Requirement already satisfied: python-dateutil>=2.7.3 in /usr/local/lib/python3.7/dist-packages (from pandas) (2.8.2)\n",
            "Requirement already satisfied: pytz>=2017.3 in /usr/local/lib/python3.7/dist-packages (from pandas) (2022.1)\n",
            "Requirement already satisfied: numpy>=1.17.3 in /usr/local/lib/python3.7/dist-packages (from pandas) (1.21.6)\n",
            "Requirement already satisfied: six>=1.5 in /usr/local/lib/python3.7/dist-packages (from python-dateutil>=2.7.3->pandas) (1.15.0)\n"
          ]
        }
      ],
      "source": [
        "# Bibliotheken einmalig installieren\n",
        "\n",
        "!pip install pyspark pandas pysqlite3 "
      ]
    },
    {
      "cell_type": "code",
      "source": [
        "!wget -O \"https://raw.githubusercontent.com/Fuenfgeld/2022TeamADataEngineeringBC/main/Pr%C3%A4sentationen/02-Einfache%20Transformationen/create_data.py\""
      ],
      "metadata": {
        "colab": {
          "base_uri": "https://localhost:8080/"
        },
        "id": "6-23uk-88H6R",
        "outputId": "d72ca921-be29-49d8-c87b-d8e166529902"
      },
      "execution_count": null,
      "outputs": [
        {
          "output_type": "stream",
          "name": "stdout",
          "text": [
            "wget: missing URL\n",
            "Usage: wget [OPTION]... [URL]...\n",
            "\n",
            "Try `wget --help' for more options.\n"
          ]
        }
      ]
    },
    {
      "cell_type": "code",
      "source": [
        "import sqlite3\n",
        "import pandas as pd\n",
        "import json\n",
        "import pyspark.sql.functions as pysparkFunctions \n",
        "from pyspark.sql.functions import col\n",
        "os.system(\"python3 create_data.py\")"
      ],
      "metadata": {
        "id": "-wrNz_wMFTYI",
        "colab": {
          "base_uri": "https://localhost:8080/"
        },
        "outputId": "0fbd9e06-6653-412a-b7cf-329756ea18f7"
      },
      "execution_count": null,
      "outputs": [
        {
          "output_type": "execute_result",
          "data": {
            "text/plain": [
              "512"
            ]
          },
          "metadata": {},
          "execution_count": 148
        }
      ]
    },
    {
      "cell_type": "code",
      "source": [
        "## Datenbankdaten in Dataframe schreiben\n",
        "connection_obj = sqlite3.connect('Diddly_Squat_Farm.db')\n",
        "cursor_obj = connection_obj.cursor()\n",
        "\n",
        "# Tabelle Fields ausgeben\n",
        "for row in cursor_obj.execute('SELECT * FROM fields'):\n",
        "        print(row)\n",
        "\n",
        "# Tabelle Fields in Dataframe df_fields schreiben\n",
        "df_fields = pd.read_sql_query(\"SELECT * FROM fields\", connection_obj)\n",
        "print('\\n\\nDies ist das erzeugte Dataframe:\\n\\n', df_fields)\n",
        "\n",
        "connection_obj.close()"
      ],
      "metadata": {
        "colab": {
          "base_uri": "https://localhost:8080/"
        },
        "id": "ZS1ALDxs8KlI",
        "outputId": "81694947-40c9-441a-efca-09c20e09302b"
      },
      "execution_count": null,
      "outputs": [
        {
          "output_type": "stream",
          "name": "stdout",
          "text": [
            "(5, 'Barn Ground', 10)\n",
            "(6, 'Bank', 10)\n",
            "(7, 'Far Brossler', 20)\n",
            "\n",
            "\n",
            "Dies ist das erzeugte Dataframe:\n",
            "\n",
            "    field_id    field_name  area_in_sqm\n",
            "0         5   Barn Ground           10\n",
            "1         6          Bank           10\n",
            "2         7  Far Brossler           20\n"
          ]
        }
      ]
    },
    {
      "cell_type": "code",
      "source": [
        "## (Py)Spark starten\n",
        "\n",
        "from pyspark.sql import SparkSession\n",
        "spark = SparkSession.builder.getOrCreate()"
      ],
      "metadata": {
        "id": "tXYaSnOY8Wrv"
      },
      "execution_count": null,
      "outputs": []
    },
    {
      "cell_type": "code",
      "source": [
        "#DataFrame für Datenbank erzeugen\n",
        "df_fields= spark.createDataFrame(df_fields) \n",
        "df_fields.printSchema()\n",
        "df_fields.show()"
      ],
      "metadata": {
        "colab": {
          "base_uri": "https://localhost:8080/"
        },
        "id": "VkcrpdXUTkLT",
        "outputId": "e8904a73-6bea-4243-8da1-82f3531d5197"
      },
      "execution_count": null,
      "outputs": [
        {
          "output_type": "stream",
          "name": "stdout",
          "text": [
            "root\n",
            " |-- field_id: long (nullable = true)\n",
            " |-- field_name: string (nullable = true)\n",
            " |-- area_in_sqm: long (nullable = true)\n",
            "\n",
            "+--------+------------+-----------+\n",
            "|field_id|  field_name|area_in_sqm|\n",
            "+--------+------------+-----------+\n",
            "|       5| Barn Ground|         10|\n",
            "|       6|        Bank|         10|\n",
            "|       7|Far Brossler|         20|\n",
            "+--------+------------+-----------+\n",
            "\n"
          ]
        }
      ]
    },
    {
      "cell_type": "code",
      "source": [
        "## JSON-/CSV-Dateien in Dataframes schreiben\n",
        "df_fru = spark.read.options(header='True', multiline='True', inferSchema='True').csv('Fruits.csv')\n",
        "df_veg = spark.read.option(\"multiline\",True).json('Vegetables.json')\n",
        "\n",
        "# erstellte Dataframes ausgeben (10 Einträge ausgeben)\n",
        "df_fru.show(10)\n",
        "df_veg.show(10)"
      ],
      "metadata": {
        "colab": {
          "base_uri": "https://localhost:8080/"
        },
        "id": "AZYHXr5NFyyi",
        "outputId": "603ca4fe-9843-425e-df62-53a7d2d52a4f"
      },
      "execution_count": null,
      "outputs": [
        {
          "output_type": "stream",
          "name": "stdout",
          "text": [
            "+------------+-----+----+-----------------+-------+-------------+\n",
            "|        crop|field|week|water_consumption|revenue|yield_per_sqm|\n",
            "+------------+-----+----+-----------------+-------+-------------+\n",
            "|strawberries|    7|   1|               12|      0|            0|\n",
            "|strawberries|    7|   2|               10|      0|            0|\n",
            "|strawberries|    7|   3|               12|      0|            0|\n",
            "|strawberries|    7|   4|               14|      0|            0|\n",
            "|strawberries|    7|   5|               14|      0|            5|\n",
            "|strawberries|    7|   6|               18|     30|           10|\n",
            "|strawberries|    7|   1|               12|      0|            0|\n",
            "|strawberries|    7|   2|               10|      0|            0|\n",
            "|strawberries|    7|   3|               12|      0|            0|\n",
            "|strawberries|    7|   7|               20|     60|           25|\n",
            "+------------+-----+----+-----------------+-------+-------------+\n",
            "only showing top 10 rows\n",
            "\n",
            "+--------+-----+-------+-----------------+----+-------------+\n",
            "|    crop|field|revenue|water_consumption|week|yield_per_sqm|\n",
            "+--------+-----+-------+-----------------+----+-------------+\n",
            "|zucchini|    5| {0, 0}|                6|   1|            0|\n",
            "|  radish|    6| {0, 0}|                4|   1|            0|\n",
            "|zucchini|    5| {0, 0}|                5|   2|            0|\n",
            "|  radish|    6| {0, 0}|                4|   2|            0|\n",
            "|zucchini|    5| {0, 0}|                6|   3|            0|\n",
            "|  radish|    6| {0, 0}|                5|   3|            0|\n",
            "|zucchini|    5| {0, 0}|                7|   4|            0|\n",
            "|  radish|    6| {0, 0}|                3|   4|            0|\n",
            "|zucchini|    5| {0, 0}|                7|   5|            5|\n",
            "|  radish|    6| {0, 0}|                6|   5|            0|\n",
            "+--------+-----+-------+-----------------+----+-------------+\n",
            "only showing top 10 rows\n",
            "\n"
          ]
        }
      ]
    },
    {
      "cell_type": "code",
      "source": [
        "df_veg_correct_revenue = df_veg.withColumn(\"revenue\", pysparkFunctions.column(\"revenue.net\"))\n",
        "df_veg_correct_revenue.show(5)\n",
        "\n",
        "df_fru_veg = df_fru.union(df_veg_correct_revenue)\n",
        "df_fru_veg.show()"
      ],
      "metadata": {
        "colab": {
          "base_uri": "https://localhost:8080/"
        },
        "id": "dCD--Cn7-JBU",
        "outputId": "ec812f89-596f-42f3-ee34-a6d67133137b"
      },
      "execution_count": null,
      "outputs": [
        {
          "output_type": "stream",
          "name": "stdout",
          "text": [
            "+--------+-----+-------+-----------------+----+-------------+\n",
            "|    crop|field|revenue|water_consumption|week|yield_per_sqm|\n",
            "+--------+-----+-------+-----------------+----+-------------+\n",
            "|zucchini|    5|      0|                6|   1|            0|\n",
            "|  radish|    6|      0|                4|   1|            0|\n",
            "|zucchini|    5|      0|                5|   2|            0|\n",
            "|  radish|    6|      0|                4|   2|            0|\n",
            "|zucchini|    5|      0|                6|   3|            0|\n",
            "+--------+-----+-------+-----------------+----+-------------+\n",
            "only showing top 5 rows\n",
            "\n",
            "+------------+-----+----+-----------------+-------+-------------+\n",
            "|        crop|field|week|water_consumption|revenue|yield_per_sqm|\n",
            "+------------+-----+----+-----------------+-------+-------------+\n",
            "|strawberries|    7|   1|               12|      0|            0|\n",
            "|strawberries|    7|   2|               10|      0|            0|\n",
            "|strawberries|    7|   3|               12|      0|            0|\n",
            "|strawberries|    7|   4|               14|      0|            0|\n",
            "|strawberries|    7|   5|               14|      0|            5|\n",
            "|strawberries|    7|   6|               18|     30|           10|\n",
            "|strawberries|    7|   1|               12|      0|            0|\n",
            "|strawberries|    7|   2|               10|      0|            0|\n",
            "|strawberries|    7|   3|               12|      0|            0|\n",
            "|strawberries|    7|   7|               20|     60|           25|\n",
            "|strawberries|    7|   8|               26|    150|           25|\n",
            "|strawberries|    7|   9|               24|    150|           25|\n",
            "|strawberries|    7|  10|               10|    100|           25|\n",
            "|strawberries|    7|  11|             null|    150|            0|\n",
            "|    zucchini|    5|   0|                6|      1|            0|\n",
            "|      radish|    6|   0|                4|      1|            0|\n",
            "|    zucchini|    5|   0|                5|      2|            0|\n",
            "|      radish|    6|   0|                4|      2|            0|\n",
            "|    zucchini|    5|   0|                6|      3|            0|\n",
            "|      radish|    6|   0|                5|      3|            0|\n",
            "+------------+-----+----+-----------------+-------+-------------+\n",
            "only showing top 20 rows\n",
            "\n"
          ]
        }
      ]
    },
    {
      "cell_type": "code",
      "source": [
        "df_fru_veg = df_fru_veg.dropDuplicates()\n",
        "df_fru_veg.show(20)"
      ],
      "metadata": {
        "colab": {
          "base_uri": "https://localhost:8080/"
        },
        "id": "LkG86G7hGoLm",
        "outputId": "09d38bee-aec1-4937-d144-fa1a7b923564"
      },
      "execution_count": null,
      "outputs": [
        {
          "output_type": "stream",
          "name": "stdout",
          "text": [
            "+------------+-----+----+-----------------+-------+-------------+\n",
            "|        crop|field|week|water_consumption|revenue|yield_per_sqm|\n",
            "+------------+-----+----+-----------------+-------+-------------+\n",
            "|strawberries|    7|   5|               14|      0|            5|\n",
            "|strawberries|    7|   7|               20|     60|           25|\n",
            "|strawberries|    7|   9|               24|    150|           25|\n",
            "|strawberries|    7|   2|               10|      0|            0|\n",
            "|strawberries|    7|   6|               18|     30|           10|\n",
            "|strawberries|    7|   8|               26|    150|           25|\n",
            "|strawberries|    7|  11|             null|    150|            0|\n",
            "|strawberries|    7|   3|               12|      0|            0|\n",
            "|strawberries|    7|  10|               10|    100|           25|\n",
            "|strawberries|    7|   4|               14|      0|            0|\n",
            "|strawberries|    7|   1|               12|      0|            0|\n",
            "|        null| null|null|             null|   null|         null|\n",
            "+------------+-----+----+-----------------+-------+-------------+\n",
            "\n"
          ]
        }
      ]
    },
    {
      "cell_type": "markdown",
      "source": [
        "# Transformationen für Fortgeschrittene"
      ],
      "metadata": {
        "id": "FiieohenG2Bm"
      }
    },
    {
      "cell_type": "markdown",
      "source": [
        "Damit Jeremy sich weitere Inforamtionen aus den Daten beschaffen kann,muss er sich erneut einen Überblick verschaffen. "
      ],
      "metadata": {
        "id": "kOP_N92hHCDy"
      }
    },
    {
      "cell_type": "code",
      "source": [
        "df_fields.show(10)\n",
        "df_fru_veg.show(30)\n"
      ],
      "metadata": {
        "id": "GawHQ1z_G9I6",
        "colab": {
          "base_uri": "https://localhost:8080/"
        },
        "outputId": "b04826c5-59ba-4a0c-9e50-50255acf76ee"
      },
      "execution_count": null,
      "outputs": [
        {
          "output_type": "stream",
          "name": "stdout",
          "text": [
            "+--------+------------+-----------+\n",
            "|field_id|  field_name|area_in_sqm|\n",
            "+--------+------------+-----------+\n",
            "|       5| Barn Ground|         10|\n",
            "|       6|        Bank|         10|\n",
            "|       7|Far Brossler|         20|\n",
            "+--------+------------+-----------+\n",
            "\n",
            "+------------+-----+----+-----------------+-------+-------------+\n",
            "|        crop|field|week|water_consumption|revenue|yield_per_sqm|\n",
            "+------------+-----+----+-----------------+-------+-------------+\n",
            "|strawberries|    7|   1|               12|      0|            0|\n",
            "|strawberries|    7|   2|               10|      0|            0|\n",
            "|strawberries|    7|   3|               12|      0|            0|\n",
            "|strawberries|    7|   4|               14|      0|            0|\n",
            "|strawberries|    7|   5|               14|      0|            5|\n",
            "|strawberries|    7|   6|               18|     30|           10|\n",
            "|strawberries|    7|   1|               12|      0|            0|\n",
            "|strawberries|    7|   2|               10|      0|            0|\n",
            "|strawberries|    7|   3|               12|      0|            0|\n",
            "|strawberries|    7|   7|               20|     60|           25|\n",
            "|strawberries|    7|   8|               26|    150|           25|\n",
            "|strawberries|    7|   9|               24|    150|           25|\n",
            "|strawberries|    7|  10|               10|    100|           25|\n",
            "|strawberries|    7|  11|             null|    150|            0|\n",
            "|    zucchini|    5|   0|                6|      1|            0|\n",
            "|      radish|    6|   0|                4|      1|            0|\n",
            "|    zucchini|    5|   0|                5|      2|            0|\n",
            "|      radish|    6|   0|                4|      2|            0|\n",
            "|    zucchini|    5|   0|                6|      3|            0|\n",
            "|      radish|    6|   0|                5|      3|            0|\n",
            "|    zucchini|    5|   0|                7|      4|            0|\n",
            "|      radish|    6|   0|                3|      4|            0|\n",
            "|    zucchini|    5|   0|                7|      5|            5|\n",
            "|      radish|    6|   0|                6|      5|            0|\n",
            "|    zucchini|    5|   8|                9|      6|           10|\n",
            "|      radish|    6|   0|                7|      1|            0|\n",
            "|    zucchini|    5|  16|               10|      7|           25|\n",
            "|      radish|    6|  32|                8|      7|          160|\n",
            "|    zucchini|    5|  40|               13|      8|           25|\n",
            "|      radish|    6|  50|                8|      8|          240|\n",
            "+------------+-----+----+-----------------+-------+-------------+\n",
            "only showing top 30 rows\n",
            "\n"
          ]
        }
      ]
    },
    {
      "cell_type": "markdown",
      "source": [
        "Für die kommenden Wochen ist mit erhöhten Niederschlägen zu rechnen. Um zuwissen wann es sich lohnt die Felder zu bewässern, will sich Jeremy einen Überblick über die Durchschnittliche Wassermenge pro Woche verschaffen."
      ],
      "metadata": {
        "id": "QgDG4e1JcNV2"
      }
    },
    {
      "cell_type": "code",
      "source": [
        "\n",
        "df_alles_was_angebaut_wird = df_fru_veg.groupBy(\"week\").agg(func.avg(\"water_consumption\"))\n",
        "df_alles_was_angebaut_wird.show()\n"
      ],
      "metadata": {
        "colab": {
          "base_uri": "https://localhost:8080/"
        },
        "id": "rwblOPantv6c",
        "outputId": "180bbc46-bdd8-4206-b793-4a75d91e0999"
      },
      "execution_count": null,
      "outputs": [
        {
          "output_type": "stream",
          "name": "stdout",
          "text": [
            "+----+----------------------+\n",
            "|week|avg(water_consumption)|\n",
            "+----+----------------------+\n",
            "|   7|                  20.0|\n",
            "|   6|                  18.0|\n",
            "|   9|                  24.0|\n",
            "|   5|                  14.0|\n",
            "|   1|                  12.0|\n",
            "|  10|                  10.0|\n",
            "|   3|                  12.0|\n",
            "|   8|                  17.5|\n",
            "|  11|                  null|\n",
            "|   2|                  10.0|\n",
            "|   4|                  14.0|\n",
            "|   0|     5.454545454545454|\n",
            "|  50|                   8.0|\n",
            "|  32|                   8.0|\n",
            "|  40|                  10.0|\n",
            "|  16|                  10.0|\n",
            "+----+----------------------+\n",
            "\n"
          ]
        }
      ]
    },
    {
      "cell_type": "code",
      "source": [
        "#Gesamter Wasserverbrauch pro Pflanze aufsummieren Beispiel GroupBy\n",
        "gesamt_verbrauch =  df_fru_veg.groupBy(\"crop\").agg(func.sum(\"water_consumption\"))\n",
        "gesamt_verbrauch.show()"
      ],
      "metadata": {
        "colab": {
          "base_uri": "https://localhost:8080/"
        },
        "id": "i4FhWIAwN-Zw",
        "outputId": "0d78f67e-1235-4459-bf54-cd499935f677"
      },
      "execution_count": null,
      "outputs": [
        {
          "output_type": "stream",
          "name": "stdout",
          "text": [
            "+------------+----------------------+\n",
            "|        crop|sum(water_consumption)|\n",
            "+------------+----------------------+\n",
            "|strawberries|                   194|\n",
            "|    zucchini|                    80|\n",
            "|      radish|                    45|\n",
            "+------------+----------------------+\n",
            "\n"
          ]
        }
      ]
    },
    {
      "cell_type": "markdown",
      "source": [
        "als nächstes Folgen die Beispiel für die Join Bedingung"
      ],
      "metadata": {
        "id": "Mc2M1zTVRKn-"
      }
    },
    {
      "cell_type": "code",
      "source": [
        "#Beispiel JOIN\n",
        "#Nun will Jeremy wieviele Pflanzen er auf jedem Feld anbauen kann  \n",
        "\n",
        "gesamt_join = df_fru_veg.join(df_fields, df_fru_veg.field ==  df_fields.field_id,\"inner\")\n",
        "gesamt_join.show(30)"
      ],
      "metadata": {
        "colab": {
          "base_uri": "https://localhost:8080/"
        },
        "id": "t2xewOjSP5fh",
        "outputId": "55c2ab53-1269-413a-94b6-da3ebf49e684"
      },
      "execution_count": null,
      "outputs": [
        {
          "output_type": "stream",
          "name": "stdout",
          "text": [
            "+------------+-----+----+-----------------+-------+-------------+--------+------------+-----------+\n",
            "|        crop|field|week|water_consumption|revenue|yield_per_sqm|field_id|  field_name|area_in_sqm|\n",
            "+------------+-----+----+-----------------+-------+-------------+--------+------------+-----------+\n",
            "|    zucchini|    5|  40|             null|     11|            0|       5| Barn Ground|         10|\n",
            "|    zucchini|    5|  40|                5|     10|           25|       5| Barn Ground|         10|\n",
            "|    zucchini|    5|  40|               12|      9|           25|       5| Barn Ground|         10|\n",
            "|    zucchini|    5|  40|               13|      8|           25|       5| Barn Ground|         10|\n",
            "|    zucchini|    5|  16|               10|      7|           25|       5| Barn Ground|         10|\n",
            "|    zucchini|    5|   8|                9|      6|           10|       5| Barn Ground|         10|\n",
            "|    zucchini|    5|   0|                7|      5|            5|       5| Barn Ground|         10|\n",
            "|    zucchini|    5|   0|                7|      4|            0|       5| Barn Ground|         10|\n",
            "|    zucchini|    5|   0|                6|      3|            0|       5| Barn Ground|         10|\n",
            "|    zucchini|    5|   0|                5|      2|            0|       5| Barn Ground|         10|\n",
            "|    zucchini|    5|   0|                6|      1|            0|       5| Barn Ground|         10|\n",
            "|      radish|    6|  50|             null|      1|            0|       6|        Bank|         10|\n",
            "|      radish|    6|  50|                8|      8|          240|       6|        Bank|         10|\n",
            "|      radish|    6|  32|                8|      7|          160|       6|        Bank|         10|\n",
            "|      radish|    6|   0|                7|      1|            0|       6|        Bank|         10|\n",
            "|      radish|    6|   0|                6|      5|            0|       6|        Bank|         10|\n",
            "|      radish|    6|   0|                3|      4|            0|       6|        Bank|         10|\n",
            "|      radish|    6|   0|                5|      3|            0|       6|        Bank|         10|\n",
            "|      radish|    6|   0|                4|      2|            0|       6|        Bank|         10|\n",
            "|      radish|    6|   0|                4|      1|            0|       6|        Bank|         10|\n",
            "|strawberries|    7|  11|             null|    150|            0|       7|Far Brossler|         20|\n",
            "|strawberries|    7|  10|               10|    100|           25|       7|Far Brossler|         20|\n",
            "|strawberries|    7|   9|               24|    150|           25|       7|Far Brossler|         20|\n",
            "|strawberries|    7|   8|               26|    150|           25|       7|Far Brossler|         20|\n",
            "|strawberries|    7|   7|               20|     60|           25|       7|Far Brossler|         20|\n",
            "|strawberries|    7|   3|               12|      0|            0|       7|Far Brossler|         20|\n",
            "|strawberries|    7|   2|               10|      0|            0|       7|Far Brossler|         20|\n",
            "|strawberries|    7|   1|               12|      0|            0|       7|Far Brossler|         20|\n",
            "|strawberries|    7|   6|               18|     30|           10|       7|Far Brossler|         20|\n",
            "|strawberries|    7|   5|               14|      0|            5|       7|Far Brossler|         20|\n",
            "+------------+-----+----+-----------------+-------+-------------+--------+------------+-----------+\n",
            "only showing top 30 rows\n",
            "\n"
          ]
        }
      ]
    },
    {
      "cell_type": "code",
      "source": [
        "\n",
        "gesamt_join = gesamt_join.withColumn(\"yield_per_area\", col(\"yield_per_sqm\") * col(\"area_in_sqm\"))\n",
        "gesamt_join.show()\n"
      ],
      "metadata": {
        "colab": {
          "base_uri": "https://localhost:8080/"
        },
        "id": "IhIzI39pWm5n",
        "outputId": "e33836e9-6003-45cd-8676-784c080d2f5f"
      },
      "execution_count": null,
      "outputs": [
        {
          "output_type": "stream",
          "name": "stdout",
          "text": [
            "+--------+-----+----+-----------------+-------+-------------+--------+-----------+-----------+--------------+\n",
            "|    crop|field|week|water_consumption|revenue|yield_per_sqm|field_id| field_name|area_in_sqm|yield_per_area|\n",
            "+--------+-----+----+-----------------+-------+-------------+--------+-----------+-----------+--------------+\n",
            "|zucchini|    5|  40|             null|     11|            0|       5|Barn Ground|         10|             0|\n",
            "|zucchini|    5|  40|                5|     10|           25|       5|Barn Ground|         10|           250|\n",
            "|zucchini|    5|  40|               12|      9|           25|       5|Barn Ground|         10|           250|\n",
            "|zucchini|    5|  40|               13|      8|           25|       5|Barn Ground|         10|           250|\n",
            "|zucchini|    5|  16|               10|      7|           25|       5|Barn Ground|         10|           250|\n",
            "|zucchini|    5|   8|                9|      6|           10|       5|Barn Ground|         10|           100|\n",
            "|zucchini|    5|   0|                7|      5|            5|       5|Barn Ground|         10|            50|\n",
            "|zucchini|    5|   0|                7|      4|            0|       5|Barn Ground|         10|             0|\n",
            "|zucchini|    5|   0|                6|      3|            0|       5|Barn Ground|         10|             0|\n",
            "|zucchini|    5|   0|                5|      2|            0|       5|Barn Ground|         10|             0|\n",
            "|zucchini|    5|   0|                6|      1|            0|       5|Barn Ground|         10|             0|\n",
            "|  radish|    6|  50|             null|      1|            0|       6|       Bank|         10|             0|\n",
            "|  radish|    6|  50|                8|      8|          240|       6|       Bank|         10|          2400|\n",
            "|  radish|    6|  32|                8|      7|          160|       6|       Bank|         10|          1600|\n",
            "|  radish|    6|   0|                7|      1|            0|       6|       Bank|         10|             0|\n",
            "|  radish|    6|   0|                6|      5|            0|       6|       Bank|         10|             0|\n",
            "|  radish|    6|   0|                3|      4|            0|       6|       Bank|         10|             0|\n",
            "|  radish|    6|   0|                5|      3|            0|       6|       Bank|         10|             0|\n",
            "|  radish|    6|   0|                4|      2|            0|       6|       Bank|         10|             0|\n",
            "|  radish|    6|   0|                4|      1|            0|       6|       Bank|         10|             0|\n",
            "+--------+-----+----+-----------------+-------+-------------+--------+-----------+-----------+--------------+\n",
            "only showing top 20 rows\n",
            "\n"
          ]
        }
      ]
    },
    {
      "cell_type": "code",
      "source": [
        "#Nachdem der Ertrag für die einzelnen Gemüse- oder Obstsorten ermittelt wurde müssen wir noch unseren Netto gewinn für die einzelnen Sachen berechenen.\n",
        "gesamt_ertrag =  gesamt_join.groupBy(\"crop\").agg(func.sum(\"yield_per_area\"), func.sum(\"water_consumption\"))\n",
        "gesamt_ertrag = gesamt_ertrag.select(col(\"crop\").alias(\"Crop\"),col(\"sum(water_consumption)\").alias(\"water_consumption\"), col(\"sum(yield_per_area)\").alias(\"yield_per_area\"))\n",
        "gesamt_ertrag.show()\n"
      ],
      "metadata": {
        "colab": {
          "base_uri": "https://localhost:8080/"
        },
        "id": "V4RDD2cjohoE",
        "outputId": "98d67f09-a6f3-4d00-f328-c0736976f172"
      },
      "execution_count": null,
      "outputs": [
        {
          "output_type": "stream",
          "name": "stdout",
          "text": [
            "+------------+-----------------+--------------+\n",
            "|        Crop|water_consumption|yield_per_area|\n",
            "+------------+-----------------+--------------+\n",
            "|    zucchini|               80|          1150|\n",
            "|strawberries|              194|          2300|\n",
            "|      radish|               45|          4000|\n",
            "+------------+-----------------+--------------+\n",
            "\n"
          ]
        }
      ]
    },
    {
      "cell_type": "markdown",
      "source": [
        "Hierfür benötogen wir die zuvor ermittelten Liter je Sorte welche wir mit dem Wert von 20Cent verrechnen müssen um die gesanten Bewässerungskosten zu erhalten."
      ],
      "metadata": {
        "id": "9Ar2YentoKEd"
      }
    },
    {
      "cell_type": "code",
      "source": [
        "gesamt_ertrag = gesamt_ertrag.withColumn(\"netto_yield_per_area\",col(\"yield_per_area\") - (col(\"water_consumption\")* 0.2))\n",
        "df3 = gesamt_ertrag.withColumn(\"netto_yield_per_area\", func.round(gesamt_ertrag[\"netto_yield_per_area\"], 2))\n",
        "df3.show()"
      ],
      "metadata": {
        "colab": {
          "base_uri": "https://localhost:8080/"
        },
        "id": "XVOAD7ORwnMl",
        "outputId": "1b619c98-dea3-4c64-fce7-51cc09ee5890"
      },
      "execution_count": null,
      "outputs": [
        {
          "output_type": "stream",
          "name": "stdout",
          "text": [
            "+------------+-----------------+--------------+--------------------+\n",
            "|        Crop|water_consumption|yield_per_area|netto_yield_per_area|\n",
            "+------------+-----------------+--------------+--------------------+\n",
            "|    zucchini|               80|          1150|              1134.0|\n",
            "|strawberries|              194|          2300|              2261.2|\n",
            "|      radish|               45|          4000|              3991.0|\n",
            "+------------+-----------------+--------------+--------------------+\n",
            "\n"
          ]
        }
      ]
    },
    {
      "cell_type": "code",
      "source": [
        "df3.orderBy(col(\"netto_yield_per_area\").desc()).show(truncate=False)\n",
        "\n"
      ],
      "metadata": {
        "colab": {
          "base_uri": "https://localhost:8080/"
        },
        "id": "vCPCxXQB1OZW",
        "outputId": "2e07cd5c-cc48-474f-c4d0-1455c0d74d1e"
      },
      "execution_count": null,
      "outputs": [
        {
          "output_type": "stream",
          "name": "stdout",
          "text": [
            "+------------+-----------------+--------------+--------------------+\n",
            "|Crop        |water_consumption|yield_per_area|netto_yield_per_area|\n",
            "+------------+-----------------+--------------+--------------------+\n",
            "|radish      |45               |4000          |3991.0              |\n",
            "|strawberries|194              |2300          |2261.2              |\n",
            "|zucchini    |80               |1150          |1134.0              |\n",
            "+------------+-----------------+--------------+--------------------+\n",
            "\n"
          ]
        }
      ]
    },
    {
      "cell_type": "markdown",
      "source": [
        "Nun mach ich noch irgendwas anderes und dann sollte das wenigstens für heute passen "
      ],
      "metadata": {
        "id": "dR-TzO-IiRZc"
      }
    }
  ]
}