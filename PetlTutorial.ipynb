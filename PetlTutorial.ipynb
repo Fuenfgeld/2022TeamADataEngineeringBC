{
  "nbformat": 4,
  "nbformat_minor": 0,
  "metadata": {
    "colab": {
      "name": "PetlTutorial.ipynb",
      "provenance": [],
      "collapsed_sections": [],
      "include_colab_link": true
    },
    "kernelspec": {
      "name": "python3",
      "display_name": "Python 3"
    },
    "language_info": {
      "name": "python"
    }
  },
  "cells": [
    {
      "cell_type": "markdown",
      "metadata": {
        "id": "view-in-github",
        "colab_type": "text"
      },
      "source": [
        "<a href=\"https://colab.research.google.com/github/Fuenfgeld/2022TeamADataEngineeringBC/blob/6-%C3%BCbung-json-csv-dateien-einlesen/PetlTutorial.ipynb\" target=\"_parent\"><img src=\"https://colab.research.google.com/assets/colab-badge.svg\" alt=\"Open In Colab\"/></a>"
      ]
    },
    {
      "cell_type": "markdown",
      "source": [
        "#Tutorial PETL\n",
        "` petl ` is a general purpose Python package for implementing ETL (Extract, Transform, Load) workflows in Python. In this tutorial you will learn how to use `petl` to extract data from different sources into, so called **tables**. A **table** contains rows and columns which can be transformed based on user given criteria. The transformed **table** can the be loaded into another database for further usage. "
      ],
      "metadata": {
        "id": "_5wBitcHDdM9"
      }
    },
    {
      "cell_type": "markdown",
      "source": [
        "##Table of Contents\n",
        "\n",
        "\n",
        "1.   Creating our first table.\n",
        "2.   Basic transformations.\n",
        "3.   Selecting Rows.\n",
        "5.   Filling Missing Values.\n",
        "6.   Deduplicating Rows.\n",
        "7.   Reshaping tables.\n",
        "8.   Importing and exporting tables."
      ],
      "metadata": {
        "id": "9E2uUAb6J6GG"
      }
    },
    {
      "cell_type": "markdown",
      "source": [
        "##1. Creating our first table\n",
        "\n",
        "We will create our first table from a linked list. Since `petl` is not part of the standard python library we will install it first via pip."
      ],
      "metadata": {
        "id": "N6Arix2_N2mP"
      }
    },
    {
      "cell_type": "code",
      "source": [
        "pip install petl"
      ],
      "metadata": {
        "colab": {
          "base_uri": "https://localhost:8080/"
        },
        "id": "avoK0xnxYtS0",
        "outputId": "c3852053-2f18-4dff-ea62-096a08783411"
      },
      "execution_count": null,
      "outputs": [
        {
          "output_type": "stream",
          "name": "stdout",
          "text": [
            "Collecting petl\n",
            "  Downloading petl-1.7.8.tar.gz (401 kB)\n",
            "\u001b[K     |████████████████████████████████| 401 kB 5.2 MB/s \n",
            "\u001b[?25h  Installing build dependencies ... \u001b[?25l\u001b[?25hdone\n",
            "  Getting requirements to build wheel ... \u001b[?25l\u001b[?25hdone\n",
            "    Preparing wheel metadata ... \u001b[?25l\u001b[?25hdone\n",
            "Building wheels for collected packages: petl\n",
            "  Building wheel for petl (PEP 517) ... \u001b[?25l\u001b[?25hdone\n",
            "  Created wheel for petl: filename=petl-1.7.8-py3-none-any.whl size=219365 sha256=df39861e3722eb032ff9107f74d5fb60ef53491825024c83e9b3d05212f076cb\n",
            "  Stored in directory: /root/.cache/pip/wheels/fe/3d/5c/e10ec10f8988404563318132cbd9d37f5798198dfbe4d5f12f\n",
            "Successfully built petl\n",
            "Installing collected packages: petl\n",
            "Successfully installed petl-1.7.8\n"
          ]
        }
      ]
    },
    {
      "cell_type": "code",
      "source": [
        "import petl as etl\n",
        "etl.__version__"
      ],
      "metadata": {
        "colab": {
          "base_uri": "https://localhost:8080/",
          "height": 36
        },
        "id": "E4PoIkr_Yx6e",
        "outputId": "ab74b5a4-9b61-4d4f-fd53-f60aafa30bd1"
      },
      "execution_count": null,
      "outputs": [
        {
          "output_type": "execute_result",
          "data": {
            "text/plain": [
              "'1.7.8'"
            ],
            "application/vnd.google.colaboratory.intrinsic+json": {
              "type": "string"
            }
          },
          "metadata": {},
          "execution_count": 2
        }
      ]
    },
    {
      "cell_type": "markdown",
      "source": [
        "Now we can run the code below to create a toy example. For the table to be transformed into an object recognized by `petl`, we have to apply the `.convert()` method to it."
      ],
      "metadata": {
        "id": "i-6dtrX-w-Ge"
      }
    },
    {
      "cell_type": "code",
      "source": [
        "table1 = [[\"foo\",\"bar\",\"baz\"],\n",
        "          [\"a\"  ,  1  ,  3.4],\n",
        "          [\"b\"  ,  2  ,  7.4],\n",
        "          [\"c\"  ,  6  ,  2.2],\n",
        "          [\"d\"  ,  9  ,  8.1]]\n",
        "\n",
        "print(f\"Type before transformation: {type(table1)}\\n\")\n",
        "table1 = etl.convert(table1)\n",
        "print(f\"Type after transformation: {type(table1)}\\n\")\n",
        "\n",
        "# .look() method enables us to visualize the table nicely.\n",
        "table1.look()"
      ],
      "metadata": {
        "id": "wcTr5ELnYG54",
        "outputId": "8772628e-ddb6-4b85-e8c6-7dde07a8a8b7",
        "colab": {
          "base_uri": "https://localhost:8080/"
        }
      },
      "execution_count": null,
      "outputs": [
        {
          "output_type": "stream",
          "name": "stdout",
          "text": [
            "Type before transformation: <class 'list'>\n",
            "\n",
            "Type after transformation: <class 'petl.transform.conversions.FieldConvertView'>\n",
            "\n"
          ]
        },
        {
          "output_type": "execute_result",
          "data": {
            "text/plain": [
              "+-----+-----+-----+\n",
              "| foo | bar | baz |\n",
              "+=====+=====+=====+\n",
              "| 'a' |   1 | 3.4 |\n",
              "+-----+-----+-----+\n",
              "| 'b' |   2 | 7.4 |\n",
              "+-----+-----+-----+\n",
              "| 'c' |   6 | 2.2 |\n",
              "+-----+-----+-----+\n",
              "| 'd' |   9 | 8.1 |\n",
              "+-----+-----+-----+"
            ]
          },
          "metadata": {},
          "execution_count": 120
        }
      ]
    },
    {
      "cell_type": "markdown",
      "source": [
        "Now that you know how to create a table in `petl` we move on to the second chapter where we are going to see how to add and remove parts it."
      ],
      "metadata": {
        "id": "Iy1BAyzuWmti"
      }
    },
    {
      "cell_type": "markdown",
      "source": [
        "##1.2 Importing json and csv files and converting them to tables\n",
        "\n",
        "We can also import json-files with the command `etl.fromjson` or csv-files with `etl.fromcsv` as shown below."
      ],
      "metadata": {
        "id": "7-WYgHjnG6D4"
      }
    },
    {
      "cell_type": "code",
      "source": [
        "# convert json file to petl-table\n",
        "table2 = etl.fromjson(\"https://raw.githubusercontent.com/Fuenfgeld/2022TeamADataEngineeringBC/6-%C3%BCbung-json-csv-dateien-einlesen/iris.json\")\n",
        "print(table2)\n",
        "\n",
        "table3 = etl.fromcsv(\"https://raw.githubusercontent.com/Fuenfgeld/2022TeamADataEngineeringBC/6-%C3%BCbung-json-csv-dateien-einlesen/iris.csv\")\n",
        "print(table3)\n"
      ],
      "metadata": {
        "id": "QQkzAJe-G82x",
        "colab": {
          "base_uri": "https://localhost:8080/"
        },
        "outputId": "01e4f667-977f-4d92-b673-2d5ed73d1c53"
      },
      "execution_count": null,
      "outputs": [
        {
          "output_type": "stream",
          "name": "stdout",
          "text": [
            "+-------------+------------+-------------+------------+---------+\n",
            "| sepalLength | sepalWidth | petalLength | petalWidth | species |\n",
            "+=============+============+=============+============+=========+\n",
            "|         5.1 |        3.5 |         1.4 |        0.2 | setosa  |\n",
            "+-------------+------------+-------------+------------+---------+\n",
            "|         4.9 |        3.0 |         1.4 |        0.2 | setosa  |\n",
            "+-------------+------------+-------------+------------+---------+\n",
            "|         4.7 |        3.2 |         1.3 |        0.2 | setosa  |\n",
            "+-------------+------------+-------------+------------+---------+\n",
            "|         4.6 |        3.1 |         1.5 |        0.2 | setosa  |\n",
            "+-------------+------------+-------------+------------+---------+\n",
            "|         5.0 |        3.6 |         1.4 |        0.2 | setosa  |\n",
            "+-------------+------------+-------------+------------+---------+\n",
            "...\n",
            "\n",
            "+--------------+-------------+--------------+-------------+---------+\n",
            "| sepal.length | sepal.width | petal.length | petal.width | variety |\n",
            "+==============+=============+==============+=============+=========+\n",
            "| 5.1          | 3.5         | 1.4          | .2          | Setosa  |\n",
            "+--------------+-------------+--------------+-------------+---------+\n",
            "| 4.9          | 3           | 1.4          | .2          | Setosa  |\n",
            "+--------------+-------------+--------------+-------------+---------+\n",
            "| 4.7          | 3.2         | 1.3          | .2          | Setosa  |\n",
            "+--------------+-------------+--------------+-------------+---------+\n",
            "| 4.6          | 3.1         | 1.5          | .2          | Setosa  |\n",
            "+--------------+-------------+--------------+-------------+---------+\n",
            "| 5            | 3.6         | 1.4          | .2          | Setosa  |\n",
            "+--------------+-------------+--------------+-------------+---------+\n",
            "...\n",
            "\n"
          ]
        }
      ]
    },
    {
      "cell_type": "markdown",
      "source": [
        "##2. Basic transformations\n",
        "Some of the most basic functionalities of tables are that we can access specific chunks of the tables rows and columns as well as new rows and columns."
      ],
      "metadata": {
        "id": "kGvXQPqvRLHd"
      }
    },
    {
      "cell_type": "markdown",
      "source": [
        "If we want to access only part of the rows we can use `.rowslice()` to choose which rows to keep."
      ],
      "metadata": {
        "id": "fxJsGtARP19Q"
      }
    },
    {
      "cell_type": "code",
      "source": [
        "etl.rowslice(table1, 1, 4).look()"
      ],
      "metadata": {
        "id": "7CvoFZxhYmCI",
        "outputId": "36029f62-cf8b-439d-f672-306f9c6b4df6",
        "colab": {
          "base_uri": "https://localhost:8080/"
        }
      },
      "execution_count": null,
      "outputs": [
        {
          "output_type": "execute_result",
          "data": {
            "text/plain": [
              "+-----+-----+-----+\n",
              "| foo | bar | baz |\n",
              "+=====+=====+=====+\n",
              "| 'b' |   2 | 7.4 |\n",
              "+-----+-----+-----+\n",
              "| 'c' |   6 | 2.2 |\n",
              "+-----+-----+-----+\n",
              "| 'd' |   9 | 8.1 |\n",
              "+-----+-----+-----+"
            ]
          },
          "metadata": {},
          "execution_count": 102
        }
      ]
    },
    {
      "cell_type": "markdown",
      "source": [
        "If we want to access only certain columns we can use `.cut()`."
      ],
      "metadata": {
        "id": "cTkD1djwQUT2"
      }
    },
    {
      "cell_type": "code",
      "source": [
        "etl.cut(table1,'foo','baz').look()"
      ],
      "metadata": {
        "colab": {
          "base_uri": "https://localhost:8080/"
        },
        "id": "TZSqOKIXZpAe",
        "outputId": "95577850-824c-4b3c-b33b-9c2b2d9d581d"
      },
      "execution_count": null,
      "outputs": [
        {
          "output_type": "execute_result",
          "data": {
            "text/plain": [
              "+-----+-----+\n",
              "| foo | baz |\n",
              "+=====+=====+\n",
              "| 'a' | 3.4 |\n",
              "+-----+-----+\n",
              "| 'b' | 7.4 |\n",
              "+-----+-----+\n",
              "| 'c' | 2.2 |\n",
              "+-----+-----+\n",
              "| 'd' | 8.1 |\n",
              "+-----+-----+"
            ]
          },
          "metadata": {},
          "execution_count": 103
        }
      ]
    },
    {
      "cell_type": "markdown",
      "source": [
        "Suppose we have similar datasets from multiple sources. Wouldn't it be practical to combine them into one table ? `petl` provides such a funcionality via the `.cat()` method which stands for concatenation."
      ],
      "metadata": {
        "id": "aE-KkIKGR6Xx"
      }
    },
    {
      "cell_type": "code",
      "source": [
        "table2 = [[\"foo\",\"bar\",\"baz\"],\n",
        "          [\"e\"  ,  2  ,  5.5],\n",
        "          [\"f\"  ,  7  ,  8.4]]\n",
        "\n",
        "table3 = etl.cat(table1, table2)\n",
        "table3.look()"
      ],
      "metadata": {
        "id": "Y6fTncLt55Q6",
        "outputId": "bd92fa63-e064-4ac6-9050-d6d7171f3cfa",
        "colab": {
          "base_uri": "https://localhost:8080/"
        }
      },
      "execution_count": null,
      "outputs": [
        {
          "output_type": "execute_result",
          "data": {
            "text/plain": [
              "+-----+-----+-----+\n",
              "| foo | bar | baz |\n",
              "+=====+=====+=====+\n",
              "| 'a' |   1 | 3.4 |\n",
              "+-----+-----+-----+\n",
              "| 'b' |   2 | 7.4 |\n",
              "+-----+-----+-----+\n",
              "| 'c' |   6 | 2.2 |\n",
              "+-----+-----+-----+\n",
              "| 'd' |   9 | 8.1 |\n",
              "+-----+-----+-----+\n",
              "| 'e' |   2 | 5.5 |\n",
              "+-----+-----+-----+\n",
              "..."
            ]
          },
          "metadata": {},
          "execution_count": 104
        }
      ]
    },
    {
      "cell_type": "markdown",
      "source": [
        "In case we want to add columns we can do so via the `.addcolumn()` method. Note that we have to specify the name of the column `\"zoo\"` specifically from the values."
      ],
      "metadata": {
        "id": "UqTgVDegSzvl"
      }
    },
    {
      "cell_type": "code",
      "source": [
        "table1 = etl.addcolumn(table1,\"zoo\", [1,2,3,4])\n",
        "table1.look()"
      ],
      "metadata": {
        "id": "jw_cHbtv6Pu4",
        "outputId": "406c8035-b797-4315-8e3c-9e799497fda2",
        "colab": {
          "base_uri": "https://localhost:8080/"
        }
      },
      "execution_count": null,
      "outputs": [
        {
          "output_type": "execute_result",
          "data": {
            "text/plain": [
              "+-----+-----+-----+-----+\n",
              "| foo | bar | baz | zoo |\n",
              "+=====+=====+=====+=====+\n",
              "| 'a' |   1 | 3.4 |   1 |\n",
              "+-----+-----+-----+-----+\n",
              "| 'b' |   2 | 7.4 |   2 |\n",
              "+-----+-----+-----+-----+\n",
              "| 'c' |   6 | 2.2 |   3 |\n",
              "+-----+-----+-----+-----+\n",
              "| 'd' |   9 | 8.1 |   4 |\n",
              "+-----+-----+-----+-----+"
            ]
          },
          "metadata": {},
          "execution_count": 112
        }
      ]
    },
    {
      "cell_type": "markdown",
      "source": [
        "In order to perform the opposite operation, i.e removing a column `.cutout()` can be used. In contrast to `.cut()`, this method removes the specified column completely instead of returning it as slice ot the table."
      ],
      "metadata": {
        "id": "MyHk8CvETsN6"
      }
    },
    {
      "cell_type": "code",
      "source": [
        "table1 = etl.cutout(table1,\"zoo\")\n",
        "table1.look()"
      ],
      "metadata": {
        "id": "CJwe8J_TBxL0",
        "outputId": "8ad592aa-d073-46c9-efa2-365fc8f37574",
        "colab": {
          "base_uri": "https://localhost:8080/"
        }
      },
      "execution_count": null,
      "outputs": [
        {
          "output_type": "execute_result",
          "data": {
            "text/plain": [
              "+-----+-----+-----+\n",
              "| foo | bar | baz |\n",
              "+=====+=====+=====+\n",
              "| 'a' |   1 | 3.4 |\n",
              "+-----+-----+-----+\n",
              "| 'b' |   2 | 7.4 |\n",
              "+-----+-----+-----+\n",
              "| 'c' |   6 | 2.2 |\n",
              "+-----+-----+-----+\n",
              "| 'd' |   9 | 8.1 |\n",
              "+-----+-----+-----+"
            ]
          },
          "metadata": {},
          "execution_count": 113
        }
      ]
    },
    {
      "cell_type": "markdown",
      "source": [
        "You learned how to perform some basic transformations of the table, but what if you want to look up values not based on indices but rather on criteria such as a certain column's entry being bigger than some threshold? In the next chapter we are going to take a look at how to select rows via user given conditions."
      ],
      "metadata": {
        "id": "CFuoBXMuXMnG"
      }
    },
    {
      "cell_type": "code",
      "source": [
        ""
      ],
      "metadata": {
        "id": "cH_yQZf5X9e3"
      },
      "execution_count": null,
      "outputs": []
    }
  ]
}