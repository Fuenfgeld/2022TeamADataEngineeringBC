{
  "cells": [
    {
      "cell_type": "markdown",
      "metadata": {
        "id": "view-in-github",
        "colab_type": "text"
      },
      "source": [
        "<a href=\"https://colab.research.google.com/github/Fuenfgeld/2022TeamADataEngineeringBC/blob/main/Präsentationen/02-Extract-Transform-Load/Extract-Transform-Load-Demonstration.ipynb\" target=\"_parent\"><img src=\"https://colab.research.google.com/assets/colab-badge.svg\" alt=\"Open In Colab\"/></a>"
      ]
    },
    {
      "cell_type": "markdown",
      "metadata": {
        "id": "O-09koDFxUWq"
      },
      "source": [
        "# Einfache Transformationen"
      ]
    },
    {
      "cell_type": "code",
      "execution_count": 1,
      "metadata": {
        "id": "fUtXLhoNONMJ",
        "colab": {
          "base_uri": "https://localhost:8080/"
        },
        "outputId": "3d86470c-4482-4883-c30e-88f721b1b3c8"
      },
      "outputs": [
        {
          "output_type": "stream",
          "name": "stdout",
          "text": [
            "Looking in indexes: https://pypi.org/simple, https://us-python.pkg.dev/colab-wheels/public/simple/\n",
            "Collecting pyspark\n",
            "  Downloading pyspark-3.2.1.tar.gz (281.4 MB)\n",
            "\u001b[K     |████████████████████████████████| 281.4 MB 34 kB/s \n",
            "\u001b[?25hRequirement already satisfied: pandas in /usr/local/lib/python3.7/dist-packages (1.3.5)\n",
            "Collecting py4j==0.10.9.3\n",
            "  Downloading py4j-0.10.9.3-py2.py3-none-any.whl (198 kB)\n",
            "\u001b[K     |████████████████████████████████| 198 kB 57.8 MB/s \n",
            "\u001b[?25hRequirement already satisfied: pytz>=2017.3 in /usr/local/lib/python3.7/dist-packages (from pandas) (2022.1)\n",
            "Requirement already satisfied: python-dateutil>=2.7.3 in /usr/local/lib/python3.7/dist-packages (from pandas) (2.8.2)\n",
            "Requirement already satisfied: numpy>=1.17.3 in /usr/local/lib/python3.7/dist-packages (from pandas) (1.21.6)\n",
            "Requirement already satisfied: six>=1.5 in /usr/local/lib/python3.7/dist-packages (from python-dateutil>=2.7.3->pandas) (1.15.0)\n",
            "Building wheels for collected packages: pyspark\n",
            "  Building wheel for pyspark (setup.py) ... \u001b[?25l\u001b[?25hdone\n",
            "  Created wheel for pyspark: filename=pyspark-3.2.1-py2.py3-none-any.whl size=281853642 sha256=03ef442277eb46d994aba43d87094f86e0f4e788b68ce3319963515146b28eda\n",
            "  Stored in directory: /root/.cache/pip/wheels/9f/f5/07/7cd8017084dce4e93e84e92efd1e1d5334db05f2e83bcef74f\n",
            "Successfully built pyspark\n",
            "Installing collected packages: py4j, pyspark\n",
            "Successfully installed py4j-0.10.9.3 pyspark-3.2.1\n"
          ]
        }
      ],
      "source": [
        "# Bibliotheken einmalig installieren\n",
        "\n",
        "%pip install pyspark pandas"
      ]
    },
    {
      "cell_type": "code",
      "execution_count": 7,
      "metadata": {
        "id": "217s1ZMwxUWu",
        "colab": {
          "base_uri": "https://localhost:8080/"
        },
        "outputId": "db7d568a-11d3-42bc-c5f9-e0bf67e39972"
      },
      "outputs": [
        {
          "output_type": "stream",
          "name": "stdout",
          "text": [
            "--2022-05-31 18:36:21--  https://raw.githubusercontent.com/Fuenfgeld/2022TeamADataEngineeringBC/main/Pr%C3%A4sentationen/03-Fortgeschrittene%20Transformationen/create_data_advacend.py\n",
            "Resolving raw.githubusercontent.com (raw.githubusercontent.com)... 185.199.108.133, 185.199.109.133, 185.199.110.133, ...\n",
            "Connecting to raw.githubusercontent.com (raw.githubusercontent.com)|185.199.108.133|:443... connected.\n",
            "HTTP request sent, awaiting response... 200 OK\n",
            "Length: 11341 (11K) [text/plain]\n",
            "Saving to: ‘create_data_advacend.py’\n",
            "\n",
            "\rcreate_data_advacen   0%[                    ]       0  --.-KB/s               \rcreate_data_advacen 100%[===================>]  11.08K  --.-KB/s    in 0s      \n",
            "\n",
            "2022-05-31 18:36:22 (79.9 MB/s) - ‘create_data_advacend.py’ saved [11341/11341]\n",
            "\n"
          ]
        }
      ],
      "source": [
        "!wget -O create_data_advacend.py https://raw.githubusercontent.com/Fuenfgeld/2022TeamADataEngineeringBC/main/Pr%C3%A4sentationen/03-Fortgeschrittene%20Transformationen/create_data_advacend.py"
      ]
    },
    {
      "cell_type": "code",
      "execution_count": 8,
      "metadata": {
        "id": "iZL13l1txUWw",
        "colab": {
          "base_uri": "https://localhost:8080/"
        },
        "outputId": "9561989d-f588-4c1d-a336-21219fb28dc2"
      },
      "outputs": [
        {
          "output_type": "execute_result",
          "data": {
            "text/plain": [
              "0"
            ]
          },
          "metadata": {},
          "execution_count": 8
        }
      ],
      "source": [
        "import sqlite3\n",
        "import pandas as pd\n",
        "import pyspark.sql.functions as func \n",
        "import os\n",
        "from pyspark.sql.functions import col\n",
        "\n",
        "os.system(\"python3 create_data_advacend.py\")"
      ]
    },
    {
      "cell_type": "code",
      "execution_count": 9,
      "metadata": {
        "id": "PNe_AqfkRfbh"
      },
      "outputs": [],
      "source": [
        "## (Py)Spark starten\n",
        "\n",
        "from pyspark.sql import SparkSession\n",
        "spark = SparkSession.builder.getOrCreate()"
      ]
    },
    {
      "cell_type": "code",
      "source": [
        "## Datenbankdaten in Dataframe schreiben\n",
        "connection_obj = sqlite3.connect('Diddly_Squat_Farm.db')\n",
        "cursor_obj = connection_obj.cursor()\n",
        "\n",
        "# Tabelle Fields ausgeben\n",
        "for row in cursor_obj.execute('SELECT * FROM fields'):\n",
        "        print(row)\n",
        "\n",
        "# Tabelle Fields in Dataframe df_fields schreiben\n",
        "df_fields = pd.read_sql_query(\"SELECT * FROM fields\", connection_obj)\n",
        "print('\\n\\nDies ist das erzeugte Dataframe:\\n\\n', df_fields)\n",
        "\n",
        "connection_obj.close()\n",
        "\n",
        "#DataFrame für Datenbank erzeugen\n",
        "df_fields= spark.createDataFrame(df_fields) \n",
        "# df_fields.printSchema()\n",
        "df_fields.show()"
      ],
      "metadata": {
        "colab": {
          "base_uri": "https://localhost:8080/"
        },
        "id": "4lfYFtIe6wf8",
        "outputId": "640df00f-0d6b-483d-cee9-55cb48b4c322"
      },
      "execution_count": 10,
      "outputs": [
        {
          "output_type": "stream",
          "name": "stdout",
          "text": [
            "(5, 'Barn Ground', 10)\n",
            "(6, 'Bank', 10)\n",
            "(7, 'Far Brossler', 20)\n",
            "(8, 'Middle Broom', 20)\n",
            "(9, 'Chalks', 25)\n",
            "(10, 'Big Broom ', 60)\n",
            "\n",
            "\n",
            "Dies ist das erzeugte Dataframe:\n",
            "\n",
            "    field_id    field_name  area_in_sqm\n",
            "0         5   Barn Ground           10\n",
            "1         6          Bank           10\n",
            "2         7  Far Brossler           20\n",
            "3         8  Middle Broom           20\n",
            "4         9        Chalks           25\n",
            "5        10    Big Broom            60\n",
            "+--------+------------+-----------+\n",
            "|field_id|  field_name|area_in_sqm|\n",
            "+--------+------------+-----------+\n",
            "|       5| Barn Ground|         10|\n",
            "|       6|        Bank|         10|\n",
            "|       7|Far Brossler|         20|\n",
            "|       8|Middle Broom|         20|\n",
            "|       9|      Chalks|         25|\n",
            "|      10|  Big Broom |         60|\n",
            "+--------+------------+-----------+\n",
            "\n"
          ]
        }
      ]
    },
    {
      "cell_type": "markdown",
      "source": [
        "### Daten einlesen"
      ],
      "metadata": {
        "id": "fosgg9PNd_Bm"
      }
    },
    {
      "cell_type": "code",
      "execution_count": 11,
      "metadata": {
        "id": "l_rWs30hRjbN",
        "colab": {
          "base_uri": "https://localhost:8080/"
        },
        "outputId": "853e0bd7-404f-437f-b576-9f313578212e"
      },
      "outputs": [
        {
          "output_type": "stream",
          "name": "stdout",
          "text": [
            "+------------+-----+----+-----------------+-------+-------------+\n",
            "|        crop|field|week|water_consumption|revenue|yield_per_sqm|\n",
            "+------------+-----+----+-----------------+-------+-------------+\n",
            "|strawberries|    7|   1|               12|      0|            0|\n",
            "|strawberries|    7|   2|               10|      0|            0|\n",
            "|strawberries|    7|   3|               12|      0|            0|\n",
            "|strawberries|    7|   4|               14|      0|            0|\n",
            "|strawberries|    7|   5|               14|      0|            5|\n",
            "|strawberries|    7|   6|               18|     30|           10|\n",
            "|strawberries|    7|   1|               12|      0|            0|\n",
            "|strawberries|    7|   2|               10|      0|            0|\n",
            "|strawberries|    7|   3|               12|      0|            0|\n",
            "|strawberries|    7|   7|               20|     60|           25|\n",
            "+------------+-----+----+-----------------+-------+-------------+\n",
            "only showing top 10 rows\n",
            "\n",
            "+--------+-----+-------+-----------------+----+-------------+\n",
            "|    crop|field|revenue|water_consumption|week|yield_per_sqm|\n",
            "+--------+-----+-------+-----------------+----+-------------+\n",
            "|zucchini|    5| {0, 0}|                6|   1|            0|\n",
            "|  radish|    6| {0, 0}|                4|   1|            0|\n",
            "|zucchini|    5| {0, 0}|                5|   2|            0|\n",
            "|  radish|    6| {0, 0}|                4|   2|            0|\n",
            "|zucchini|    5| {0, 0}|                6|   3|            0|\n",
            "|  radish|    6| {0, 0}|                5|   3|            0|\n",
            "|zucchini|    5| {0, 0}|                7|   4|            0|\n",
            "|  radish|    6| {0, 0}|                3|   4|            0|\n",
            "|zucchini|    5| {0, 0}|                7|   5|            5|\n",
            "|  radish|    6| {0, 0}|                6|   5|            0|\n",
            "+--------+-----+-------+-----------------+----+-------------+\n",
            "only showing top 10 rows\n",
            "\n"
          ]
        }
      ],
      "source": [
        "## JSON-/CSV-Dateien in Dataframes schreiben\n",
        "df_fru = spark.read.options(header='True', multiline='True', inferSchema='True').csv('Fruits.csv')\n",
        "df_veg = spark.read.option(\"multiline\",True).json('Vegetables.json')\n",
        "\n",
        "# erstellte Dataframes ausgeben (10 Einträge ausgeben)\n",
        "df_fru.show(10)\n",
        "df_veg.show(10)\n"
      ]
    },
    {
      "cell_type": "markdown",
      "source": [
        "### Zeilen und Spalten abfragen"
      ],
      "metadata": {
        "id": "MVtpHiyteEUK"
      }
    },
    {
      "cell_type": "code",
      "source": [
        "## Spalten abfragen:\tJeremy will sich Übersicht über generellen Wasserverbrauch der Gemüsesorten verschaffen -> dazu begutachtet er die Spalte 'Wasserverbrauch'  \n",
        "df_veg.select(\"crop\", \"water_consumption\").show()"
      ],
      "metadata": {
        "colab": {
          "base_uri": "https://localhost:8080/"
        },
        "id": "yTBmDQdOMfzu",
        "outputId": "52efb544-c47f-429a-ccbc-daafb0dc5e6e"
      },
      "execution_count": 12,
      "outputs": [
        {
          "output_type": "stream",
          "name": "stdout",
          "text": [
            "+--------+-----------------+\n",
            "|    crop|water_consumption|\n",
            "+--------+-----------------+\n",
            "|zucchini|                6|\n",
            "|  radish|                4|\n",
            "|zucchini|                5|\n",
            "|  radish|                4|\n",
            "|zucchini|                6|\n",
            "|  radish|                5|\n",
            "|zucchini|                7|\n",
            "|  radish|                3|\n",
            "|zucchini|                7|\n",
            "|  radish|                6|\n",
            "|zucchini|                9|\n",
            "|  radish|                7|\n",
            "|zucchini|               10|\n",
            "|  radish|                8|\n",
            "|zucchini|               13|\n",
            "|  radish|                8|\n",
            "|zucchini|               12|\n",
            "|  radish|             null|\n",
            "|zucchini|                5|\n",
            "|zucchini|             null|\n",
            "+--------+-----------------+\n",
            "\n"
          ]
        }
      ]
    },
    {
      "cell_type": "code",
      "execution_count": 13,
      "metadata": {
        "id": "Nl-G1iyyTWZ1",
        "colab": {
          "base_uri": "https://localhost:8080/"
        },
        "outputId": "01f373a2-1ee3-4f71-ee26-7024ee048ff7"
      },
      "outputs": [
        {
          "output_type": "stream",
          "name": "stdout",
          "text": [
            "Informationen zu Zucchini in der 9. Zeile: Row(crop='zucchini', field=5, revenue=Row(net=0, tax=0), water_consumption=7, week=5, yield_per_sqm=5)\n",
            "\n"
          ]
        }
      ],
      "source": [
        "## Zeilen abfragen: Jeremy überlegt welche Pflanze er anbaut und schaut sich dafür die Zucchini genauer an\n",
        "\n",
        "df_veg_lokal = df_veg.collect() # notwendig, falls man in einem verteilten Systen arbeitet\n",
        "print(f\"Informationen zu Zucchini in der 9. Zeile: {df_veg_lokal[8]}\\n\")"
      ]
    },
    {
      "cell_type": "markdown",
      "source": [
        "### Spalten hinzufügen und entfernen"
      ],
      "metadata": {
        "id": "QP4ZyxOceKb7"
      }
    },
    {
      "cell_type": "code",
      "source": [
        "## Spalten hinzufügen: Jeremy möchte die Einnahmen der Pflanzen pro Ertrag/m² ermitteln\n",
        "\n",
        "df_fru_plus = df_fru.withColumn(\"lucrativeness\", df_fru.revenue * df_fru.yield_per_sqm)\n",
        "df_fru_plus.show()"
      ],
      "metadata": {
        "colab": {
          "base_uri": "https://localhost:8080/"
        },
        "id": "lZ-xBapjOGkQ",
        "outputId": "b2b387ca-a7f3-45d6-cd57-2a8e630158ed"
      },
      "execution_count": 14,
      "outputs": [
        {
          "output_type": "stream",
          "name": "stdout",
          "text": [
            "+------------+-----+----+-----------------+-------+-------------+-------------+\n",
            "|        crop|field|week|water_consumption|revenue|yield_per_sqm|lucrativeness|\n",
            "+------------+-----+----+-----------------+-------+-------------+-------------+\n",
            "|strawberries|    7|   1|               12|      0|            0|            0|\n",
            "|strawberries|    7|   2|               10|      0|            0|            0|\n",
            "|strawberries|    7|   3|               12|      0|            0|            0|\n",
            "|strawberries|    7|   4|               14|      0|            0|            0|\n",
            "|strawberries|    7|   5|               14|      0|            5|            0|\n",
            "|strawberries|    7|   6|               18|     30|           10|          300|\n",
            "|strawberries|    7|   1|               12|      0|            0|            0|\n",
            "|strawberries|    7|   2|               10|      0|            0|            0|\n",
            "|strawberries|    7|   3|               12|      0|            0|            0|\n",
            "|strawberries|    7|   7|               20|     60|           25|         1500|\n",
            "|strawberries|    7|   8|               26|    150|           25|         3750|\n",
            "|strawberries|    7|   9|               24|    150|           25|         3750|\n",
            "|strawberries|    7|  10|               10|    100|           25|         2500|\n",
            "|strawberries|    7|  11|             null|    150|            0|            0|\n",
            "+------------+-----+----+-----------------+-------+-------------+-------------+\n",
            "\n"
          ]
        }
      ]
    },
    {
      "cell_type": "code",
      "source": [
        "## Spalten entfernen:   Um einen klareren Blick auf die Daten zu erhalten, entfernt Jeremy alle Spalten\n",
        "## die nicht über den Wasserverbrauch aussagen\n",
        "\n",
        "df_veg_drop = df_veg.drop(*('field', 'revenue', 'week'))\n",
        "df_fru_drop = df_fru.drop(*('field', 'revenue', 'week'))\n",
        "\n",
        "df_fru_drop.show()\n",
        "df_veg_drop.show()"
      ],
      "metadata": {
        "id": "uIPwHtDjPFGN",
        "outputId": "008ecd66-98af-48d2-efa1-1d00adbfed94",
        "colab": {
          "base_uri": "https://localhost:8080/"
        }
      },
      "execution_count": 15,
      "outputs": [
        {
          "output_type": "stream",
          "name": "stdout",
          "text": [
            "+------------+-----------------+-------------+\n",
            "|        crop|water_consumption|yield_per_sqm|\n",
            "+------------+-----------------+-------------+\n",
            "|strawberries|               12|            0|\n",
            "|strawberries|               10|            0|\n",
            "|strawberries|               12|            0|\n",
            "|strawberries|               14|            0|\n",
            "|strawberries|               14|            5|\n",
            "|strawberries|               18|           10|\n",
            "|strawberries|               12|            0|\n",
            "|strawberries|               10|            0|\n",
            "|strawberries|               12|            0|\n",
            "|strawberries|               20|           25|\n",
            "|strawberries|               26|           25|\n",
            "|strawberries|               24|           25|\n",
            "|strawberries|               10|           25|\n",
            "|strawberries|             null|            0|\n",
            "+------------+-----------------+-------------+\n",
            "\n",
            "+--------+-----------------+-------------+\n",
            "|    crop|water_consumption|yield_per_sqm|\n",
            "+--------+-----------------+-------------+\n",
            "|zucchini|                6|            0|\n",
            "|  radish|                4|            0|\n",
            "|zucchini|                5|            0|\n",
            "|  radish|                4|            0|\n",
            "|zucchini|                6|            0|\n",
            "|  radish|                5|            0|\n",
            "|zucchini|                7|            0|\n",
            "|  radish|                3|            0|\n",
            "|zucchini|                7|            5|\n",
            "|  radish|                6|            0|\n",
            "|zucchini|                9|           10|\n",
            "|  radish|                7|            0|\n",
            "|zucchini|               10|           25|\n",
            "|  radish|                8|          160|\n",
            "|zucchini|               13|           25|\n",
            "|  radish|                8|          240|\n",
            "|zucchini|               12|           25|\n",
            "|  radish|             null|            0|\n",
            "|zucchini|                5|           25|\n",
            "|zucchini|             null|            0|\n",
            "+--------+-----------------+-------------+\n",
            "\n"
          ]
        }
      ]
    },
    {
      "cell_type": "markdown",
      "source": [
        "### Dataframes konkatenieren"
      ],
      "metadata": {
        "id": "dEFDygPNeYAU"
      }
    },
    {
      "cell_type": "code",
      "source": [
        "#df_veg.show()"
      ],
      "metadata": {
        "id": "fVvU52DeR0xb"
      },
      "execution_count": null,
      "outputs": []
    },
    {
      "cell_type": "code",
      "execution_count": 16,
      "metadata": {
        "id": "4Eub8hXEWKbl",
        "colab": {
          "base_uri": "https://localhost:8080/"
        },
        "outputId": "872ab81b-bd78-4460-959b-f7e6cb27e91a"
      },
      "outputs": [
        {
          "output_type": "stream",
          "name": "stdout",
          "text": [
            "+------------+-----+----+-----------------+-------+-------------+\n",
            "|        crop|field|week|water_consumption|revenue|yield_per_sqm|\n",
            "+------------+-----+----+-----------------+-------+-------------+\n",
            "|strawberries|    7|   1|               12|      0|            0|\n",
            "|strawberries|    7|   2|               10|      0|            0|\n",
            "|strawberries|    7|   3|               12|      0|            0|\n",
            "|strawberries|    7|   4|               14|      0|            0|\n",
            "|strawberries|    7|   5|               14|      0|            5|\n",
            "|strawberries|    7|   6|               18|     30|           10|\n",
            "|strawberries|    7|   1|               12|      0|            0|\n",
            "|strawberries|    7|   2|               10|      0|            0|\n",
            "|strawberries|    7|   3|               12|      0|            0|\n",
            "|strawberries|    7|   7|               20|     60|           25|\n",
            "|strawberries|    7|   8|               26|    150|           25|\n",
            "|strawberries|    7|   9|               24|    150|           25|\n",
            "|strawberries|    7|  10|               10|    100|           25|\n",
            "|strawberries|    7|  11|             null|    150|            0|\n",
            "|    zucchini|    5|   0|                6|      1|            0|\n",
            "|      radish|    6|   0|                4|      1|            0|\n",
            "|    zucchini|    5|   0|                5|      2|            0|\n",
            "|      radish|    6|   0|                4|      2|            0|\n",
            "|    zucchini|    5|   0|                6|      3|            0|\n",
            "|      radish|    6|   0|                5|      3|            0|\n",
            "+------------+-----+----+-----------------+-------+-------------+\n",
            "only showing top 20 rows\n",
            "\n"
          ]
        }
      ],
      "source": [
        "## Um die beiden Dataframes kombinieren zu können müssen sie in das gleiche Format gebracht werden.\n",
        "## Achtung hier verändert sich der semantische Sinn der Spalte. Dies ist hier egal, weil wir sie weiter unten löschen.\n",
        "df_veg_correct_revenue = df_veg.withColumn(\"revenue\", func.column(\"revenue.net\"))\n",
        "#df_veg_correct_revenue.show()\n",
        "\n",
        "\n",
        "## DataFrames Zusammenfügen: Jeremy überlegt ob er Gemüse oder Obst anbauen soll, \n",
        "## deshalb verschafft er sich eine Gesamtübersicht/Vergleich aller Obst- & Pflanzensorten: Obst- & Gemüsesorten konkatenieren\n",
        "\n",
        "df_fru_veg = df_fru.union(df_veg_correct_revenue)\n",
        "df_fru_veg.show()"
      ]
    },
    {
      "cell_type": "markdown",
      "source": [
        "### Datenbereinigung "
      ],
      "metadata": {
        "id": "woWmthtPe-MP"
      }
    },
    {
      "cell_type": "code",
      "execution_count": 17,
      "metadata": {
        "id": "RLBNAtgyxUW6",
        "colab": {
          "base_uri": "https://localhost:8080/"
        },
        "outputId": "1069fee4-5541-4fb3-e974-27682c0b2d31"
      },
      "outputs": [
        {
          "output_type": "stream",
          "name": "stdout",
          "text": [
            "+------------+-----+----+-----------------+-------+-------------+\n",
            "|        crop|field|week|water_consumption|revenue|yield_per_sqm|\n",
            "+------------+-----+----+-----------------+-------+-------------+\n",
            "|strawberries|    7|   5|               14|      0|            5|\n",
            "|strawberries|    7|   7|               20|     60|           25|\n",
            "|strawberries|    7|   9|               24|    150|           25|\n",
            "|strawberries|    7|   2|               10|      0|            0|\n",
            "|strawberries|    7|   6|               18|     30|           10|\n",
            "|strawberries|    7|   8|               26|    150|           25|\n",
            "|strawberries|    7|  11|             null|    150|            0|\n",
            "|strawberries|    7|   3|               12|      0|            0|\n",
            "|strawberries|    7|  10|               10|    100|           25|\n",
            "|strawberries|    7|   4|               14|      0|            0|\n",
            "|strawberries|    7|   1|               12|      0|            0|\n",
            "|    zucchini|    5|   0|                7|      5|            5|\n",
            "|      radish|    6|  50|                8|      8|          240|\n",
            "|    zucchini|    5|   0|                6|      1|            0|\n",
            "|    zucchini|    5|   0|                6|      3|            0|\n",
            "|    zucchini|    5|   0|                5|      2|            0|\n",
            "|      radish|    6|   0|                4|      1|            0|\n",
            "|      radish|    6|  50|             null|      1|            0|\n",
            "|    zucchini|    5|  40|               12|      9|           25|\n",
            "|      radish|    6|   0|                6|      5|            0|\n",
            "+------------+-----+----+-----------------+-------+-------------+\n",
            "only showing top 20 rows\n",
            "\n"
          ]
        }
      ],
      "source": [
        "## Dupliakte entfernen: Wie Jeremy gerade aufgefallen ist, enthällt die Tabelle noch Duplikate.\n",
        "## (Siehe z.B. Woche 2 & 8 der Erdbeeren) Diese sollen nun entfernt werden.\n",
        "\n",
        "df_fru_veg.dropDuplicates().show()"
      ]
    },
    {
      "cell_type": "code",
      "execution_count": 18,
      "metadata": {
        "id": "DbRI7RbAZ0rK",
        "colab": {
          "base_uri": "https://localhost:8080/"
        },
        "outputId": "29677afa-6cd7-4fc5-b6f0-c2eb48226818"
      },
      "outputs": [
        {
          "output_type": "stream",
          "name": "stdout",
          "text": [
            "+------------+-----+----+-----------------+-------+-------------+\n",
            "|        crop|field|week|water_consumption|revenue|yield_per_sqm|\n",
            "+------------+-----+----+-----------------+-------+-------------+\n",
            "|strawberries|    7|   1|               12|      0|            0|\n",
            "|strawberries|    7|   2|               10|      0|            0|\n",
            "|strawberries|    7|   3|               12|      0|            0|\n",
            "|strawberries|    7|   4|               14|      0|            0|\n",
            "|strawberries|    7|   5|               14|      0|            5|\n",
            "|strawberries|    7|   6|               18|     30|           10|\n",
            "|strawberries|    7|   1|               12|      0|            0|\n",
            "|strawberries|    7|   2|               10|      0|            0|\n",
            "|strawberries|    7|   3|               12|      0|            0|\n",
            "|strawberries|    7|   7|               20|     60|           25|\n",
            "|strawberries|    7|   8|               26|    150|           25|\n",
            "|strawberries|    7|   9|               24|    150|           25|\n",
            "|strawberries|    7|  10|               10|    100|           25|\n",
            "|    zucchini|    5|   0|                6|      1|            0|\n",
            "|      radish|    6|   0|                4|      1|            0|\n",
            "|    zucchini|    5|   0|                5|      2|            0|\n",
            "|      radish|    6|   0|                4|      2|            0|\n",
            "|    zucchini|    5|   0|                6|      3|            0|\n",
            "|      radish|    6|   0|                5|      3|            0|\n",
            "|    zucchini|    5|   0|                7|      4|            0|\n",
            "+------------+-----+----+-----------------+-------+-------------+\n",
            "only showing top 20 rows\n",
            "\n"
          ]
        }
      ],
      "source": [
        "## Aufräumen:\tFür Jeremy sind jetzt natürlich nur Einträge relevant, die einen Wasserverbrauch beinhalten.\n",
        "\n",
        "df_fru_veg = df_fru_veg.dropna()\n",
        "df_fru_veg.show()"
      ]
    },
    {
      "cell_type": "markdown",
      "source": [
        "### Gezielte Abfrage mit Bedingungen"
      ],
      "metadata": {
        "id": "qX_RyL6SfZSc"
      }
    },
    {
      "cell_type": "code",
      "execution_count": 19,
      "metadata": {
        "id": "jc-qCtftxUW8",
        "colab": {
          "base_uri": "https://localhost:8080/"
        },
        "outputId": "868e7aa9-c5dd-47ee-d1a3-b8b8700e858b"
      },
      "outputs": [
        {
          "output_type": "stream",
          "name": "stdout",
          "text": [
            "+----------------------+\n",
            "|sum(water_consumption)|\n",
            "+----------------------+\n",
            "|                   319|\n",
            "+----------------------+\n",
            "\n",
            "+------------+----------------------+\n",
            "|        crop|sum(water_consumption)|\n",
            "+------------+----------------------+\n",
            "|strawberries|                   194|\n",
            "|    zucchini|                    80|\n",
            "|      radish|                    45|\n",
            "+------------+----------------------+\n",
            "\n",
            "+----------------------+\n",
            "|sum(water_consumption)|\n",
            "+----------------------+\n",
            "|                   194|\n",
            "+----------------------+\n",
            "\n"
          ]
        }
      ],
      "source": [
        "## Wasserverbrauch anzeigen:    Jeremy möchte wissen, wie der gesamte Wasserverbrauch im letzten Jahr war. \n",
        "## Und wie der Wasserverbrauch bezogen auf die jeweilige Nutzpflanze ausfällt.\n",
        "\n",
        "df_fru_veg.agg(func.sum(\"water_consumption\")).show()\n",
        "\n",
        "df_fru_veg.groupby('crop').sum(\"water_consumption\").show()\n",
        "\n",
        "df_fru_veg.filter(df_fru_veg.crop == \"strawberries\").agg(func.sum(\"water_consumption\")).show()"
      ]
    },
    {
      "cell_type": "markdown",
      "source": [
        "# Transformationen für Fortgeschrittene"
      ],
      "metadata": {
        "id": "Ggn8GGiw16_o"
      }
    },
    {
      "cell_type": "markdown",
      "source": [
        "Damit Jeremy weitere Informationen aus den Daten filtern kann, muss er sich erneut einen Überblick verschaffen. \n",
        "+ Unterstützen Sie Jeremy, in dem Sie die Tabellen der Felder und anzubauenden Lebensmittels darstellen."
      ],
      "metadata": {
        "id": "apSOsDQD7LKa"
      }
    },
    {
      "cell_type": "code",
      "source": [
        "df_fields.show(10)\n",
        "df_fru_veg.show(30)"
      ],
      "metadata": {
        "colab": {
          "base_uri": "https://localhost:8080/"
        },
        "id": "XJl4CESE7L4M",
        "outputId": "98a4ff1b-0c13-4bd9-9e19-3e81c4d6c8a2"
      },
      "execution_count": 20,
      "outputs": [
        {
          "output_type": "stream",
          "name": "stdout",
          "text": [
            "+--------+------------+-----------+\n",
            "|field_id|  field_name|area_in_sqm|\n",
            "+--------+------------+-----------+\n",
            "|       5| Barn Ground|         10|\n",
            "|       6|        Bank|         10|\n",
            "|       7|Far Brossler|         20|\n",
            "|       8|Middle Broom|         20|\n",
            "|       9|      Chalks|         25|\n",
            "|      10|  Big Broom |         60|\n",
            "+--------+------------+-----------+\n",
            "\n",
            "+------------+-----+----+-----------------+-------+-------------+\n",
            "|        crop|field|week|water_consumption|revenue|yield_per_sqm|\n",
            "+------------+-----+----+-----------------+-------+-------------+\n",
            "|strawberries|    7|   1|               12|      0|            0|\n",
            "|strawberries|    7|   2|               10|      0|            0|\n",
            "|strawberries|    7|   3|               12|      0|            0|\n",
            "|strawberries|    7|   4|               14|      0|            0|\n",
            "|strawberries|    7|   5|               14|      0|            5|\n",
            "|strawberries|    7|   6|               18|     30|           10|\n",
            "|strawberries|    7|   1|               12|      0|            0|\n",
            "|strawberries|    7|   2|               10|      0|            0|\n",
            "|strawberries|    7|   3|               12|      0|            0|\n",
            "|strawberries|    7|   7|               20|     60|           25|\n",
            "|strawberries|    7|   8|               26|    150|           25|\n",
            "|strawberries|    7|   9|               24|    150|           25|\n",
            "|strawberries|    7|  10|               10|    100|           25|\n",
            "|    zucchini|    5|   0|                6|      1|            0|\n",
            "|      radish|    6|   0|                4|      1|            0|\n",
            "|    zucchini|    5|   0|                5|      2|            0|\n",
            "|      radish|    6|   0|                4|      2|            0|\n",
            "|    zucchini|    5|   0|                6|      3|            0|\n",
            "|      radish|    6|   0|                5|      3|            0|\n",
            "|    zucchini|    5|   0|                7|      4|            0|\n",
            "|      radish|    6|   0|                3|      4|            0|\n",
            "|    zucchini|    5|   0|                7|      5|            5|\n",
            "|      radish|    6|   0|                6|      5|            0|\n",
            "|    zucchini|    5|   8|                9|      6|           10|\n",
            "|      radish|    6|   0|                7|      1|            0|\n",
            "|    zucchini|    5|  16|               10|      7|           25|\n",
            "|      radish|    6|  32|                8|      7|          160|\n",
            "|    zucchini|    5|  40|               13|      8|           25|\n",
            "|      radish|    6|  50|                8|      8|          240|\n",
            "|    zucchini|    5|  40|               12|      9|           25|\n",
            "+------------+-----+----+-----------------+-------+-------------+\n",
            "only showing top 30 rows\n",
            "\n"
          ]
        }
      ]
    },
    {
      "cell_type": "markdown",
      "source": [
        "#### Spark Functions"
      ],
      "metadata": {
        "id": "PJ0ykiDO2i-C"
      }
    },
    {
      "cell_type": "markdown",
      "source": [
        "Nutzen Sie Sparkfunktions um Jeremy den gesamte Wasserverbrauch im letzten Jahr darzustellen."
      ],
      "metadata": {
        "id": "six_90LS2uXT"
      }
    },
    {
      "cell_type": "code",
      "source": [
        "df_fru_veg.agg(func.sum(\"water_consumption\")).show()"
      ],
      "metadata": {
        "colab": {
          "base_uri": "https://localhost:8080/"
        },
        "id": "vCLt_bMj2rQm",
        "outputId": "51104103-1b81-483c-f271-8955f7d07a20"
      },
      "execution_count": 21,
      "outputs": [
        {
          "output_type": "stream",
          "name": "stdout",
          "text": [
            "+----------------------+\n",
            "|sum(water_consumption)|\n",
            "+----------------------+\n",
            "|                   319|\n",
            "+----------------------+\n",
            "\n"
          ]
        }
      ]
    },
    {
      "cell_type": "markdown",
      "source": [
        "Anschließend möchte Jeremy noch wissen, wie der Wasserverbrauch für die unterschiedlichen Gewächsarten war. Geben Sie hierfür den Wasserbedarf der Erdberren an."
      ],
      "metadata": {
        "id": "nP_6l7d22x4o"
      }
    },
    {
      "cell_type": "markdown",
      "source": [
        ""
      ],
      "metadata": {
        "id": "nmGNyhac21Wa"
      }
    },
    {
      "cell_type": "code",
      "source": [
        "df_fru_veg.filter(df_fru_veg.crop == \"strawberries\").agg(func.sum(\"water_consumption\")).collect()"
      ],
      "metadata": {
        "colab": {
          "base_uri": "https://localhost:8080/"
        },
        "id": "G3JFJqEG24XH",
        "outputId": "c05818cf-5950-4030-aaca-e2f8970dfe14"
      },
      "execution_count": 22,
      "outputs": [
        {
          "output_type": "execute_result",
          "data": {
            "text/plain": [
              "[Row(sum(water_consumption)=194)]"
            ]
          },
          "metadata": {},
          "execution_count": 22
        }
      ]
    },
    {
      "cell_type": "markdown",
      "source": [
        "#### Groupby() Bedingung"
      ],
      "metadata": {
        "id": "8ThPeSO_25rF"
      }
    },
    {
      "cell_type": "markdown",
      "source": [
        "Für die kommenden Wochen ist mit erhöhten Niederschlägen zu rechnen. Um zu wissen, wann es sich lohnt, die Felder zu bewässern, will sich Jeremy einen Überblick über die durchschnittliche Wassermenge pro Woche verschaffen.\n",
        "\n",
        "+ Helfen Sie Jeremy  mittels groupby() Befehl dabei und visualisieren Sie den durchschnittlichen Wasserverbrauch."
      ],
      "metadata": {
        "id": "rv59BTTJ3ACO"
      }
    },
    {
      "cell_type": "code",
      "source": [
        "df_alles_was_angebaut_wird = df_fru_veg.groupBy(\"week\").agg(func.avg(\"water_consumption\"))\n",
        "df_alles_was_angebaut_wird.show()\n"
      ],
      "metadata": {
        "colab": {
          "base_uri": "https://localhost:8080/"
        },
        "id": "rSs2YpQ63Agg",
        "outputId": "de9a0c89-125b-45b6-af6d-d44752f17851"
      },
      "execution_count": 23,
      "outputs": [
        {
          "output_type": "stream",
          "name": "stdout",
          "text": [
            "+----+----------------------+\n",
            "|week|avg(water_consumption)|\n",
            "+----+----------------------+\n",
            "|   7|                  20.0|\n",
            "|   6|                  18.0|\n",
            "|   9|                  24.0|\n",
            "|   5|                  14.0|\n",
            "|   1|                  12.0|\n",
            "|  10|                  10.0|\n",
            "|   3|                  12.0|\n",
            "|   8|                  17.5|\n",
            "|   2|                  10.0|\n",
            "|   4|                  14.0|\n",
            "|   0|     5.454545454545454|\n",
            "|  50|                   8.0|\n",
            "|  32|                   8.0|\n",
            "|  40|                  10.0|\n",
            "|  16|                  10.0|\n",
            "+----+----------------------+\n",
            "\n"
          ]
        }
      ]
    },
    {
      "cell_type": "markdown",
      "source": [
        "Nachdem wir den Durchschnittlichen Wasserbrauch kennen, interessiert Jeremy wieviel Wasser jedes Lebensmittel pro Ernte verbraucht.  "
      ],
      "metadata": {
        "id": "fOJGJCu_3DUn"
      }
    },
    {
      "cell_type": "code",
      "source": [
        "gesamt_verbrauch =  df_fru_veg.groupBy(\"crop\").agg(func.sum(\"water_consumption\"))\n",
        "gesamt_verbrauch.show()"
      ],
      "metadata": {
        "colab": {
          "base_uri": "https://localhost:8080/"
        },
        "id": "eseUQiN-3IP4",
        "outputId": "3aa9a4e4-e25b-45c3-832f-a027ca824386"
      },
      "execution_count": 24,
      "outputs": [
        {
          "output_type": "stream",
          "name": "stdout",
          "text": [
            "+------------+----------------------+\n",
            "|        crop|sum(water_consumption)|\n",
            "+------------+----------------------+\n",
            "|strawberries|                   194|\n",
            "|    zucchini|                    80|\n",
            "|      radish|                    45|\n",
            "+------------+----------------------+\n",
            "\n"
          ]
        }
      ]
    },
    {
      "cell_type": "markdown",
      "source": [
        "#### Join() Bedingung "
      ],
      "metadata": {
        "id": "cJzQxnEi3FGM"
      }
    },
    {
      "cell_type": "markdown",
      "source": [
        "- Wie Sie in der Präsentation festgestellt haben, gibt es verschiedene Optionen zwei Tabellen miteinaner zu verbinden. \n",
        "+ In unserem Fall verwendenen wir nun den inner Join da wir alle Zeilen behalten möchten. "
      ],
      "metadata": {
        "id": "XEQhbqv63K-L"
      }
    },
    {
      "cell_type": "markdown",
      "source": [
        "Bisher musste Jereomy für die Übersicht der Felder und der einzelnen Lebensmittel immer zwei Tabellenen nutzen. \n",
        "\n",
        "+ Helfen Sie ihm nun die Arbeit mittels eines Joins zu erleichtern"
      ],
      "metadata": {
        "id": "lyIsLx3J3Mqs"
      }
    },
    {
      "cell_type": "code",
      "source": [
        "gesamt_join = df_fru_veg.join(df_fields, df_fru_veg.field ==  df_fields.field_id,\"inner\")\n",
        "gesamt_join.show(30)"
      ],
      "metadata": {
        "colab": {
          "base_uri": "https://localhost:8080/"
        },
        "id": "4UlloppH3PE4",
        "outputId": "20c839d9-f493-45e1-e3ad-ad11da0ef0ac"
      },
      "execution_count": 25,
      "outputs": [
        {
          "output_type": "stream",
          "name": "stdout",
          "text": [
            "+------------+-----+----+-----------------+-------+-------------+--------+------------+-----------+\n",
            "|        crop|field|week|water_consumption|revenue|yield_per_sqm|field_id|  field_name|area_in_sqm|\n",
            "+------------+-----+----+-----------------+-------+-------------+--------+------------+-----------+\n",
            "|    zucchini|    5|  40|                5|     10|           25|       5| Barn Ground|         10|\n",
            "|    zucchini|    5|  40|               12|      9|           25|       5| Barn Ground|         10|\n",
            "|    zucchini|    5|  40|               13|      8|           25|       5| Barn Ground|         10|\n",
            "|    zucchini|    5|  16|               10|      7|           25|       5| Barn Ground|         10|\n",
            "|    zucchini|    5|   8|                9|      6|           10|       5| Barn Ground|         10|\n",
            "|    zucchini|    5|   0|                7|      5|            5|       5| Barn Ground|         10|\n",
            "|    zucchini|    5|   0|                7|      4|            0|       5| Barn Ground|         10|\n",
            "|    zucchini|    5|   0|                6|      3|            0|       5| Barn Ground|         10|\n",
            "|    zucchini|    5|   0|                5|      2|            0|       5| Barn Ground|         10|\n",
            "|    zucchini|    5|   0|                6|      1|            0|       5| Barn Ground|         10|\n",
            "|      radish|    6|  50|                8|      8|          240|       6|        Bank|         10|\n",
            "|      radish|    6|  32|                8|      7|          160|       6|        Bank|         10|\n",
            "|      radish|    6|   0|                7|      1|            0|       6|        Bank|         10|\n",
            "|      radish|    6|   0|                6|      5|            0|       6|        Bank|         10|\n",
            "|      radish|    6|   0|                3|      4|            0|       6|        Bank|         10|\n",
            "|      radish|    6|   0|                5|      3|            0|       6|        Bank|         10|\n",
            "|      radish|    6|   0|                4|      2|            0|       6|        Bank|         10|\n",
            "|      radish|    6|   0|                4|      1|            0|       6|        Bank|         10|\n",
            "|strawberries|    7|  10|               10|    100|           25|       7|Far Brossler|         20|\n",
            "|strawberries|    7|   9|               24|    150|           25|       7|Far Brossler|         20|\n",
            "|strawberries|    7|   8|               26|    150|           25|       7|Far Brossler|         20|\n",
            "|strawberries|    7|   7|               20|     60|           25|       7|Far Brossler|         20|\n",
            "|strawberries|    7|   3|               12|      0|            0|       7|Far Brossler|         20|\n",
            "|strawberries|    7|   2|               10|      0|            0|       7|Far Brossler|         20|\n",
            "|strawberries|    7|   1|               12|      0|            0|       7|Far Brossler|         20|\n",
            "|strawberries|    7|   6|               18|     30|           10|       7|Far Brossler|         20|\n",
            "|strawberries|    7|   5|               14|      0|            5|       7|Far Brossler|         20|\n",
            "|strawberries|    7|   4|               14|      0|            0|       7|Far Brossler|         20|\n",
            "|strawberries|    7|   3|               12|      0|            0|       7|Far Brossler|         20|\n",
            "|strawberries|    7|   2|               10|      0|            0|       7|Far Brossler|         20|\n",
            "+------------+-----+----+-----------------+-------+-------------+--------+------------+-----------+\n",
            "only showing top 30 rows\n",
            "\n"
          ]
        }
      ]
    },
    {
      "cell_type": "markdown",
      "source": [
        "Um die Wirtschaftlichkeit unseres Unternehmen zu prüfen, möchte Jeremy sich den gesamten Ertag des jeweiligen Nahrungsmittel anzeigen. \n",
        "\n",
        "+ Mulitplizieren Sie hierfür die Spalten yield_per_sqm und_sqm area_in_sqm\n",
        "+ Erzeugen Sie eine neue Spalte im DataFrame für das Ergebnis\n",
        "+ Tipp: hierfür können Sie die Funcktion **col** der Sparkfunctions verwenden."
      ],
      "metadata": {
        "id": "4jdS0r083Q0s"
      }
    },
    {
      "cell_type": "code",
      "source": [
        "\n",
        "gesamt_join = gesamt_join.withColumn(\"yield_per_area\", func.col(\"yield_per_sqm\") * func.col(\"area_in_sqm\"))\n",
        "gesamt_join.show()"
      ],
      "metadata": {
        "colab": {
          "base_uri": "https://localhost:8080/"
        },
        "id": "6Fb-xVUs3TRQ",
        "outputId": "c259f7f3-a1c2-4caa-dad1-02d46712eaee"
      },
      "execution_count": 26,
      "outputs": [
        {
          "output_type": "stream",
          "name": "stdout",
          "text": [
            "+------------+-----+----+-----------------+-------+-------------+--------+------------+-----------+--------------+\n",
            "|        crop|field|week|water_consumption|revenue|yield_per_sqm|field_id|  field_name|area_in_sqm|yield_per_area|\n",
            "+------------+-----+----+-----------------+-------+-------------+--------+------------+-----------+--------------+\n",
            "|    zucchini|    5|  40|                5|     10|           25|       5| Barn Ground|         10|           250|\n",
            "|    zucchini|    5|  40|               12|      9|           25|       5| Barn Ground|         10|           250|\n",
            "|    zucchini|    5|  40|               13|      8|           25|       5| Barn Ground|         10|           250|\n",
            "|    zucchini|    5|  16|               10|      7|           25|       5| Barn Ground|         10|           250|\n",
            "|    zucchini|    5|   8|                9|      6|           10|       5| Barn Ground|         10|           100|\n",
            "|    zucchini|    5|   0|                7|      5|            5|       5| Barn Ground|         10|            50|\n",
            "|    zucchini|    5|   0|                7|      4|            0|       5| Barn Ground|         10|             0|\n",
            "|    zucchini|    5|   0|                6|      3|            0|       5| Barn Ground|         10|             0|\n",
            "|    zucchini|    5|   0|                5|      2|            0|       5| Barn Ground|         10|             0|\n",
            "|    zucchini|    5|   0|                6|      1|            0|       5| Barn Ground|         10|             0|\n",
            "|      radish|    6|  50|                8|      8|          240|       6|        Bank|         10|          2400|\n",
            "|      radish|    6|  32|                8|      7|          160|       6|        Bank|         10|          1600|\n",
            "|      radish|    6|   0|                7|      1|            0|       6|        Bank|         10|             0|\n",
            "|      radish|    6|   0|                6|      5|            0|       6|        Bank|         10|             0|\n",
            "|      radish|    6|   0|                3|      4|            0|       6|        Bank|         10|             0|\n",
            "|      radish|    6|   0|                5|      3|            0|       6|        Bank|         10|             0|\n",
            "|      radish|    6|   0|                4|      2|            0|       6|        Bank|         10|             0|\n",
            "|      radish|    6|   0|                4|      1|            0|       6|        Bank|         10|             0|\n",
            "|strawberries|    7|  10|               10|    100|           25|       7|Far Brossler|         20|           500|\n",
            "|strawberries|    7|   9|               24|    150|           25|       7|Far Brossler|         20|           500|\n",
            "+------------+-----+----+-----------------+-------+-------------+--------+------------+-----------+--------------+\n",
            "only showing top 20 rows\n",
            "\n"
          ]
        }
      ]
    },
    {
      "cell_type": "code",
      "source": [
        "\n",
        "gesamt_ertrag =  gesamt_join.groupBy(\"crop\").agg(func.sum(\"revenue\"), func.sum(\"yield_per_area\"), func.sum(\"water_consumption\"))\n",
        "gesamt_ertrag = gesamt_ertrag.select(col(\"crop\").alias(\"Crop\"),col(\"sum(revenue)\").alias(\"revenue\") , col(\"sum(water_consumption)\").alias(\"water_consumption\"), col(\"sum(yield_per_area)\").alias(\"yield_per_area\"))\n",
        "gesamt_ertrag.show()\n"
      ],
      "metadata": {
        "colab": {
          "base_uri": "https://localhost:8080/"
        },
        "id": "NkHv5Xr33ZNf",
        "outputId": "c638380a-6f8e-4021-ffc3-e8fcc4737b16"
      },
      "execution_count": 27,
      "outputs": [
        {
          "output_type": "stream",
          "name": "stdout",
          "text": [
            "+------------+-------+-----------------+--------------+\n",
            "|        Crop|revenue|water_consumption|yield_per_area|\n",
            "+------------+-------+-----------------+--------------+\n",
            "|strawberries|    490|              194|          2300|\n",
            "|    zucchini|     55|               80|          1150|\n",
            "|      radish|     31|               45|          4000|\n",
            "+------------+-------+-----------------+--------------+\n",
            "\n"
          ]
        }
      ]
    },
    {
      "cell_type": "markdown",
      "source": [
        "Nachdem wir den Ertrag für die einzelnen Gemüse- oder Obstsorten kennen, müssen wir Jeremy bei der Ermittelung des Gewinn je Lebensmittel unter die Arme greifen.\n",
        "\n",
        "+ Hierfür benötigen wir die zuvor ermittelten Liter je Sorte welche wir mit dem Wert von 0.2 Cent verrechnen. \n",
        " \n",
        "+ Anschließend müssen noch die Erwerbskosten für die  Pflanzensamen miteinbeziehen um unsere Produktionskosten zu erhalten.\n",
        "  >Kosten für Samen :\n",
        "  + Erdbeeren = 50 Cent\n",
        "  + Rettich = 10 Cent\n",
        "  + Zucchini = 15 Cent \n",
        "\n",
        "\n",
        "+ Geben Sie das Ergebnis absteigend an. "
      ],
      "metadata": {
        "id": "PXo7Xgzj3XK5"
      }
    },
    {
      "cell_type": "markdown",
      "source": [
        "Zunächst müssen wir noch bei dem Dataframe noch eine Spalte mit den Kosten für die Saatkosten hinzufügen."
      ],
      "metadata": {
        "id": "e7RZpv_V3b7x"
      }
    },
    {
      "cell_type": "code",
      "source": [
        "from pyspark.sql.window import Window as W\n",
        "rating = [15,50,10]\n",
        "b = spark.createDataFrame([(l,) for l in rating], ['cost_of_seed'])\n",
        "gesamt_ertrag = gesamt_ertrag.withColumn(\"idx\", func.monotonically_increasing_id())\n",
        "b = b.withColumn(\"idx\", func.monotonically_increasing_id())\n",
        "\n",
        "windowSpec = W.orderBy(\"idx\")\n",
        "gesamt_ertrag = gesamt_ertrag.withColumn(\"idx\", func.row_number().over(windowSpec))\n",
        "b = b.withColumn(\"idx\", func.row_number().over(windowSpec))\n",
        "\n",
        "\n",
        "gesamt_ertrag = gesamt_ertrag.join(b, gesamt_ertrag.idx == b.idx).drop(\"idx\")\n",
        "gesamt_ertrag.show()"
      ],
      "metadata": {
        "colab": {
          "base_uri": "https://localhost:8080/"
        },
        "id": "6d0UgNlv3ejI",
        "outputId": "611f8b8c-ec4f-4215-b8b6-f3e8e3475ce8"
      },
      "execution_count": 28,
      "outputs": [
        {
          "output_type": "stream",
          "name": "stdout",
          "text": [
            "+------------+-------+-----------------+--------------+------------+\n",
            "|        Crop|revenue|water_consumption|yield_per_area|cost_of_seed|\n",
            "+------------+-------+-----------------+--------------+------------+\n",
            "|strawberries|    490|              194|          2300|          15|\n",
            "|    zucchini|     55|               80|          1150|          50|\n",
            "|      radish|     31|               45|          4000|          10|\n",
            "+------------+-------+-----------------+--------------+------------+\n",
            "\n"
          ]
        }
      ]
    },
    {
      "cell_type": "code",
      "source": [
        "gesamt_ertrag = gesamt_ertrag.withColumn(\"revenue_after_water_cost\",col(\"revenue\") - (col(\"water_consumption\")* 0.02))\n",
        "gesamt_ertrag = gesamt_ertrag.withColumn(\"netto_revenue\",col(\"revenue_after_water_cost\") - col(\"cost_of_seed\"))\n",
        "gesamt_ertrag = gesamt_ertrag.withColumn(\"revenue_after_water_cost\", func.round(gesamt_ertrag[\"revenue_after_water_cost\"], 2)).withColumn(\"netto_revenue\", func.round(gesamt_ertrag[\"netto_revenue\"], 2))\n",
        "gesamt_ertrag.show()"
      ],
      "metadata": {
        "colab": {
          "base_uri": "https://localhost:8080/"
        },
        "id": "B55MLOak3hvD",
        "outputId": "ee728b98-fca8-4f51-9687-cea9fade9623"
      },
      "execution_count": 29,
      "outputs": [
        {
          "output_type": "stream",
          "name": "stdout",
          "text": [
            "+------------+-------+-----------------+--------------+------------+------------------------+-------------+\n",
            "|        Crop|revenue|water_consumption|yield_per_area|cost_of_seed|revenue_after_water_cost|netto_revenue|\n",
            "+------------+-------+-----------------+--------------+------------+------------------------+-------------+\n",
            "|strawberries|    490|              194|          2300|          15|                  486.12|       471.12|\n",
            "|    zucchini|     55|               80|          1150|          50|                    53.4|          3.4|\n",
            "|      radish|     31|               45|          4000|          10|                    30.1|         20.1|\n",
            "+------------+-------+-----------------+--------------+------------+------------------------+-------------+\n",
            "\n"
          ]
        }
      ]
    },
    {
      "cell_type": "code",
      "source": [
        "#revenue = Einnahme , yield = Ertrag\n",
        "gesamt_ertrag.orderBy(col(\"netto_revenue\").desc()).show()"
      ],
      "metadata": {
        "colab": {
          "base_uri": "https://localhost:8080/"
        },
        "id": "Oc9eUuhG3iPK",
        "outputId": "5a2275d1-7fc8-4090-ab24-3bf32c84b490"
      },
      "execution_count": 30,
      "outputs": [
        {
          "output_type": "stream",
          "name": "stdout",
          "text": [
            "+------------+-------+-----------------+--------------+------------+------------------------+-------------+\n",
            "|        Crop|revenue|water_consumption|yield_per_area|cost_of_seed|revenue_after_water_cost|netto_revenue|\n",
            "+------------+-------+-----------------+--------------+------------+------------------------+-------------+\n",
            "|strawberries|    490|              194|          2300|          15|                  486.12|       471.12|\n",
            "|      radish|     31|               45|          4000|          10|                    30.1|         20.1|\n",
            "|    zucchini|     55|               80|          1150|          50|                    53.4|          3.4|\n",
            "+------------+-------+-----------------+--------------+------------+------------------------+-------------+\n",
            "\n"
          ]
        }
      ]
    },
    {
      "cell_type": "markdown",
      "source": [
        "#### Lambda Funtionen"
      ],
      "metadata": {
        "id": "BSQa0O8Z3f9h"
      }
    },
    {
      "cell_type": "markdown",
      "source": [
        "Um unsere Lebensmittel in unserem Hofladen gewinnbringend vertreiben können, müssen wir Jeremy bei der Preisfindung unterstützen. \n",
        "\n",
        "+ Ermitteln Sie hierfür den Preis pro Stück und erzeugen hierfür eine neue Spalte in dem Dataframe\n"
      ],
      "metadata": {
        "id": "IRNONsqH3mKm"
      }
    },
    {
      "cell_type": "code",
      "source": [
        "rdd2 = gesamt_ertrag.rdd.map(lambda x: (x[\"Crop\"], x[\"netto_revenue\"]*1.19*0.01, x[\"netto_revenue\"]*1.59*0.01)) \n",
        "cost_overview = rdd2.toDF([\"Crop\",\"min_selling_price_per_piece\", \"lucrative_selling_price\"])\n",
        "cost_overview = cost_overview.withColumn(\"min_selling_price_per_piece\", func.round(cost_overview[\"min_selling_price_per_piece\"], 2)).withColumn(\"lucrative_selling_price\", func.round(cost_overview[\"lucrative_selling_price\"], 2))\n",
        "cost_overview.withColumn(\"currency\", func.lit(\"£\")).orderBy(col(\"lucrative_selling_price\").desc()).show()"
      ],
      "metadata": {
        "colab": {
          "base_uri": "https://localhost:8080/"
        },
        "id": "sc5tQOvV3n_S",
        "outputId": "59054d99-0c49-409c-a338-c3313d4d9c6a"
      },
      "execution_count": 31,
      "outputs": [
        {
          "output_type": "stream",
          "name": "stdout",
          "text": [
            "+------------+---------------------------+-----------------------+--------+\n",
            "|        Crop|min_selling_price_per_piece|lucrative_selling_price|currency|\n",
            "+------------+---------------------------+-----------------------+--------+\n",
            "|strawberries|                       5.61|                   7.49|       £|\n",
            "|      radish|                       0.24|                   0.32|       £|\n",
            "|    zucchini|                       0.04|                   0.05|       £|\n",
            "+------------+---------------------------+-----------------------+--------+\n",
            "\n"
          ]
        }
      ]
    },
    {
      "cell_type": "markdown",
      "source": [
        "Für die Nutzung von Lambda können Sie auch ganze Funktionen aufgerufen werden. Dies wird am folgenden Beispiel erklärt. "
      ],
      "metadata": {
        "id": "T9c0MzMi3qLi"
      }
    },
    {
      "cell_type": "code",
      "source": [
        "# By Calling function\n",
        "def calc_func(x):\n",
        "    Crop = x.Crop\n",
        "    Netto_Revenue = x.netto_revenue \n",
        "    min_selling_price_per_piece = Netto_Revenue*1.19*0.01\n",
        "    lucrative_selling_price = Netto_Revenue*1.59*0.01\n",
        "    return (Crop, min_selling_price_per_piece, lucrative_selling_price)\n",
        "\n",
        "rdd_process=gesamt_ertrag.rdd.map(lambda x: calc_func(x))\n",
        "cost_overview_with_func = rdd_process.toDF([\"Crop\",\"min_selling_price_per_piece\", \"lucrative_selling_price\"])\n",
        "cost_overview_with_func = cost_overview_with_func.withColumn(\"min_selling_price_per_piece\", func.round(cost_overview_with_func[\"min_selling_price_per_piece\"], 2)).withColumn(\"lucrative_selling_price\", func.round(cost_overview_with_func[\"lucrative_selling_price\"], 2))\n",
        "cost_overview_with_func.withColumn(\"currency\", func.lit(\"£\")).orderBy(col(\"lucrative_selling_price\").desc()).show()\n"
      ],
      "metadata": {
        "colab": {
          "base_uri": "https://localhost:8080/"
        },
        "id": "xGWjtKUn3vhk",
        "outputId": "52eae1be-3782-4d4e-f4e4-8c6748d8c6e1"
      },
      "execution_count": 32,
      "outputs": [
        {
          "output_type": "stream",
          "name": "stdout",
          "text": [
            "+------------+---------------------------+-----------------------+--------+\n",
            "|        Crop|min_selling_price_per_piece|lucrative_selling_price|currency|\n",
            "+------------+---------------------------+-----------------------+--------+\n",
            "|strawberries|                       5.61|                   7.49|       £|\n",
            "|      radish|                       0.24|                   0.32|       £|\n",
            "|    zucchini|                       0.04|                   0.05|       £|\n",
            "+------------+---------------------------+-----------------------+--------+\n",
            "\n"
          ]
        }
      ]
    }
  ],
  "metadata": {
    "colab": {
      "collapsed_sections": [],
      "name": "Uebungsaufgaben_kombiniert_mit_Ueberschriften.ipynb",
      "provenance": [],
      "include_colab_link": true
    },
    "kernelspec": {
      "display_name": "Python 3 (ipykernel)",
      "language": "python",
      "name": "python3"
    },
    "language_info": {
      "codemirror_mode": {
        "name": "ipython",
        "version": 3
      },
      "file_extension": ".py",
      "mimetype": "text/x-python",
      "name": "python",
      "nbconvert_exporter": "python",
      "pygments_lexer": "ipython3",
      "version": "3.9.12"
    }
  },
  "nbformat": 4,
  "nbformat_minor": 0
}
