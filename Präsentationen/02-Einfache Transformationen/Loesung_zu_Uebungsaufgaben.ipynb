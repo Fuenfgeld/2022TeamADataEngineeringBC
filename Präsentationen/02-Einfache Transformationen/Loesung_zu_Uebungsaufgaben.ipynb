{
  "cells": [
    {
      "cell_type": "markdown",
      "metadata": {
        "id": "view-in-github",
        "colab_type": "text"
      },
      "source": [
        "<a href=\"https://colab.research.google.com/github/Fuenfgeld/2022TeamADataEngineeringBC/blob/Ahmad_Uebungsaufgaben/Pr%C3%A4sentationen/02-Einfache%20Transformationen/Loesung_zu_Uebungsaufgaben.ipynb\" target=\"_parent\"><img src=\"https://colab.research.google.com/assets/colab-badge.svg\" alt=\"Open In Colab\"/></a>"
      ]
    },
    {
      "cell_type": "markdown",
      "metadata": {
        "id": "XZxVqkOwF98C"
      },
      "source": [
        "# Einfache Transformationen"
      ]
    },
    {
      "cell_type": "code",
      "execution_count": null,
      "metadata": {
        "id": "fUtXLhoNONMJ"
      },
      "outputs": [],
      "source": [
        "# Bibliotheken einmalig installieren\n",
        "\n",
        "%pip install pyspark pandas"
      ]
    },
    {
      "cell_type": "code",
      "execution_count": null,
      "metadata": {
        "id": "f8KKPiSjF98Y"
      },
      "outputs": [],
      "source": [
        "!wget -O create_data.py https://raw.githubusercontent.com/Fuenfgeld/2022TeamADataEngineeringBC/Ahmads_Branch/Pr%C3%A4sentationen/02-Einfache%20Transformationen/create_data.py"
      ]
    },
    {
      "cell_type": "code",
      "execution_count": null,
      "metadata": {
        "id": "Cnqw0K59F98a"
      },
      "outputs": [],
      "source": [
        "import sqlite3\n",
        "import pandas as pd\n",
        "import pyspark.sql.functions as pysparkFunctions \n",
        "import os\n",
        "\n",
        "os.system(\"python3 create_data.py\")"
      ]
    },
    {
      "cell_type": "code",
      "source": [
        "## (Py)Spark starten\n",
        "\n",
        "from pyspark.sql import SparkSession\n",
        "spark = SparkSession.builder.getOrCreate()"
      ],
      "metadata": {
        "id": "gAGwDgrnNKra"
      },
      "execution_count": 6,
      "outputs": []
    },
    {
      "cell_type": "markdown",
      "source": [
        "**Übungen**\n",
        "\n",
        "1. Dieses Notebook enthält noch eine weitere JSON Datei namens `Corn.json` mit Daten zu Gedreide. Werte den Wasserverbrauch nur für das Gedreide aus.\n",
        "2. Ermittle wie viel Wasser pro Feld eingesetzt wurde.\n",
        "3. Ermittle den gesamten Wasserverbrauch für alle Pfanzen."
      ],
      "metadata": {
        "id": "0w5sER1wH4Hh"
      }
    },
    {
      "cell_type": "code",
      "source": [
        "# Datei Corn einlesen & in Spark-Dataframe schreiben\n",
        "df_corn = spark.read.option(\"multiline\",True).json('Corn.json')\n",
        "df_corn.show()\n"
      ],
      "metadata": {
        "id": "e2vLgvPmAgwN",
        "outputId": "d8e7eff1-5e52-4e99-9be1-8d1c33970b98",
        "colab": {
          "base_uri": "https://localhost:8080/"
        }
      },
      "execution_count": 7,
      "outputs": [
        {
          "output_type": "stream",
          "name": "stdout",
          "text": [
            "+----+-----+-------+-----------------+----+-------------+\n",
            "|crop|field|revenue|water_consumption|week|yield_per_sqm|\n",
            "+----+-----+-------+-----------------+----+-------------+\n",
            "|corn|    8|      0|               12|   1|            0|\n",
            "|corn|    9|      0|               10|   2|            0|\n",
            "|corn|    8|      0|               12|   3|            0|\n",
            "|corn|    8|      0|               14|   4|            0|\n",
            "|corn|    8|      0|               14|   5|            5|\n",
            "|corn|    9|     30|               18|   6|           10|\n",
            "|corn|    8|      0|               12|   1|            0|\n",
            "|corn|   10|      0|               10|   2|            0|\n",
            "|corn|   10|      0|               12|   3|            0|\n",
            "|corn|    8|     60|               20|   7|           25|\n",
            "|corn|   10|    150|               26|   8|           25|\n",
            "|corn|    8|    150|               24|   9|           25|\n",
            "|corn|    9|    100|               10|  10|           25|\n",
            "|corn|    8|    150|             null|  11|            0|\n",
            "+----+-----+-------+-----------------+----+-------------+\n",
            "\n"
          ]
        }
      ]
    },
    {
      "cell_type": "code",
      "source": [
        "# 1. Werte den Wasserverbrauch nur für das Gedreide aus.\n",
        "df_corn.select(\"crop\", \"water_consumption\").show()\n",
        "# df_corn.select(\"crop\", \"water_consumption\").dropna().show() # etwas schöner"
      ],
      "metadata": {
        "id": "MZ415hTKBbYM",
        "outputId": "2cec223b-0e35-4c4a-e237-91367344523c",
        "colab": {
          "base_uri": "https://localhost:8080/"
        }
      },
      "execution_count": 8,
      "outputs": [
        {
          "output_type": "stream",
          "name": "stdout",
          "text": [
            "+----+-----------------+\n",
            "|crop|water_consumption|\n",
            "+----+-----------------+\n",
            "|corn|               12|\n",
            "|corn|               10|\n",
            "|corn|               12|\n",
            "|corn|               14|\n",
            "|corn|               14|\n",
            "|corn|               18|\n",
            "|corn|               12|\n",
            "|corn|               10|\n",
            "|corn|               12|\n",
            "|corn|               20|\n",
            "|corn|               26|\n",
            "|corn|               24|\n",
            "|corn|               10|\n",
            "|corn|             null|\n",
            "+----+-----------------+\n",
            "\n"
          ]
        }
      ]
    },
    {
      "cell_type": "code",
      "source": [
        "# 2. Ermittle wie viel Wasser pro Feld eingesetzt wurde.\n",
        "\n",
        "df_corn.groupBy(\"field\").sum(\"water_consumption\").show()"
      ],
      "metadata": {
        "id": "6QTrgqSUCLvA",
        "outputId": "07c420f1-a62c-49b0-c0e8-df75a4b5a2ee",
        "colab": {
          "base_uri": "https://localhost:8080/"
        }
      },
      "execution_count": 11,
      "outputs": [
        {
          "output_type": "stream",
          "name": "stdout",
          "text": [
            "+-----+----------------------+\n",
            "|field|sum(water_consumption)|\n",
            "+-----+----------------------+\n",
            "|    9|                    38|\n",
            "|   10|                    48|\n",
            "|    8|                   108|\n",
            "+-----+----------------------+\n",
            "\n"
          ]
        }
      ]
    },
    {
      "cell_type": "code",
      "source": [
        "## 3. Ermittle den gesamten Wasserverbrauch für alle Pfanzen.\n",
        "\n",
        "df_corn.agg(pysparkFunctions.sum(\"water_consumption\")).show()"
      ],
      "metadata": {
        "id": "fH4Ievq7E0nj",
        "outputId": "fd4c69b8-9551-486b-fdac-a5edac0de4ef",
        "colab": {
          "base_uri": "https://localhost:8080/"
        }
      },
      "execution_count": 10,
      "outputs": [
        {
          "output_type": "stream",
          "name": "stdout",
          "text": [
            "+----------------------+\n",
            "|sum(water_consumption)|\n",
            "+----------------------+\n",
            "|                   194|\n",
            "+----------------------+\n",
            "\n"
          ]
        }
      ]
    }
  ],
  "metadata": {
    "colab": {
      "collapsed_sections": [],
      "name": "Lösung_zu_Übungsaufgaben.ipynb",
      "provenance": [],
      "include_colab_link": true
    },
    "kernelspec": {
      "display_name": "Python 3 (ipykernel)",
      "language": "python",
      "name": "python3"
    },
    "language_info": {
      "codemirror_mode": {
        "name": "ipython",
        "version": 3
      },
      "file_extension": ".py",
      "mimetype": "text/x-python",
      "name": "python",
      "nbconvert_exporter": "python",
      "pygments_lexer": "ipython3",
      "version": "3.9.12"
    }
  },
  "nbformat": 4,
  "nbformat_minor": 0
}