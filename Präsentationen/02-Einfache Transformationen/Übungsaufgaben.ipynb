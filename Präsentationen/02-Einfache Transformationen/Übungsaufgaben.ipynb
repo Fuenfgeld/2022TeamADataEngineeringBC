{
  "cells": [
    {
      "cell_type": "markdown",
      "metadata": {
        "id": "view-in-github",
        "colab_type": "text"
      },
      "source": [
        "<a href=\"https://colab.research.google.com/github/Fuenfgeld/2022TeamADataEngineeringBC/blob/main/Pr%C3%A4sentationen/02-Einfache%20Transformationen/%C3%9Cbungsaufgaben.ipynb\" target=\"_parent\"><img src=\"https://colab.research.google.com/assets/colab-badge.svg\" alt=\"Open In Colab\"/></a>"
      ]
    },
    {
      "cell_type": "markdown",
      "metadata": {
        "id": "7Psrl83EwOdo"
      },
      "source": [
        "# Einfache Transformationen"
      ]
    },
    {
      "cell_type": "code",
      "execution_count": 6,
      "metadata": {
        "colab": {
          "base_uri": "https://localhost:8080/"
        },
        "id": "fUtXLhoNONMJ",
        "outputId": "e198ad37-9d63-4936-9c7a-6e38deb32be6"
      },
      "outputs": [
        {
          "output_type": "stream",
          "name": "stdout",
          "text": [
            "Requirement already satisfied: pyspark in /usr/local/lib/python3.7/dist-packages (3.2.1)\n",
            "Requirement already satisfied: pandas in /usr/local/lib/python3.7/dist-packages (1.3.5)\n",
            "Requirement already satisfied: py4j==0.10.9.3 in /usr/local/lib/python3.7/dist-packages (from pyspark) (0.10.9.3)\n",
            "Requirement already satisfied: numpy>=1.17.3 in /usr/local/lib/python3.7/dist-packages (from pandas) (1.21.6)\n",
            "Requirement already satisfied: pytz>=2017.3 in /usr/local/lib/python3.7/dist-packages (from pandas) (2022.1)\n",
            "Requirement already satisfied: python-dateutil>=2.7.3 in /usr/local/lib/python3.7/dist-packages (from pandas) (2.8.2)\n",
            "Requirement already satisfied: six>=1.5 in /usr/local/lib/python3.7/dist-packages (from python-dateutil>=2.7.3->pandas) (1.15.0)\n"
          ]
        }
      ],
      "source": [
        "# Bibliotheken einmalig installieren\n",
        "\n",
        "%pip install pyspark pandas"
      ]
    },
    {
      "cell_type": "code",
      "execution_count": 7,
      "metadata": {
        "id": "Q_lEB2jhwOdr",
        "outputId": "2ddbd46b-2601-4ff3-b9fc-21ba29ee46da",
        "colab": {
          "base_uri": "https://localhost:8080/"
        }
      },
      "outputs": [
        {
          "output_type": "stream",
          "name": "stdout",
          "text": [
            "--2022-05-04 20:28:23--  https://raw.githubusercontent.com/Fuenfgeld/2022TeamADataEngineeringBC/main/Pr%C3%A4sentationen/02-Einfache%20Transformationen/create_data.py\n",
            "Resolving raw.githubusercontent.com (raw.githubusercontent.com)... 185.199.108.133, 185.199.109.133, 185.199.110.133, ...\n",
            "Connecting to raw.githubusercontent.com (raw.githubusercontent.com)|185.199.108.133|:443... connected.\n",
            "HTTP request sent, awaiting response... 200 OK\n",
            "Length: 10134 (9.9K) [text/plain]\n",
            "Saving to: ‘create_data.py.1’\n",
            "\n",
            "\rcreate_data.py.1      0%[                    ]       0  --.-KB/s               \rcreate_data.py.1    100%[===================>]   9.90K  --.-KB/s    in 0s      \n",
            "\n",
            "2022-05-04 20:28:23 (62.5 MB/s) - ‘create_data.py.1’ saved [10134/10134]\n",
            "\n"
          ]
        }
      ],
      "source": [
        "!wget https://raw.githubusercontent.com/Fuenfgeld/2022TeamADataEngineeringBC/main/Pr%C3%A4sentationen/02-Einfache%20Transformationen/create_data.py"
      ]
    },
    {
      "cell_type": "code",
      "execution_count": 8,
      "metadata": {
        "id": "283VranLwOds",
        "outputId": "b4dd10e5-e5c5-4247-96e4-5785af666a4d",
        "colab": {
          "base_uri": "https://localhost:8080/"
        }
      },
      "outputs": [
        {
          "output_type": "execute_result",
          "data": {
            "text/plain": [
              "0"
            ]
          },
          "metadata": {},
          "execution_count": 8
        }
      ],
      "source": [
        "import sqlite3\n",
        "import pandas as pd\n",
        "import pyspark.sql.functions as pysparkFunctions \n",
        "import os\n",
        "\n",
        "os.system(\"python3 create_data.py\")"
      ]
    },
    {
      "cell_type": "code",
      "execution_count": 9,
      "metadata": {
        "colab": {
          "base_uri": "https://localhost:8080/"
        },
        "id": "CyG16lp1QzBH",
        "outputId": "1a583277-0ced-4248-c301-dc8218bd4b1f"
      },
      "outputs": [
        {
          "output_type": "stream",
          "name": "stdout",
          "text": [
            "(5, 'Barn Ground', 10)\n",
            "(6, 'Bank', 10)\n",
            "(7, 'Far Brossler', 20)\n",
            "\n",
            "\n",
            "Dies ist das erzeugte Dataframe:\n",
            "\n",
            "    field_id    field_name  area_in_sqm\n",
            "0         5   Barn Ground           10\n",
            "1         6          Bank           10\n",
            "2         7  Far Brossler           20\n"
          ]
        }
      ],
      "source": [
        "## Datenbankdaten in Dataframe schreiben\n",
        "connection_obj = sqlite3.connect('Diddly_Squat_Farm.db')\n",
        "cursor_obj = connection_obj.cursor()\n",
        "\n",
        "# Tabelle Fields ausgeben\n",
        "for row in cursor_obj.execute('SELECT * FROM fields'):\n",
        "        print(row)\n",
        "\n",
        "# Tabelle Fields in Dataframe df_fields schreiben\n",
        "df_fields = pd.read_sql_query(\"SELECT * FROM fields\", connection_obj)\n",
        "print('\\n\\nDies ist das erzeugte Dataframe:\\n\\n', df_fields)\n",
        "\n",
        "connection_obj.close()"
      ]
    },
    {
      "cell_type": "code",
      "execution_count": 10,
      "metadata": {
        "id": "PNe_AqfkRfbh"
      },
      "outputs": [],
      "source": [
        "## (Py)Spark starten\n",
        "\n",
        "from pyspark.sql import SparkSession\n",
        "spark = SparkSession.builder.getOrCreate()"
      ]
    },
    {
      "cell_type": "code",
      "execution_count": 11,
      "metadata": {
        "colab": {
          "base_uri": "https://localhost:8080/"
        },
        "id": "l_rWs30hRjbN",
        "outputId": "57ab54c5-40c3-476d-cbc4-129b60ec31b4"
      },
      "outputs": [
        {
          "output_type": "stream",
          "name": "stdout",
          "text": [
            "+------------+-----+----+-----------------+-------+-------------+\n",
            "|        crop|field|week|water_consumption|revenue|yield_per_sqm|\n",
            "+------------+-----+----+-----------------+-------+-------------+\n",
            "|strawberries|    7|   1|               12|      0|            0|\n",
            "|strawberries|    7|   2|               10|      0|            0|\n",
            "|strawberries|    7|   3|               12|      0|            0|\n",
            "|strawberries|    7|   4|               14|      0|            0|\n",
            "|strawberries|    7|   5|               14|      0|            5|\n",
            "|strawberries|    7|   6|               18|     30|           10|\n",
            "|strawberries|    7|   1|               12|      0|            0|\n",
            "|strawberries|    7|   2|               10|      0|            0|\n",
            "|strawberries|    7|   3|               12|      0|            0|\n",
            "|strawberries|    7|   7|               20|     60|           25|\n",
            "+------------+-----+----+-----------------+-------+-------------+\n",
            "only showing top 10 rows\n",
            "\n",
            "+--------+-----+-------+-----------------+----+-------------+\n",
            "|    crop|field|revenue|water_consumption|week|yield_per_sqm|\n",
            "+--------+-----+-------+-----------------+----+-------------+\n",
            "|zucchini|    5| {0, 0}|                6|   1|            0|\n",
            "|  radish|    6| {0, 0}|                4|   1|            0|\n",
            "|zucchini|    5| {0, 0}|                5|   2|            0|\n",
            "|  radish|    6| {0, 0}|                4|   2|            0|\n",
            "|zucchini|    5| {0, 0}|                6|   3|            0|\n",
            "|  radish|    6| {0, 0}|                5|   3|            0|\n",
            "|zucchini|    5| {0, 0}|                7|   4|            0|\n",
            "|  radish|    6| {0, 0}|                3|   4|            0|\n",
            "|zucchini|    5| {0, 0}|                7|   5|            5|\n",
            "|  radish|    6| {0, 0}|                6|   5|            0|\n",
            "+--------+-----+-------+-----------------+----+-------------+\n",
            "only showing top 10 rows\n",
            "\n"
          ]
        }
      ],
      "source": [
        "## JSON-/CSV-Dateien in Dataframes schreiben\n",
        "df_fru = spark.read.options(header='True', multiline='True', inferSchema='True').csv('Fruits.csv')\n",
        "df_veg = spark.read.option(\"multiline\",True).json('Vegetables.json')\n",
        "\n",
        "# erstellte Dataframes ausgeben (10 Einträge ausgeben)\n",
        "df_fru.show(10)\n",
        "df_veg.show(10)\n"
      ]
    },
    {
      "cell_type": "code",
      "execution_count": 12,
      "metadata": {
        "colab": {
          "base_uri": "https://localhost:8080/"
        },
        "id": "Nl-G1iyyTWZ1",
        "outputId": "bf90c844-97ae-424c-c9ef-97aa3ae5f920"
      },
      "outputs": [
        {
          "output_type": "stream",
          "name": "stdout",
          "text": [
            "Zucchini in der ersten Woche: Row(crop='zucchini', field=5, revenue=Row(net=0, tax=0), water_consumption=7, week=5, yield_per_sqm=5)\n",
            "\n"
          ]
        }
      ],
      "source": [
        "## Zeilen abfragen: Jeremy überlegt welche Pflanze er anbaut und schaut sich dafür die Zucchini genauer an\n",
        "\n",
        "df_veg_lokal = df_veg.collect()  # eigentlich unnötig, da bei uns ales lokal läuft\n",
        "print(f\"Zucchini in der ersten Woche: {df_veg_lokal[8]}\\n\")"
      ]
    },
    {
      "cell_type": "code",
      "execution_count": 13,
      "metadata": {
        "colab": {
          "base_uri": "https://localhost:8080/"
        },
        "id": "Cp_JydMeVZk2",
        "outputId": "321cb9bd-a80c-4c00-a552-2a8dd4e5e4bd"
      },
      "outputs": [
        {
          "output_type": "stream",
          "name": "stdout",
          "text": [
            "+--------+-----------------+\n",
            "|    crop|water_consumption|\n",
            "+--------+-----------------+\n",
            "|zucchini|                6|\n",
            "|  radish|                4|\n",
            "|zucchini|                5|\n",
            "|  radish|                4|\n",
            "|zucchini|                6|\n",
            "|  radish|                5|\n",
            "|zucchini|                7|\n",
            "|  radish|                3|\n",
            "|zucchini|                7|\n",
            "|  radish|                6|\n",
            "|zucchini|                9|\n",
            "|  radish|                7|\n",
            "|zucchini|               10|\n",
            "|  radish|                8|\n",
            "|zucchini|               13|\n",
            "|  radish|                8|\n",
            "|zucchini|               12|\n",
            "|  radish|             null|\n",
            "|zucchini|                5|\n",
            "|zucchini|             null|\n",
            "+--------+-----------------+\n",
            "\n"
          ]
        }
      ],
      "source": [
        "## Spalten abfragen:\tJeremy will sich Übersicht über generellen Wasserverbrauch der Gemüsesorten verschaffen -> dazu begutachtet er die Spalte 'Wasserverbrauch'  \n",
        "df_veg.select(\"crop\", \"water_consumption\").show()"
      ]
    },
    {
      "cell_type": "code",
      "execution_count": 14,
      "metadata": {
        "colab": {
          "base_uri": "https://localhost:8080/"
        },
        "id": "4Eub8hXEWKbl",
        "outputId": "54df1f07-ad62-4449-f46f-0d81db31c382"
      },
      "outputs": [
        {
          "output_type": "stream",
          "name": "stdout",
          "text": [
            "+--------+-----+-------+-----------------+----+-------------+\n",
            "|    crop|field|revenue|water_consumption|week|yield_per_sqm|\n",
            "+--------+-----+-------+-----------------+----+-------------+\n",
            "|zucchini|    5|      0|                6|   1|            0|\n",
            "|  radish|    6|      0|                4|   1|            0|\n",
            "|zucchini|    5|      0|                5|   2|            0|\n",
            "|  radish|    6|      0|                4|   2|            0|\n",
            "|zucchini|    5|      0|                6|   3|            0|\n",
            "+--------+-----+-------+-----------------+----+-------------+\n",
            "only showing top 5 rows\n",
            "\n",
            "+------------+-----+----+-----------------+-------+-------------+\n",
            "|        crop|field|week|water_consumption|revenue|yield_per_sqm|\n",
            "+------------+-----+----+-----------------+-------+-------------+\n",
            "|strawberries|    7|   1|               12|      0|            0|\n",
            "|strawberries|    7|   2|               10|      0|            0|\n",
            "|strawberries|    7|   3|               12|      0|            0|\n",
            "|strawberries|    7|   4|               14|      0|            0|\n",
            "|strawberries|    7|   5|               14|      0|            5|\n",
            "|strawberries|    7|   6|               18|     30|           10|\n",
            "|strawberries|    7|   1|               12|      0|            0|\n",
            "|strawberries|    7|   2|               10|      0|            0|\n",
            "|strawberries|    7|   3|               12|      0|            0|\n",
            "|strawberries|    7|   7|               20|     60|           25|\n",
            "|strawberries|    7|   8|               26|    150|           25|\n",
            "|strawberries|    7|   9|               24|    150|           25|\n",
            "|strawberries|    7|  10|               10|    100|           25|\n",
            "|strawberries|    7|  11|             null|    150|            0|\n",
            "|    zucchini|    5|   0|                6|      1|            0|\n",
            "|      radish|    6|   0|                4|      1|            0|\n",
            "|    zucchini|    5|   0|                5|      2|            0|\n",
            "|      radish|    6|   0|                4|      2|            0|\n",
            "|    zucchini|    5|   0|                6|      3|            0|\n",
            "|      radish|    6|   0|                5|      3|            0|\n",
            "+------------+-----+----+-----------------+-------+-------------+\n",
            "only showing top 20 rows\n",
            "\n"
          ]
        }
      ],
      "source": [
        "## DataFrames Zusammenfügen: Jeremy überlegt ob er Gemüse oder Obst anbauen soll, \n",
        "## deshalb verschafft er sich einen Gesamtübersicht/Vergleich aller Obst-&Pflanzensorten: Obst- & Gemüsesorten konkatenieren\n",
        "\n",
        "## Um die beiden Dataframes kombinieren zu können müssen sie in das gleiche Format gebracht werden.\n",
        "## Achtung hier verändert sich der semantische Sinn der Spalte. Dies ist hier egal, weil wir sie weiter unten löschen.\n",
        "df_veg_correct_revenue = df_veg.withColumn(\"revenue\", pysparkFunctions.column(\"revenue.net\"))\n",
        "df_veg_correct_revenue.show(5)\n",
        "\n",
        "df_fru_veg = df_fru.union(df_veg_correct_revenue)\n",
        "df_fru_veg.show()"
      ]
    },
    {
      "cell_type": "code",
      "execution_count": 15,
      "metadata": {
        "id": "GqtlsynJwOdz",
        "outputId": "0160d052-8f32-47b7-837f-8aa1cbc8ff19",
        "colab": {
          "base_uri": "https://localhost:8080/"
        }
      },
      "outputs": [
        {
          "output_type": "stream",
          "name": "stdout",
          "text": [
            "+------------+-----+----+-----------------+-------+-------------+\n",
            "|        crop|field|week|water_consumption|revenue|yield_per_sqm|\n",
            "+------------+-----+----+-----------------+-------+-------------+\n",
            "|strawberries|    7|   5|               14|      0|            5|\n",
            "|strawberries|    7|   7|               20|     60|           25|\n",
            "|strawberries|    7|   9|               24|    150|           25|\n",
            "|strawberries|    7|   2|               10|      0|            0|\n",
            "|strawberries|    7|   6|               18|     30|           10|\n",
            "|strawberries|    7|   8|               26|    150|           25|\n",
            "|strawberries|    7|  11|             null|    150|            0|\n",
            "|strawberries|    7|   3|               12|      0|            0|\n",
            "|strawberries|    7|  10|               10|    100|           25|\n",
            "|strawberries|    7|   4|               14|      0|            0|\n",
            "|strawberries|    7|   1|               12|      0|            0|\n",
            "|    zucchini|    5|   0|                7|      5|            5|\n",
            "|      radish|    6|  50|                8|      8|          240|\n",
            "|    zucchini|    5|   0|                6|      1|            0|\n",
            "|    zucchini|    5|   0|                6|      3|            0|\n",
            "|    zucchini|    5|   0|                5|      2|            0|\n",
            "|      radish|    6|   0|                4|      1|            0|\n",
            "|      radish|    6|  50|             null|      1|            0|\n",
            "|    zucchini|    5|  40|               12|      9|           25|\n",
            "|      radish|    6|   0|                6|      5|            0|\n",
            "+------------+-----+----+-----------------+-------+-------------+\n",
            "only showing top 20 rows\n",
            "\n"
          ]
        }
      ],
      "source": [
        "## Dupliakte entfernen: Wie Jeremy gerade aufgefallen ist, enthällt die Tabelle noch Duplikate.\n",
        "## (Siehe z.B. Woche 2 der Erdbeeren) Diese sollen nun entfernt werden.\n",
        "\n",
        "df_fru_veg = df_fru_veg.dropDuplicates()\n",
        "df_fru_veg.show()"
      ]
    },
    {
      "cell_type": "code",
      "execution_count": 16,
      "metadata": {
        "colab": {
          "base_uri": "https://localhost:8080/"
        },
        "id": "vyjGrSoUXCGk",
        "outputId": "25d97d52-f88f-4603-c077-30dd40ebfc4d"
      },
      "outputs": [
        {
          "output_type": "stream",
          "name": "stdout",
          "text": [
            "+------------+-----------------+\n",
            "|        crop|water_consumption|\n",
            "+------------+-----------------+\n",
            "|strawberries|               14|\n",
            "|strawberries|               20|\n",
            "|strawberries|               24|\n",
            "|strawberries|               10|\n",
            "|strawberries|               18|\n",
            "|strawberries|               26|\n",
            "|strawberries|             null|\n",
            "|strawberries|               12|\n",
            "|strawberries|               10|\n",
            "|strawberries|               14|\n",
            "|strawberries|               12|\n",
            "|    zucchini|                7|\n",
            "|      radish|                8|\n",
            "|    zucchini|                6|\n",
            "|    zucchini|                6|\n",
            "|    zucchini|                5|\n",
            "|      radish|                4|\n",
            "|      radish|             null|\n",
            "|    zucchini|               12|\n",
            "|      radish|                6|\n",
            "+------------+-----------------+\n",
            "only showing top 20 rows\n",
            "\n"
          ]
        }
      ],
      "source": [
        "## Spalten entfernen:   Um einen klareren Blick auf die Daten zu erhalten, entfernt Jeremy alle Spalten\n",
        "## die nicht über den Wasserverbrauch aussagen\n",
        "\n",
        "df_fru_veg = df_fru_veg.drop(*('field', 'revenue', 'week', 'yield_per_sqm'))\n",
        "df_fru_veg.show()"
      ]
    },
    {
      "cell_type": "code",
      "execution_count": 17,
      "metadata": {
        "colab": {
          "base_uri": "https://localhost:8080/"
        },
        "id": "DbRI7RbAZ0rK",
        "outputId": "d52e9ae1-abe9-4273-fb32-484bb85c35a6"
      },
      "outputs": [
        {
          "output_type": "stream",
          "name": "stdout",
          "text": [
            "+------------+-----------------+\n",
            "|        crop|water_consumption|\n",
            "+------------+-----------------+\n",
            "|strawberries|               14|\n",
            "|strawberries|               20|\n",
            "|strawberries|               24|\n",
            "|strawberries|               10|\n",
            "|strawberries|               18|\n",
            "|strawberries|               26|\n",
            "|strawberries|               12|\n",
            "|strawberries|               10|\n",
            "|strawberries|               14|\n",
            "|strawberries|               12|\n",
            "|    zucchini|                7|\n",
            "|      radish|                8|\n",
            "|    zucchini|                6|\n",
            "|    zucchini|                6|\n",
            "|    zucchini|                5|\n",
            "|      radish|                4|\n",
            "|    zucchini|               12|\n",
            "|      radish|                6|\n",
            "|      radish|                3|\n",
            "|    zucchini|               13|\n",
            "+------------+-----------------+\n",
            "only showing top 20 rows\n",
            "\n"
          ]
        }
      ],
      "source": [
        "## Aufräumen:\tFür Jeremy sind jetzt natürlich nur Einträge relevant, die einen Wasserverbrauch beinhalten.\n",
        "\n",
        "df_fru_veg = df_fru_veg.dropna()\n",
        "df_fru_veg.show()"
      ]
    },
    {
      "cell_type": "code",
      "execution_count": 18,
      "metadata": {
        "id": "-DQKqgx7wOd0",
        "outputId": "82b6aae8-3a83-4c48-9a25-d4b8e079f525",
        "colab": {
          "base_uri": "https://localhost:8080/"
        }
      },
      "outputs": [
        {
          "output_type": "execute_result",
          "data": {
            "text/plain": [
              "[Row(sum(water_consumption)=285)]"
            ]
          },
          "metadata": {},
          "execution_count": 18
        }
      ],
      "source": [
        "## Wasserverbrauch anzeigen:    Jeremy möchte wissen, wie der gesamte Wasserverbrauch im letzten Jahr war.\n",
        "\n",
        "df_fru_veg.agg(pysparkFunctions.sum(\"water_consumption\")).collect()"
      ]
    },
    {
      "cell_type": "code",
      "execution_count": 19,
      "metadata": {
        "id": "XKfNJI5QwOd1",
        "outputId": "fcfe6eef-5aa7-43e1-9d1a-dfb0bd048a2a",
        "colab": {
          "base_uri": "https://localhost:8080/"
        }
      },
      "outputs": [
        {
          "output_type": "execute_result",
          "data": {
            "text/plain": [
              "[Row(sum(water_consumption)=160)]"
            ]
          },
          "metadata": {},
          "execution_count": 19
        }
      ],
      "source": [
        "## Wasserverbrauch pro Pfanzenart anzeigen: Jeremy möchte noch wissen, wie der Wasserverbrauch für die unterschiedlichen Gewächsarten ist.\n",
        "\n",
        "df_fru_veg.filter(df_fru_veg.crop == \"strawberries\").agg(pysparkFunctions.sum(\"water_consumption\")).collect()"
      ]
    },
    {
      "cell_type": "code",
      "execution_count": 21,
      "metadata": {
        "id": "aOOvHHDowOd1",
        "outputId": "cf7e8b50-d01f-42f8-e1a7-fab7040fdbae",
        "colab": {
          "base_uri": "https://localhost:8080/"
        }
      },
      "outputs": [
        {
          "output_type": "stream",
          "name": "stdout",
          "text": [
            "[(0, 'strawberries', 7, 5, 14.0, 0, 5), (1, 'strawberries', 7, 7, 20.0, 60, 25), (2, 'strawberries', 7, 9, 24.0, 150, 25), (3, 'strawberries', 7, 2, 10.0, 0, 0), (4, 'strawberries', 7, 6, 18.0, 30, 10), (5, 'strawberries', 7, 8, 26.0, 150, 25), (6, 'strawberries', 7, 11, None, 150, 0), (7, 'strawberries', 7, 3, 12.0, 0, 0), (8, 'strawberries', 7, 10, 10.0, 100, 25), (9, 'strawberries', 7, 4, 14.0, 0, 0), (10, 'strawberries', 7, 1, 12.0, 0, 0), (11, 'zucchini', 5, 0, 7.0, 5, 5), (12, 'radish', 6, 50, 8.0, 8, 240), (13, 'zucchini', 5, 0, 6.0, 1, 0), (14, 'zucchini', 5, 0, 6.0, 3, 0), (15, 'zucchini', 5, 0, 5.0, 2, 0), (16, 'radish', 6, 0, 4.0, 1, 0), (17, 'radish', 6, 50, None, 1, 0), (18, 'zucchini', 5, 40, 12.0, 9, 25), (19, 'radish', 6, 0, 6.0, 5, 0), (20, 'radish', 6, 0, 3.0, 4, 0), (21, 'zucchini', 5, 40, 13.0, 8, 25), (22, 'radish', 6, 0, 4.0, 2, 0), (23, 'zucchini', 5, 40, None, 11, 0), (24, 'zucchini', 5, 16, 10.0, 7, 25), (25, 'zucchini', 5, 40, 5.0, 10, 25), (26, 'radish', 6, 0, 7.0, 1, 0), (27, 'zucchini', 5, 8, 9.0, 6, 10), (28, 'zucchini', 5, 0, 7.0, 4, 0), (29, 'radish', 6, 32, 8.0, 7, 160), (30, 'radish', 6, 0, 5.0, 3, 0)]\n"
          ]
        }
      ],
      "source": [
        "## Daten speichern: Um langfristig auf die Daten zurückgreifen zu können, speichern wird jetzt noch die Rohdaten in einer Datenbank.\n",
        "\n",
        "connection = sqlite3.connect('result.sqlite')\n",
        "\n",
        "df_raw_data = df_fru.union(df_veg_correct_revenue).drop_duplicates()\n",
        "df_raw_data.toPandas().to_sql('water_consumption', connection, if_exists='replace', index=True)\n",
        "\n",
        "print(connection.execute('SELECT * FROM water_consumption;').fetchall())\n",
        "\n",
        "connection.close()\n"
      ]
    },
    {
      "cell_type": "markdown",
      "metadata": {
        "id": "WCvKWKFVwOd2"
      },
      "source": [
        "**Übungen**\n",
        "\n",
        "1. Dieses Notebook enthält noch eine weitere JSON Datei namens `Corn.json` mit Daten zu Gedreide. Werte den Wasserverbrauch nur für das Gedreide aus.\n",
        "2. Ermittle wie viel Wasser pro Feld eingesetzt wurde.\n",
        "3. Ermittle den gesamten Wasserverbrauch für alle Pfanzen."
      ]
    }
  ],
  "metadata": {
    "colab": {
      "collapsed_sections": [],
      "name": "Übungsaufgaben.ipynb",
      "provenance": [],
      "include_colab_link": true
    },
    "kernelspec": {
      "display_name": "Python 3 (ipykernel)",
      "language": "python",
      "name": "python3"
    },
    "language_info": {
      "codemirror_mode": {
        "name": "ipython",
        "version": 3
      },
      "file_extension": ".py",
      "mimetype": "text/x-python",
      "name": "python",
      "nbconvert_exporter": "python",
      "pygments_lexer": "ipython3",
      "version": "3.9.12"
    }
  },
  "nbformat": 4,
  "nbformat_minor": 0
}