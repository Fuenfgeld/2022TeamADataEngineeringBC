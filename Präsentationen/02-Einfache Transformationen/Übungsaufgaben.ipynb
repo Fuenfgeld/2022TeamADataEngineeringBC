{
  "cells": [
    {
      "cell_type": "markdown",
      "metadata": {
        "id": "view-in-github",
        "colab_type": "text"
      },
      "source": [
        "<a href=\"https://colab.research.google.com/github/Fuenfgeld/2022TeamADataEngineeringBC/blob/Ahmad_Uebungsaufgaben/Pr%C3%A4sentationen/02-Einfache%20Transformationen/%C3%9Cbungsaufgaben.ipynb\" target=\"_parent\"><img src=\"https://colab.research.google.com/assets/colab-badge.svg\" alt=\"Open In Colab\"/></a>"
      ]
    },
    {
      "cell_type": "markdown",
      "metadata": {
        "id": "O-09koDFxUWq"
      },
      "source": [
        "# Einfache Transformationen"
      ]
    },
    {
      "cell_type": "code",
      "execution_count": null,
      "metadata": {
        "id": "fUtXLhoNONMJ"
      },
      "outputs": [],
      "source": [
        "# Bibliotheken einmalig installieren\n",
        "\n",
        "%pip install pyspark pandas"
      ]
    },
    {
      "cell_type": "code",
      "execution_count": null,
      "metadata": {
        "id": "217s1ZMwxUWu"
      },
      "outputs": [],
      "source": [
        "!wget https://raw.githubusercontent.com/Fuenfgeld/2022TeamADataEngineeringBC/Ahmad_Uebungsaufgaben/Pr%C3%A4sentationen/02-Einfache%20Transformationen/create_data.py"
      ]
    },
    {
      "cell_type": "code",
      "execution_count": null,
      "metadata": {
        "id": "iZL13l1txUWw"
      },
      "outputs": [],
      "source": [
        "import sqlite3\n",
        "import pandas as pd\n",
        "import pyspark.sql.functions as pysparkFunctions \n",
        "import os\n",
        "\n",
        "os.system(\"python3 create_data.py\")"
      ]
    },
    {
      "cell_type": "code",
      "execution_count": null,
      "metadata": {
        "id": "CyG16lp1QzBH"
      },
      "outputs": [],
      "source": [
        "## Datenbankdaten in Dataframe schreiben\n",
        "connection_obj = sqlite3.connect('Diddly_Squat_Farm.db')\n",
        "cursor_obj = connection_obj.cursor()\n",
        "\n",
        "# Tabelle Fields ausgeben\n",
        "for row in cursor_obj.execute('SELECT * FROM fields'):\n",
        "        print(row)\n",
        "\n",
        "# Tabelle Fields in Dataframe df_fields schreiben\n",
        "df_fields = pd.read_sql_query(\"SELECT * FROM fields\", connection_obj)\n",
        "print('\\n\\nDies ist das erzeugte Dataframe:\\n\\n', df_fields)\n",
        "\n",
        "connection_obj.close()"
      ]
    },
    {
      "cell_type": "code",
      "execution_count": null,
      "metadata": {
        "id": "PNe_AqfkRfbh"
      },
      "outputs": [],
      "source": [
        "## (Py)Spark starten\n",
        "\n",
        "from pyspark.sql import SparkSession\n",
        "spark = SparkSession.builder.getOrCreate()"
      ]
    },
    {
      "cell_type": "code",
      "execution_count": null,
      "metadata": {
        "id": "l_rWs30hRjbN"
      },
      "outputs": [],
      "source": [
        "## JSON-/CSV-Dateien in Dataframes schreiben\n",
        "df_fru = spark.read.options(header='True', multiline='True', inferSchema='True').csv('Fruits.csv')\n",
        "df_veg = spark.read.option(\"multiline\",True).json('Vegetables.json')\n",
        "\n",
        "# erstellte Dataframes ausgeben (10 Einträge ausgeben)\n",
        "df_fru.show(10)\n",
        "df_veg.show(10)\n"
      ]
    },
    {
      "cell_type": "code",
      "execution_count": null,
      "metadata": {
        "id": "Nl-G1iyyTWZ1"
      },
      "outputs": [],
      "source": [
        "## Zeilen abfragen: Jeremy überlegt welche Pflanze er anbaut und schaut sich dafür die Zucchini genauer an\n",
        "\n",
        "df_veg_lokal = df_veg.collect() # notwendig, falls man in einem verteilten Systen arbeitet\n",
        "print(f\"Zucchini in der ersten Woche: {df_veg_lokal[8]}\\n\")"
      ]
    },
    {
      "cell_type": "code",
      "execution_count": null,
      "metadata": {
        "id": "Cp_JydMeVZk2"
      },
      "outputs": [],
      "source": [
        "## Spalten abfragen:\tJeremy will sich Übersicht über generellen Wasserverbrauch der Gemüsesorten verschaffen -> dazu begutachtet er die Spalte 'Wasserverbrauch'  \n",
        "df_veg.select(\"crop\", \"water_consumption\").show()"
      ]
    },
    {
      "cell_type": "code",
      "execution_count": null,
      "metadata": {
        "id": "4Eub8hXEWKbl"
      },
      "outputs": [],
      "source": [
        "## DataFrames Zusammenfügen: Jeremy überlegt ob er Gemüse oder Obst anbauen soll, \n",
        "## deshalb verschafft er sich eine Gesamtübersicht/Vergleich aller Obst- & Pflanzensorten: Obst- & Gemüsesorten konkatenieren\n",
        "\n",
        "## Um die beiden Dataframes kombinieren zu können müssen sie in das gleiche Format gebracht werden.\n",
        "## Achtung hier verändert sich der semantische Sinn der Spalte. Dies ist hier egal, weil wir sie weiter unten löschen.\n",
        "df_veg_correct_revenue = df_veg.withColumn(\"revenue\", pysparkFunctions.column(\"revenue.net\"))\n",
        "df_veg_correct_revenue.show(5)\n",
        "\n",
        "df_fru_veg = df_fru.union(df_veg_correct_revenue)\n",
        "df_fru_veg.show()"
      ]
    },
    {
      "cell_type": "code",
      "execution_count": null,
      "metadata": {
        "id": "RLBNAtgyxUW6"
      },
      "outputs": [],
      "source": [
        "## Dupliakte entfernen: Wie Jeremy gerade aufgefallen ist, enthällt die Tabelle noch Duplikate.\n",
        "## (Siehe z.B. Woche 2 der Erdbeeren) Diese sollen nun entfernt werden.\n",
        "\n",
        "df_fru_veg = df_fru_veg.dropDuplicates()\n",
        "df_fru_veg.show()"
      ]
    },
    {
      "cell_type": "code",
      "execution_count": null,
      "metadata": {
        "id": "vyjGrSoUXCGk"
      },
      "outputs": [],
      "source": [
        "## Spalten entfernen:   Um einen klareren Blick auf die Daten zu erhalten, entfernt Jeremy alle Spalten\n",
        "## die nicht über den Wasserverbrauch aussagen\n",
        "\n",
        "df_fru_veg = df_fru_veg.drop(*('field', 'revenue', 'week', 'yield_per_sqm'))\n",
        "df_fru_veg.show()"
      ]
    },
    {
      "cell_type": "code",
      "execution_count": null,
      "metadata": {
        "id": "DbRI7RbAZ0rK"
      },
      "outputs": [],
      "source": [
        "## Aufräumen:\tFür Jeremy sind jetzt natürlich nur Einträge relevant, die einen Wasserverbrauch beinhalten.\n",
        "\n",
        "df_fru_veg = df_fru_veg.dropna()\n",
        "df_fru_veg.show()"
      ]
    },
    {
      "cell_type": "code",
      "execution_count": null,
      "metadata": {
        "id": "jc-qCtftxUW8"
      },
      "outputs": [],
      "source": [
        "## Wasserverbrauch anzeigen:    Jeremy möchte wissen, wie der gesamte Wasserverbrauch im letzten Jahr war. \n",
        "## Und wie der Wasserverbrauch bezogen auf die jeweilige Nutzpflanze ausfällt.\n",
        "\n",
        "df_fru_veg.agg(pysparkFunctions.sum(\"water_consumption\")).show()\n",
        "\n",
        "df_fru_veg.groupby('crop').sum(\"water_consumption\").show()"
      ]
    },
    {
      "cell_type": "code",
      "execution_count": null,
      "metadata": {
        "id": "MDZYV5LLxUW8"
      },
      "outputs": [],
      "source": [
        "## Wasserverbrauch pro Pfanzenart anzeigen: Jeremy möchte noch wissen, wie der Wasserverbrauch für die unterschiedlichen Gewächsarten ist.\n",
        "\n",
        "df_fru_veg.filter(df_fru_veg.crop == \"strawberries\").agg(pysparkFunctions.sum(\"water_consumption\")).show()"
      ]
    },
    {
      "cell_type": "code",
      "execution_count": null,
      "metadata": {
        "id": "N_JgQs5dxUW9"
      },
      "outputs": [],
      "source": [
        "## Daten speichern: Um langfristig auf die Daten zurückgreifen zu können, speichern wird jetzt noch die Rohdaten in einer Datenbank.\n",
        "\n",
        "connection = sqlite3.connect('result.sqlite')\n",
        "\n",
        "df_raw_data = df_fru_veg.drop_duplicates()\n",
        "df_raw_data.toPandas().to_sql('water_consumption', connection, if_exists='replace', index=True)\n",
        "\n",
        "print(connection.execute('SELECT * FROM water_consumption;').fetchall())\n",
        "\n",
        "connection.close()\n"
      ]
    },
    {
      "cell_type": "markdown",
      "metadata": {
        "id": "_io3C5ifxUW9"
      },
      "source": [
        "**Übungen**\n",
        "\n",
        "1. Dieses Notebook enthält noch eine weitere JSON Datei namens `Corn.json` mit Daten zu Gedreide. Werte den Wasserverbrauch nur für das Gedreide aus.\n",
        "2. Ermittle wie viel Wasser pro Feld eingesetzt wurde.\n",
        "3. Ermittle den gesamten Wasserverbrauch für alle Pfanzen."
      ]
    }
  ],
  "metadata": {
    "colab": {
      "collapsed_sections": [],
      "name": "Übungsaufgaben.ipynb",
      "provenance": [],
      "include_colab_link": true
    },
    "kernelspec": {
      "display_name": "Python 3 (ipykernel)",
      "language": "python",
      "name": "python3"
    },
    "language_info": {
      "codemirror_mode": {
        "name": "ipython",
        "version": 3
      },
      "file_extension": ".py",
      "mimetype": "text/x-python",
      "name": "python",
      "nbconvert_exporter": "python",
      "pygments_lexer": "ipython3",
      "version": "3.9.12"
    }
  },
  "nbformat": 4,
  "nbformat_minor": 0
}
