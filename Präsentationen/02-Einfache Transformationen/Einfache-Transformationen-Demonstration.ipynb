{
  "cells": [
    {
      "cell_type": "markdown",
      "metadata": {
        "id": "view-in-github",
        "colab_type": "text"
      },
      "source": [
        "<a href=\"https://colab.research.google.com/github/Fuenfgeld/2022TeamADataEngineeringBC/blob/main/Pr%C3%A4sentationen/02-Einfache%20Transformationen/%C3%9Cbungsaufgaben_Vortrag.ipynb\" target=\"_parent\"><img src=\"https://colab.research.google.com/assets/colab-badge.svg\" alt=\"Open In Colab\"/></a>"
      ]
    },
    {
      "cell_type": "markdown",
      "metadata": {
        "id": "O-09koDFxUWq"
      },
      "source": [
        "# Einfache Transformationen"
      ]
    },
    {
      "cell_type": "code",
      "execution_count": 61,
      "metadata": {
        "id": "fUtXLhoNONMJ",
        "colab": {
          "base_uri": "https://localhost:8080/"
        },
        "outputId": "1b136806-1317-41a8-892e-69a01d56d7df"
      },
      "outputs": [
        {
          "output_type": "stream",
          "name": "stdout",
          "text": [
            "Requirement already satisfied: pyspark in /usr/local/lib/python3.7/dist-packages (3.2.1)\n",
            "Requirement already satisfied: pandas in /usr/local/lib/python3.7/dist-packages (1.3.5)\n",
            "Requirement already satisfied: py4j==0.10.9.3 in /usr/local/lib/python3.7/dist-packages (from pyspark) (0.10.9.3)\n",
            "Requirement already satisfied: numpy>=1.17.3 in /usr/local/lib/python3.7/dist-packages (from pandas) (1.21.6)\n",
            "Requirement already satisfied: python-dateutil>=2.7.3 in /usr/local/lib/python3.7/dist-packages (from pandas) (2.8.2)\n",
            "Requirement already satisfied: pytz>=2017.3 in /usr/local/lib/python3.7/dist-packages (from pandas) (2022.1)\n",
            "Requirement already satisfied: six>=1.5 in /usr/local/lib/python3.7/dist-packages (from python-dateutil>=2.7.3->pandas) (1.15.0)\n"
          ]
        }
      ],
      "source": [
        "# Bibliotheken einmalig installieren\n",
        "\n",
        "%pip install pyspark pandas"
      ]
    },
    {
      "cell_type": "code",
      "execution_count": null,
      "metadata": {
        "id": "217s1ZMwxUWu",
        "colab": {
          "base_uri": "https://localhost:8080/"
        },
        "outputId": "d45461f0-09f4-42cc-f2da-8694ac0999c4"
      },
      "outputs": [
        {
          "output_type": "stream",
          "name": "stdout",
          "text": [
            "--2022-05-12 12:35:07--  https://raw.githubusercontent.com/Fuenfgeld/2022TeamADataEngineeringBC/main/Pr%C3%A4sentationen/02-Einfache%20Transformationen/create_data.py\n",
            "Resolving raw.githubusercontent.com (raw.githubusercontent.com)... 185.199.108.133, 185.199.109.133, 185.199.110.133, ...\n",
            "Connecting to raw.githubusercontent.com (raw.githubusercontent.com)|185.199.108.133|:443... connected.\n",
            "HTTP request sent, awaiting response... 200 OK\n",
            "Length: 10138 (9.9K) [text/plain]\n",
            "Saving to: ‘create_data.py’\n",
            "\n",
            "\rcreate_data.py        0%[                    ]       0  --.-KB/s               \rcreate_data.py      100%[===================>]   9.90K  --.-KB/s    in 0s      \n",
            "\n",
            "2022-05-12 12:35:08 (76.6 MB/s) - ‘create_data.py’ saved [10138/10138]\n",
            "\n"
          ]
        }
      ],
      "source": [
        "!wget https://raw.githubusercontent.com/Fuenfgeld/2022TeamADataEngineeringBC/main/Pr%C3%A4sentationen/02-Einfache%20Transformationen/create_data.py"
      ]
    },
    {
      "cell_type": "code",
      "execution_count": null,
      "metadata": {
        "id": "iZL13l1txUWw",
        "colab": {
          "base_uri": "https://localhost:8080/"
        },
        "outputId": "390a7ea0-ca49-4f95-9220-702635af52ab"
      },
      "outputs": [
        {
          "output_type": "execute_result",
          "data": {
            "text/plain": [
              "0"
            ]
          },
          "metadata": {},
          "execution_count": 4
        }
      ],
      "source": [
        "import sqlite3\n",
        "import pandas as pd\n",
        "import pyspark.sql.functions as pysparkFunctions \n",
        "import os\n",
        "\n",
        "os.system(\"python3 create_data.py\")"
      ]
    },
    {
      "cell_type": "code",
      "execution_count": null,
      "metadata": {
        "id": "PNe_AqfkRfbh"
      },
      "outputs": [],
      "source": [
        "## (Py)Spark starten\n",
        "\n",
        "from pyspark.sql import SparkSession\n",
        "spark = SparkSession.builder.getOrCreate()"
      ]
    },
    {
      "cell_type": "code",
      "execution_count": null,
      "metadata": {
        "id": "l_rWs30hRjbN",
        "colab": {
          "base_uri": "https://localhost:8080/"
        },
        "outputId": "955b747e-a61b-48ab-de6e-2194ef37e873"
      },
      "outputs": [
        {
          "output_type": "stream",
          "name": "stdout",
          "text": [
            "+------------+-----+----+-----------------+-------+-------------+\n",
            "|        crop|field|week|water_consumption|revenue|yield_per_sqm|\n",
            "+------------+-----+----+-----------------+-------+-------------+\n",
            "|strawberries|    7|   1|               12|      0|            0|\n",
            "|strawberries|    7|   2|               10|      0|            0|\n",
            "|strawberries|    7|   3|               12|      0|            0|\n",
            "|strawberries|    7|   4|               14|      0|            0|\n",
            "|strawberries|    7|   5|               14|      0|            5|\n",
            "|strawberries|    7|   6|               18|     30|           10|\n",
            "|strawberries|    7|   1|               12|      0|            0|\n",
            "|strawberries|    7|   2|               10|      0|            0|\n",
            "|strawberries|    7|   3|               12|      0|            0|\n",
            "|strawberries|    7|   7|               20|     60|           25|\n",
            "+------------+-----+----+-----------------+-------+-------------+\n",
            "only showing top 10 rows\n",
            "\n",
            "+--------+-----+-------+-----------------+----+-------------+\n",
            "|    crop|field|revenue|water_consumption|week|yield_per_sqm|\n",
            "+--------+-----+-------+-----------------+----+-------------+\n",
            "|zucchini|    5| {0, 0}|                6|   1|            0|\n",
            "|  radish|    6| {0, 0}|                4|   1|            0|\n",
            "|zucchini|    5| {0, 0}|                5|   2|            0|\n",
            "|  radish|    6| {0, 0}|                4|   2|            0|\n",
            "|zucchini|    5| {0, 0}|                6|   3|            0|\n",
            "|  radish|    6| {0, 0}|                5|   3|            0|\n",
            "|zucchini|    5| {0, 0}|                7|   4|            0|\n",
            "|  radish|    6| {0, 0}|                3|   4|            0|\n",
            "|zucchini|    5| {0, 0}|                7|   5|            5|\n",
            "|  radish|    6| {0, 0}|                6|   5|            0|\n",
            "+--------+-----+-------+-----------------+----+-------------+\n",
            "only showing top 10 rows\n",
            "\n"
          ]
        }
      ],
      "source": [
        "## JSON-/CSV-Dateien in Dataframes schreiben\n",
        "df_fru = spark.read.options(header='True', multiline='True', inferSchema='True').csv('Fruits.csv')\n",
        "df_veg = spark.read.option(\"multiline\",True).json('Vegetables.json')\n",
        "\n",
        "# erstellte Dataframes ausgeben (10 Einträge ausgeben)\n",
        "df_fru.show(10)\n",
        "df_veg.show(10)\n"
      ]
    },
    {
      "cell_type": "code",
      "source": [
        "## Spalten abfragen:\tJeremy will sich Übersicht über generellen Wasserverbrauch der Gemüsesorten verschaffen -> dazu begutachtet er die Spalte 'Wasserverbrauch'  \n",
        "df_veg.select(\"crop\", \"water_consumption\").show()"
      ],
      "metadata": {
        "colab": {
          "base_uri": "https://localhost:8080/"
        },
        "id": "yTBmDQdOMfzu",
        "outputId": "ca25d596-cc5a-4124-d9a8-aedabcb27be8"
      },
      "execution_count": null,
      "outputs": [
        {
          "output_type": "stream",
          "name": "stdout",
          "text": [
            "+--------+-----------------+\n",
            "|    crop|water_consumption|\n",
            "+--------+-----------------+\n",
            "|zucchini|                6|\n",
            "|  radish|                4|\n",
            "|zucchini|                5|\n",
            "|  radish|                4|\n",
            "|zucchini|                6|\n",
            "|  radish|                5|\n",
            "|zucchini|                7|\n",
            "|  radish|                3|\n",
            "|zucchini|                7|\n",
            "|  radish|                6|\n",
            "|zucchini|                9|\n",
            "|  radish|                7|\n",
            "|zucchini|               10|\n",
            "|  radish|                8|\n",
            "|zucchini|               13|\n",
            "|  radish|                8|\n",
            "|zucchini|               12|\n",
            "|  radish|             null|\n",
            "|zucchini|                5|\n",
            "|zucchini|             null|\n",
            "+--------+-----------------+\n",
            "\n"
          ]
        }
      ]
    },
    {
      "cell_type": "code",
      "execution_count": null,
      "metadata": {
        "id": "Nl-G1iyyTWZ1",
        "colab": {
          "base_uri": "https://localhost:8080/"
        },
        "outputId": "732c6248-20d2-479c-bd5d-f33bf05dc781"
      },
      "outputs": [
        {
          "output_type": "stream",
          "name": "stdout",
          "text": [
            "Informationen zu Zucchini in der 9. Zeile: Row(crop='zucchini', field=5, revenue=Row(net=0, tax=0), water_consumption=7, week=5, yield_per_sqm=5)\n",
            "\n"
          ]
        }
      ],
      "source": [
        "## Zeilen abfragen: Jeremy überlegt welche Pflanze er anbaut und schaut sich dafür die Zucchini genauer an\n",
        "\n",
        "df_veg_lokal = df_veg.collect() # notwendig, falls man in einem verteilten Systen arbeitet\n",
        "print(f\"Informationen zu Zucchini in der 9. Zeile: {df_veg_lokal[8]}\\n\")"
      ]
    },
    {
      "cell_type": "code",
      "source": [
        "## Spalten hinzufügen: Jeremy möchte die Einnahmen der Pflanzen pro Ertrag/m² ermitteln\n",
        "\n",
        "df_fru_plus = df_fru.withColumn(\"lucrativeness\", df_fru.revenue * df_fru.yield_per_sqm)\n",
        "df_fru_plus.show()"
      ],
      "metadata": {
        "colab": {
          "base_uri": "https://localhost:8080/"
        },
        "id": "lZ-xBapjOGkQ",
        "outputId": "77a9b467-6ab4-438a-baef-834a408546f0"
      },
      "execution_count": null,
      "outputs": [
        {
          "output_type": "stream",
          "name": "stdout",
          "text": [
            "+------------+-----+----+-----------------+-------+-------------+-------------+\n",
            "|        crop|field|week|water_consumption|revenue|yield_per_sqm|lucrativeness|\n",
            "+------------+-----+----+-----------------+-------+-------------+-------------+\n",
            "|strawberries|    7|   1|               12|      0|            0|            0|\n",
            "|strawberries|    7|   2|               10|      0|            0|            0|\n",
            "|strawberries|    7|   3|               12|      0|            0|            0|\n",
            "|strawberries|    7|   4|               14|      0|            0|            0|\n",
            "|strawberries|    7|   5|               14|      0|            5|            0|\n",
            "|strawberries|    7|   6|               18|     30|           10|          300|\n",
            "|strawberries|    7|   1|               12|      0|            0|            0|\n",
            "|strawberries|    7|   2|               10|      0|            0|            0|\n",
            "|strawberries|    7|   3|               12|      0|            0|            0|\n",
            "|strawberries|    7|   7|               20|     60|           25|         1500|\n",
            "|strawberries|    7|   8|               26|    150|           25|         3750|\n",
            "|strawberries|    7|   9|               24|    150|           25|         3750|\n",
            "|strawberries|    7|  10|               10|    100|           25|         2500|\n",
            "|strawberries|    7|  11|             null|    150|            0|            0|\n",
            "+------------+-----+----+-----------------+-------+-------------+-------------+\n",
            "\n"
          ]
        }
      ]
    },
    {
      "cell_type": "code",
      "source": [
        "## Spalten entfernen:   Um einen klareren Blick auf die Daten zu erhalten, entfernt Jeremy alle Spalten\n",
        "## die nicht über den Wasserverbrauch aussagen\n",
        "\n",
        "df_veg_drop = df_veg.drop(*('field', 'revenue', 'week'))\n",
        "df_fru_drop = df_fru.drop(*('field', 'revenue', 'week'))\n",
        "\n",
        "df_fru_drop.show()\n",
        "df_veg_drop.show()"
      ],
      "metadata": {
        "id": "uIPwHtDjPFGN",
        "outputId": "89db1997-ff3c-4e3e-d2c4-fe2c309cf71d",
        "colab": {
          "base_uri": "https://localhost:8080/"
        }
      },
      "execution_count": null,
      "outputs": [
        {
          "output_type": "stream",
          "name": "stdout",
          "text": [
            "+------------+-----------------+-------------+\n",
            "|        crop|water_consumption|yield_per_sqm|\n",
            "+------------+-----------------+-------------+\n",
            "|strawberries|               12|            0|\n",
            "|strawberries|               10|            0|\n",
            "|strawberries|               12|            0|\n",
            "|strawberries|               14|            0|\n",
            "|strawberries|               14|            5|\n",
            "|strawberries|               18|           10|\n",
            "|strawberries|               12|            0|\n",
            "|strawberries|               10|            0|\n",
            "|strawberries|               12|            0|\n",
            "|strawberries|               20|           25|\n",
            "|strawberries|               26|           25|\n",
            "|strawberries|               24|           25|\n",
            "|strawberries|               10|           25|\n",
            "|strawberries|             null|            0|\n",
            "+------------+-----------------+-------------+\n",
            "\n",
            "+--------+-----------------+-------------+\n",
            "|    crop|water_consumption|yield_per_sqm|\n",
            "+--------+-----------------+-------------+\n",
            "|zucchini|                6|            0|\n",
            "|  radish|                4|            0|\n",
            "|zucchini|                5|            0|\n",
            "|  radish|                4|            0|\n",
            "|zucchini|                6|            0|\n",
            "|  radish|                5|            0|\n",
            "|zucchini|                7|            0|\n",
            "|  radish|                3|            0|\n",
            "|zucchini|                7|            5|\n",
            "|  radish|                6|            0|\n",
            "|zucchini|                9|           10|\n",
            "|  radish|                7|            0|\n",
            "|zucchini|               10|           25|\n",
            "|  radish|                8|          160|\n",
            "|zucchini|               13|           25|\n",
            "|  radish|                8|          240|\n",
            "|zucchini|               12|           25|\n",
            "|  radish|             null|            0|\n",
            "|zucchini|                5|           25|\n",
            "|zucchini|             null|            0|\n",
            "+--------+-----------------+-------------+\n",
            "\n"
          ]
        }
      ]
    },
    {
      "cell_type": "code",
      "source": [
        "#df_veg.show()"
      ],
      "metadata": {
        "id": "fVvU52DeR0xb"
      },
      "execution_count": null,
      "outputs": []
    },
    {
      "cell_type": "code",
      "execution_count": null,
      "metadata": {
        "id": "4Eub8hXEWKbl",
        "colab": {
          "base_uri": "https://localhost:8080/"
        },
        "outputId": "af2f6967-533a-4bae-9324-b741ecb48926"
      },
      "outputs": [
        {
          "output_type": "stream",
          "name": "stdout",
          "text": [
            "+------------+-----+----+-----------------+-------+-------------+\n",
            "|        crop|field|week|water_consumption|revenue|yield_per_sqm|\n",
            "+------------+-----+----+-----------------+-------+-------------+\n",
            "|strawberries|    7|   1|               12|      0|            0|\n",
            "|strawberries|    7|   2|               10|      0|            0|\n",
            "|strawberries|    7|   3|               12|      0|            0|\n",
            "|strawberries|    7|   4|               14|      0|            0|\n",
            "|strawberries|    7|   5|               14|      0|            5|\n",
            "|strawberries|    7|   6|               18|     30|           10|\n",
            "|strawberries|    7|   1|               12|      0|            0|\n",
            "|strawberries|    7|   2|               10|      0|            0|\n",
            "|strawberries|    7|   3|               12|      0|            0|\n",
            "|strawberries|    7|   7|               20|     60|           25|\n",
            "|strawberries|    7|   8|               26|    150|           25|\n",
            "|strawberries|    7|   9|               24|    150|           25|\n",
            "|strawberries|    7|  10|               10|    100|           25|\n",
            "|strawberries|    7|  11|             null|    150|            0|\n",
            "|    zucchini|    5|   0|                6|      1|            0|\n",
            "|      radish|    6|   0|                4|      1|            0|\n",
            "|    zucchini|    5|   0|                5|      2|            0|\n",
            "|      radish|    6|   0|                4|      2|            0|\n",
            "|    zucchini|    5|   0|                6|      3|            0|\n",
            "|      radish|    6|   0|                5|      3|            0|\n",
            "+------------+-----+----+-----------------+-------+-------------+\n",
            "only showing top 20 rows\n",
            "\n"
          ]
        }
      ],
      "source": [
        "## Um die beiden Dataframes kombinieren zu können müssen sie in das gleiche Format gebracht werden.\n",
        "## Achtung hier verändert sich der semantische Sinn der Spalte. Dies ist hier egal, weil wir sie weiter unten löschen.\n",
        "df_veg_correct_revenue = df_veg.withColumn(\"revenue\", pysparkFunctions.column(\"revenue.net\"))\n",
        "#df_veg_correct_revenue.show()\n",
        "\n",
        "\n",
        "## DataFrames Zusammenfügen: Jeremy überlegt ob er Gemüse oder Obst anbauen soll, \n",
        "## deshalb verschafft er sich eine Gesamtübersicht/Vergleich aller Obst- & Pflanzensorten: Obst- & Gemüsesorten konkatenieren\n",
        "\n",
        "df_fru_veg = df_fru.union(df_veg_correct_revenue)\n",
        "df_fru_veg.show()"
      ]
    },
    {
      "cell_type": "code",
      "execution_count": null,
      "metadata": {
        "id": "RLBNAtgyxUW6",
        "colab": {
          "base_uri": "https://localhost:8080/"
        },
        "outputId": "f180c4f6-b869-40f5-b7e9-0837dbf795c8"
      },
      "outputs": [
        {
          "output_type": "stream",
          "name": "stdout",
          "text": [
            "+------------+-----+----+-----------------+-------+-------------+\n",
            "|        crop|field|week|water_consumption|revenue|yield_per_sqm|\n",
            "+------------+-----+----+-----------------+-------+-------------+\n",
            "|strawberries|    7|   5|               14|      0|            5|\n",
            "|strawberries|    7|   7|               20|     60|           25|\n",
            "|strawberries|    7|   9|               24|    150|           25|\n",
            "|strawberries|    7|   2|               10|      0|            0|\n",
            "|strawberries|    7|   6|               18|     30|           10|\n",
            "|strawberries|    7|   8|               26|    150|           25|\n",
            "|strawberries|    7|  11|             null|    150|            0|\n",
            "|strawberries|    7|   3|               12|      0|            0|\n",
            "|strawberries|    7|  10|               10|    100|           25|\n",
            "|strawberries|    7|   4|               14|      0|            0|\n",
            "|strawberries|    7|   1|               12|      0|            0|\n",
            "|    zucchini|    5|   0|                7|      5|            5|\n",
            "|      radish|    6|  50|                8|      8|          240|\n",
            "|    zucchini|    5|   0|                6|      1|            0|\n",
            "|    zucchini|    5|   0|                6|      3|            0|\n",
            "|    zucchini|    5|   0|                5|      2|            0|\n",
            "|      radish|    6|   0|                4|      1|            0|\n",
            "|      radish|    6|  50|             null|      1|            0|\n",
            "|    zucchini|    5|  40|               12|      9|           25|\n",
            "|      radish|    6|   0|                6|      5|            0|\n",
            "+------------+-----+----+-----------------+-------+-------------+\n",
            "only showing top 20 rows\n",
            "\n"
          ]
        }
      ],
      "source": [
        "## Dupliakte entfernen: Wie Jeremy gerade aufgefallen ist, enthällt die Tabelle noch Duplikate.\n",
        "## (Siehe z.B. Woche 2 & 8 der Erdbeeren) Diese sollen nun entfernt werden.\n",
        "\n",
        "df_fru_veg.dropDuplicates().show()"
      ]
    },
    {
      "cell_type": "code",
      "execution_count": null,
      "metadata": {
        "id": "DbRI7RbAZ0rK",
        "colab": {
          "base_uri": "https://localhost:8080/"
        },
        "outputId": "655cc026-6107-494c-b8c1-da90d01322ed"
      },
      "outputs": [
        {
          "output_type": "stream",
          "name": "stdout",
          "text": [
            "+------------+-----+----+-----------------+-------+-------------+\n",
            "|        crop|field|week|water_consumption|revenue|yield_per_sqm|\n",
            "+------------+-----+----+-----------------+-------+-------------+\n",
            "|strawberries|    7|   1|               12|      0|            0|\n",
            "|strawberries|    7|   2|               10|      0|            0|\n",
            "|strawberries|    7|   3|               12|      0|            0|\n",
            "|strawberries|    7|   4|               14|      0|            0|\n",
            "|strawberries|    7|   5|               14|      0|            5|\n",
            "|strawberries|    7|   6|               18|     30|           10|\n",
            "|strawberries|    7|   1|               12|      0|            0|\n",
            "|strawberries|    7|   2|               10|      0|            0|\n",
            "|strawberries|    7|   3|               12|      0|            0|\n",
            "|strawberries|    7|   7|               20|     60|           25|\n",
            "|strawberries|    7|   8|               26|    150|           25|\n",
            "|strawberries|    7|   9|               24|    150|           25|\n",
            "|strawberries|    7|  10|               10|    100|           25|\n",
            "|    zucchini|    5|   0|                6|      1|            0|\n",
            "|      radish|    6|   0|                4|      1|            0|\n",
            "|    zucchini|    5|   0|                5|      2|            0|\n",
            "|      radish|    6|   0|                4|      2|            0|\n",
            "|    zucchini|    5|   0|                6|      3|            0|\n",
            "|      radish|    6|   0|                5|      3|            0|\n",
            "|    zucchini|    5|   0|                7|      4|            0|\n",
            "+------------+-----+----+-----------------+-------+-------------+\n",
            "only showing top 20 rows\n",
            "\n"
          ]
        }
      ],
      "source": [
        "## Aufräumen:\tFür Jeremy sind jetzt natürlich nur Einträge relevant, die einen Wasserverbrauch beinhalten.\n",
        "\n",
        "df_fru_veg = df_fru_veg.dropna()\n",
        "df_fru_veg.show()"
      ]
    },
    {
      "cell_type": "code",
      "execution_count": null,
      "metadata": {
        "id": "jc-qCtftxUW8",
        "colab": {
          "base_uri": "https://localhost:8080/"
        },
        "outputId": "d23042ba-c91c-430a-ed50-976c5f90e6e9"
      },
      "outputs": [
        {
          "output_type": "stream",
          "name": "stdout",
          "text": [
            "+----------------------+\n",
            "|sum(water_consumption)|\n",
            "+----------------------+\n",
            "|                   319|\n",
            "+----------------------+\n",
            "\n",
            "+------------+----------------------+\n",
            "|        crop|sum(water_consumption)|\n",
            "+------------+----------------------+\n",
            "|strawberries|                   194|\n",
            "|    zucchini|                    80|\n",
            "|      radish|                    45|\n",
            "+------------+----------------------+\n",
            "\n",
            "+----------------------+\n",
            "|sum(water_consumption)|\n",
            "+----------------------+\n",
            "|                   194|\n",
            "+----------------------+\n",
            "\n"
          ]
        }
      ],
      "source": [
        "## Wasserverbrauch anzeigen:    Jeremy möchte wissen, wie der gesamte Wasserverbrauch im letzten Jahr war. \n",
        "## Und wie der Wasserverbrauch bezogen auf die jeweilige Nutzpflanze ausfällt.\n",
        "\n",
        "df_fru_veg.agg(pysparkFunctions.sum(\"water_consumption\")).show()\n",
        "\n",
        "df_fru_veg.groupby('crop').sum(\"water_consumption\").show()\n",
        "\n",
        "df_fru_veg.filter(df_fru_veg.crop == \"strawberries\").agg(pysparkFunctions.sum(\"water_consumption\")).show()"
      ]
    },
    {
      "cell_type": "markdown",
      "metadata": {
        "id": "_io3C5ifxUW9"
      },
      "source": [
        "**Übungen**\n",
        "\n",
        "1. Dieses Notebook enthält noch eine weitere JSON Datei namens `Corn.json` mit Daten zu Gedreide. Werte den Wasserverbrauch nur für das Gedreide aus.\n",
        "2. Ermittle wie viel Wasser pro Feld eingesetzt wurde.\n",
        "3. Ermittle den gesamten Wasserverbrauch für alle Pfanzen."
      ]
    }
  ],
  "metadata": {
    "colab": {
      "collapsed_sections": [],
      "name": "Übungsaufgaben - Vortrag.ipynb",
      "provenance": [],
      "include_colab_link": true
    },
    "kernelspec": {
      "display_name": "Python 3 (ipykernel)",
      "language": "python",
      "name": "python3"
    },
    "language_info": {
      "codemirror_mode": {
        "name": "ipython",
        "version": 3
      },
      "file_extension": ".py",
      "mimetype": "text/x-python",
      "name": "python",
      "nbconvert_exporter": "python",
      "pygments_lexer": "ipython3",
      "version": "3.9.12"
    }
  },
  "nbformat": 4,
  "nbformat_minor": 0
}