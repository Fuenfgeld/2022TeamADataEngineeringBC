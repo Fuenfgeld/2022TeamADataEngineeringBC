{
  "nbformat": 4,
  "nbformat_minor": 0,
  "metadata": {
    "colab": {
      "name": "Transformationen_fuer_Fortgeschrittene.ipynb",
      "provenance": [],
      "collapsed_sections": []
    },
    "kernelspec": {
      "name": "python3",
      "display_name": "Python 3"
    },
    "language_info": {
      "name": "python"
    }
  },
  "cells": [
    {
      "cell_type": "markdown",
      "metadata": {
        "id": "view-in-github"
      },
      "source": [
        "<a href=\"https://colab.research.google.com/github/Fuenfgeld/2022TeamADataEngineeringBC/blob/36-pr%C3%A4sentation-fortgeschrittene-transaktionen/Kopie_von_03_Transformationen_fuer_Fortgeschrittene.ipynb\" target=\"_parent\"><img src=\"https://colab.research.google.com/assets/colab-badge.svg\" alt=\"Open In Colab\"/></a>"
      ]
    },
    {
      "cell_type": "markdown",
      "source": [
        "#Einlesen der Daten "
      ],
      "metadata": {
        "id": "FPlrbGG7CmG1"
      }
    },
    {
      "cell_type": "code",
      "execution_count": 3,
      "metadata": {
        "colab": {
          "base_uri": "https://localhost:8080/"
        },
        "id": "0GfC-OQBE_bh",
        "outputId": "01468400-a00d-4639-839a-8cab0b6317c9"
      },
      "outputs": [
        {
          "output_type": "stream",
          "name": "stdout",
          "text": [
            "Collecting pyspark\n",
            "  Downloading pyspark-3.2.1.tar.gz (281.4 MB)\n",
            "\u001b[K     |████████████████████████████████| 281.4 MB 22 kB/s \n",
            "\u001b[?25hRequirement already satisfied: pandas in /usr/local/lib/python3.7/dist-packages (1.3.5)\n",
            "Collecting pysqlite3\n",
            "  Downloading pysqlite3-0.4.7.tar.gz (40 kB)\n",
            "\u001b[K     |████████████████████████████████| 40 kB 4.8 MB/s \n",
            "\u001b[?25hCollecting py4j==0.10.9.3\n",
            "  Downloading py4j-0.10.9.3-py2.py3-none-any.whl (198 kB)\n",
            "\u001b[K     |████████████████████████████████| 198 kB 11.7 MB/s \n",
            "\u001b[?25hRequirement already satisfied: pytz>=2017.3 in /usr/local/lib/python3.7/dist-packages (from pandas) (2022.1)\n",
            "Requirement already satisfied: numpy>=1.17.3 in /usr/local/lib/python3.7/dist-packages (from pandas) (1.21.6)\n",
            "Requirement already satisfied: python-dateutil>=2.7.3 in /usr/local/lib/python3.7/dist-packages (from pandas) (2.8.2)\n",
            "Requirement already satisfied: six>=1.5 in /usr/local/lib/python3.7/dist-packages (from python-dateutil>=2.7.3->pandas) (1.15.0)\n",
            "Building wheels for collected packages: pyspark, pysqlite3\n",
            "  Building wheel for pyspark (setup.py) ... \u001b[?25l\u001b[?25hdone\n",
            "  Created wheel for pyspark: filename=pyspark-3.2.1-py2.py3-none-any.whl size=281853642 sha256=b0a7f8fb1a4c8a18b60de306308bf3bc4f93349f5fe04855d8f31a3533540281\n",
            "  Stored in directory: /root/.cache/pip/wheels/9f/f5/07/7cd8017084dce4e93e84e92efd1e1d5334db05f2e83bcef74f\n",
            "  Building wheel for pysqlite3 (setup.py) ... \u001b[?25l\u001b[?25hdone\n",
            "  Created wheel for pysqlite3: filename=pysqlite3-0.4.7-cp37-cp37m-linux_x86_64.whl size=132867 sha256=520264f16bad29820bbc300a8980a6e0221e3d0987e9f39efb43023c636d2bd4\n",
            "  Stored in directory: /root/.cache/pip/wheels/e5/bf/e1/b92ae6794ca15c7dcc2b1f8068ebb3f86e6affa5c0fe5e8f40\n",
            "Successfully built pyspark pysqlite3\n",
            "Installing collected packages: py4j, pysqlite3, pyspark\n",
            "Successfully installed py4j-0.10.9.3 pyspark-3.2.1 pysqlite3-0.4.7\n"
          ]
        }
      ],
      "source": [
        "# Bibliotheken einmalig installieren\n",
        "\n",
        "!pip install pyspark pandas pysqlite3 "
      ]
    },
    {
      "cell_type": "code",
      "source": [
        "!wget -O create_data.py https://raw.githubusercontent.com/Fuenfgeld/2022TeamADataEngineeringBC/main/Pr%C3%A4sentationen/02-Einfache%20Transformationen/create_data.py"
      ],
      "metadata": {
        "colab": {
          "base_uri": "https://localhost:8080/"
        },
        "id": "6-23uk-88H6R",
        "outputId": "b4cbc5b0-32e9-4326-8f98-cf63314fe6bf"
      },
      "execution_count": 4,
      "outputs": [
        {
          "output_type": "stream",
          "name": "stdout",
          "text": [
            "--2022-05-09 22:03:09--  https://raw.githubusercontent.com/Fuenfgeld/2022TeamADataEngineeringBC/main/Pr%C3%A4sentationen/02-Einfache%20Transformationen/create_data.py\n",
            "Resolving raw.githubusercontent.com (raw.githubusercontent.com)... 185.199.108.133, 185.199.109.133, 185.199.110.133, ...\n",
            "Connecting to raw.githubusercontent.com (raw.githubusercontent.com)|185.199.108.133|:443... connected.\n",
            "HTTP request sent, awaiting response... 200 OK\n",
            "Length: 10138 (9.9K) [text/plain]\n",
            "Saving to: ‘create_data.py’\n",
            "\n",
            "\rcreate_data.py        0%[                    ]       0  --.-KB/s               \rcreate_data.py      100%[===================>]   9.90K  --.-KB/s    in 0s      \n",
            "\n",
            "2022-05-09 22:03:09 (59.7 MB/s) - ‘create_data.py’ saved [10138/10138]\n",
            "\n"
          ]
        }
      ]
    },
    {
      "cell_type": "code",
      "source": [
        "import sqlite3\n",
        "import pandas as pd\n",
        "import json\n",
        "import os\n",
        "import pyspark.sql.functions as func\n",
        "from pyspark.sql.functions import col\n",
        "os.system(\"python3 create_data.py\")"
      ],
      "metadata": {
        "id": "-wrNz_wMFTYI",
        "colab": {
          "base_uri": "https://localhost:8080/"
        },
        "outputId": "2b86cf73-9392-4ad1-cc1e-257ff2fbdda9"
      },
      "execution_count": 5,
      "outputs": [
        {
          "output_type": "execute_result",
          "data": {
            "text/plain": [
              "0"
            ]
          },
          "metadata": {},
          "execution_count": 5
        }
      ]
    },
    {
      "cell_type": "code",
      "source": [
        "## Datenbankdaten in Dataframe schreiben\n",
        "connection_obj = sqlite3.connect('Diddly_Squat_Farm.db')\n",
        "cursor_obj = connection_obj.cursor()\n",
        "\n",
        "# Tabelle Fields ausgeben\n",
        "for row in cursor_obj.execute('SELECT * FROM fields'):\n",
        "        print(row)\n",
        "\n",
        "# Tabelle Fields in Dataframe df_fields schreiben\n",
        "df_fields = pd.read_sql_query(\"SELECT * FROM fields\", connection_obj)\n",
        "print('\\n\\nDies ist das erzeugte Dataframe:\\n\\n', df_fields)\n",
        "\n",
        "connection_obj.close()"
      ],
      "metadata": {
        "colab": {
          "base_uri": "https://localhost:8080/"
        },
        "id": "ZS1ALDxs8KlI",
        "outputId": "5259a1ee-0ad3-4ef6-a03c-d517dc1fe38b"
      },
      "execution_count": 6,
      "outputs": [
        {
          "output_type": "stream",
          "name": "stdout",
          "text": [
            "(5, 'Barn Ground', 10)\n",
            "(6, 'Bank', 10)\n",
            "(7, 'Far Brossler', 20)\n",
            "\n",
            "\n",
            "Dies ist das erzeugte Dataframe:\n",
            "\n",
            "    field_id    field_name  area_in_sqm\n",
            "0         5   Barn Ground           10\n",
            "1         6          Bank           10\n",
            "2         7  Far Brossler           20\n"
          ]
        }
      ]
    },
    {
      "cell_type": "code",
      "source": [
        "## (Py)Spark starten\n",
        "from pyspark.sql import SparkSession\n",
        "spark = SparkSession.builder.getOrCreate()"
      ],
      "metadata": {
        "id": "tXYaSnOY8Wrv"
      },
      "execution_count": 7,
      "outputs": []
    },
    {
      "cell_type": "code",
      "source": [
        "#DataFrame für Datenbank erzeugen\n",
        "df_fields= spark.createDataFrame(df_fields) \n",
        "# df_fields.printSchema()\n",
        "df_fields.show()"
      ],
      "metadata": {
        "colab": {
          "base_uri": "https://localhost:8080/"
        },
        "id": "VkcrpdXUTkLT",
        "outputId": "7e033d29-4640-4ffe-9b1c-c32ecc703be9"
      },
      "execution_count": 8,
      "outputs": [
        {
          "output_type": "stream",
          "name": "stdout",
          "text": [
            "+--------+------------+-----------+\n",
            "|field_id|  field_name|area_in_sqm|\n",
            "+--------+------------+-----------+\n",
            "|       5| Barn Ground|         10|\n",
            "|       6|        Bank|         10|\n",
            "|       7|Far Brossler|         20|\n",
            "+--------+------------+-----------+\n",
            "\n"
          ]
        }
      ]
    },
    {
      "cell_type": "code",
      "source": [
        "## JSON-/CSV-Dateien in Dataframes schreiben\n",
        "df_fru = spark.read.options(header='True', multiline='True', inferSchema='True').csv('Fruits.csv')\n",
        "df_veg = spark.read.option(\"multiline\",True).json('Vegetables.json')\n",
        "\n",
        "# erstellte Dataframes ausgeben (10 Einträge ausgeben)\n",
        "df_fru.show(10)\n",
        "df_veg.show(20)"
      ],
      "metadata": {
        "colab": {
          "base_uri": "https://localhost:8080/"
        },
        "id": "AZYHXr5NFyyi",
        "outputId": "652d10de-dae3-4b27-b76a-cb1cb4268e12"
      },
      "execution_count": 9,
      "outputs": [
        {
          "output_type": "stream",
          "name": "stdout",
          "text": [
            "+------------+-----+----+-----------------+-------+-------------+\n",
            "|        crop|field|week|water_consumption|revenue|yield_per_sqm|\n",
            "+------------+-----+----+-----------------+-------+-------------+\n",
            "|strawberries|    7|   1|               12|      0|            0|\n",
            "|strawberries|    7|   2|               10|      0|            0|\n",
            "|strawberries|    7|   3|               12|      0|            0|\n",
            "|strawberries|    7|   4|               14|      0|            0|\n",
            "|strawberries|    7|   5|               14|      0|            5|\n",
            "|strawberries|    7|   6|               18|     30|           10|\n",
            "|strawberries|    7|   1|               12|      0|            0|\n",
            "|strawberries|    7|   2|               10|      0|            0|\n",
            "|strawberries|    7|   3|               12|      0|            0|\n",
            "|strawberries|    7|   7|               20|     60|           25|\n",
            "+------------+-----+----+-----------------+-------+-------------+\n",
            "only showing top 10 rows\n",
            "\n",
            "+--------+-----+--------+-----------------+----+-------------+\n",
            "|    crop|field| revenue|water_consumption|week|yield_per_sqm|\n",
            "+--------+-----+--------+-----------------+----+-------------+\n",
            "|zucchini|    5|  {0, 0}|                6|   1|            0|\n",
            "|  radish|    6|  {0, 0}|                4|   1|            0|\n",
            "|zucchini|    5|  {0, 0}|                5|   2|            0|\n",
            "|  radish|    6|  {0, 0}|                4|   2|            0|\n",
            "|zucchini|    5|  {0, 0}|                6|   3|            0|\n",
            "|  radish|    6|  {0, 0}|                5|   3|            0|\n",
            "|zucchini|    5|  {0, 0}|                7|   4|            0|\n",
            "|  radish|    6|  {0, 0}|                3|   4|            0|\n",
            "|zucchini|    5|  {0, 0}|                7|   5|            5|\n",
            "|  radish|    6|  {0, 0}|                6|   5|            0|\n",
            "|zucchini|    5|  {8, 2}|                9|   6|           10|\n",
            "|  radish|    6|  {0, 0}|                7|   1|            0|\n",
            "|zucchini|    5| {16, 4}|               10|   7|           25|\n",
            "|  radish|    6| {32, 8}|                8|   7|          160|\n",
            "|zucchini|    5|{40, 10}|               13|   8|           25|\n",
            "|  radish|    6|{50, 12}|                8|   8|          240|\n",
            "|zucchini|    5|{40, 10}|               12|   9|           25|\n",
            "|  radish|    6|{50, 12}|             null|   1|            0|\n",
            "|zucchini|    5|{40, 10}|                5|  10|           25|\n",
            "|zucchini|    5|{40, 10}|             null|  11|            0|\n",
            "+--------+-----+--------+-----------------+----+-------------+\n",
            "\n"
          ]
        }
      ]
    },
    {
      "cell_type": "code",
      "source": [
        "df_veg_correct_revenue = df_veg.withColumn(\"revenue\", func.column(\"revenue.net\"))\n",
        "df_veg_correct_revenue.show(20)\n",
        "\n",
        "df_fru_veg = df_fru.union(df_veg_correct_revenue)\n",
        "df_fru_veg.show()"
      ],
      "metadata": {
        "colab": {
          "base_uri": "https://localhost:8080/"
        },
        "id": "dCD--Cn7-JBU",
        "outputId": "142088ed-e260-444a-b297-e6868d18572a"
      },
      "execution_count": 10,
      "outputs": [
        {
          "output_type": "stream",
          "name": "stdout",
          "text": [
            "+--------+-----+-------+-----------------+----+-------------+\n",
            "|    crop|field|revenue|water_consumption|week|yield_per_sqm|\n",
            "+--------+-----+-------+-----------------+----+-------------+\n",
            "|zucchini|    5|      0|                6|   1|            0|\n",
            "|  radish|    6|      0|                4|   1|            0|\n",
            "|zucchini|    5|      0|                5|   2|            0|\n",
            "|  radish|    6|      0|                4|   2|            0|\n",
            "|zucchini|    5|      0|                6|   3|            0|\n",
            "|  radish|    6|      0|                5|   3|            0|\n",
            "|zucchini|    5|      0|                7|   4|            0|\n",
            "|  radish|    6|      0|                3|   4|            0|\n",
            "|zucchini|    5|      0|                7|   5|            5|\n",
            "|  radish|    6|      0|                6|   5|            0|\n",
            "|zucchini|    5|      8|                9|   6|           10|\n",
            "|  radish|    6|      0|                7|   1|            0|\n",
            "|zucchini|    5|     16|               10|   7|           25|\n",
            "|  radish|    6|     32|                8|   7|          160|\n",
            "|zucchini|    5|     40|               13|   8|           25|\n",
            "|  radish|    6|     50|                8|   8|          240|\n",
            "|zucchini|    5|     40|               12|   9|           25|\n",
            "|  radish|    6|     50|             null|   1|            0|\n",
            "|zucchini|    5|     40|                5|  10|           25|\n",
            "|zucchini|    5|     40|             null|  11|            0|\n",
            "+--------+-----+-------+-----------------+----+-------------+\n",
            "\n",
            "+------------+-----+----+-----------------+-------+-------------+\n",
            "|        crop|field|week|water_consumption|revenue|yield_per_sqm|\n",
            "+------------+-----+----+-----------------+-------+-------------+\n",
            "|strawberries|    7|   1|               12|      0|            0|\n",
            "|strawberries|    7|   2|               10|      0|            0|\n",
            "|strawberries|    7|   3|               12|      0|            0|\n",
            "|strawberries|    7|   4|               14|      0|            0|\n",
            "|strawberries|    7|   5|               14|      0|            5|\n",
            "|strawberries|    7|   6|               18|     30|           10|\n",
            "|strawberries|    7|   1|               12|      0|            0|\n",
            "|strawberries|    7|   2|               10|      0|            0|\n",
            "|strawberries|    7|   3|               12|      0|            0|\n",
            "|strawberries|    7|   7|               20|     60|           25|\n",
            "|strawberries|    7|   8|               26|    150|           25|\n",
            "|strawberries|    7|   9|               24|    150|           25|\n",
            "|strawberries|    7|  10|               10|    100|           25|\n",
            "|strawberries|    7|  11|             null|    150|            0|\n",
            "|    zucchini|    5|   0|                6|      1|            0|\n",
            "|      radish|    6|   0|                4|      1|            0|\n",
            "|    zucchini|    5|   0|                5|      2|            0|\n",
            "|      radish|    6|   0|                4|      2|            0|\n",
            "|    zucchini|    5|   0|                6|      3|            0|\n",
            "|      radish|    6|   0|                5|      3|            0|\n",
            "+------------+-----+----+-----------------+-------+-------------+\n",
            "only showing top 20 rows\n",
            "\n"
          ]
        }
      ]
    },
    {
      "cell_type": "code",
      "source": [
        "df_fru_veg = df_fru_veg.dropDuplicates()\n",
        "df_fru_veg.show(20)"
      ],
      "metadata": {
        "colab": {
          "base_uri": "https://localhost:8080/"
        },
        "id": "LkG86G7hGoLm",
        "outputId": "fb03e7b7-ba2a-471b-916d-34bd1d229220"
      },
      "execution_count": 11,
      "outputs": [
        {
          "output_type": "stream",
          "name": "stdout",
          "text": [
            "+------------+-----+----+-----------------+-------+-------------+\n",
            "|        crop|field|week|water_consumption|revenue|yield_per_sqm|\n",
            "+------------+-----+----+-----------------+-------+-------------+\n",
            "|strawberries|    7|   5|               14|      0|            5|\n",
            "|strawberries|    7|   7|               20|     60|           25|\n",
            "|strawberries|    7|   9|               24|    150|           25|\n",
            "|strawberries|    7|   2|               10|      0|            0|\n",
            "|strawberries|    7|   6|               18|     30|           10|\n",
            "|strawberries|    7|   8|               26|    150|           25|\n",
            "|strawberries|    7|  11|             null|    150|            0|\n",
            "|strawberries|    7|   3|               12|      0|            0|\n",
            "|strawberries|    7|  10|               10|    100|           25|\n",
            "|strawberries|    7|   4|               14|      0|            0|\n",
            "|strawberries|    7|   1|               12|      0|            0|\n",
            "|    zucchini|    5|   0|                7|      5|            5|\n",
            "|      radish|    6|  50|                8|      8|          240|\n",
            "|    zucchini|    5|   0|                6|      1|            0|\n",
            "|    zucchini|    5|   0|                6|      3|            0|\n",
            "|    zucchini|    5|   0|                5|      2|            0|\n",
            "|      radish|    6|   0|                4|      1|            0|\n",
            "|      radish|    6|  50|             null|      1|            0|\n",
            "|    zucchini|    5|  40|               12|      9|           25|\n",
            "|      radish|    6|   0|                6|      5|            0|\n",
            "+------------+-----+----+-----------------+-------+-------------+\n",
            "only showing top 20 rows\n",
            "\n"
          ]
        }
      ]
    },
    {
      "cell_type": "markdown",
      "source": [
        "# Transformationen für Fortgeschrittene"
      ],
      "metadata": {
        "id": "FiieohenG2Bm"
      }
    },
    {
      "cell_type": "markdown",
      "source": [
        "Damit Jeremy weitere Informationen aus den Daten filtern kann, muss er sich erneut einen Überblick verschaffen. \n",
        "+ Unterstützen Sie Jeremy, in dem Sie die Tabellen der Felder und anzubauenden Lebensmittels darstellen."
      ],
      "metadata": {
        "id": "kOP_N92hHCDy"
      }
    },
    {
      "cell_type": "code",
      "source": [
        "df_fields.show(10)\n",
        "df_fru_veg.show(30)"
      ],
      "metadata": {
        "id": "GawHQ1z_G9I6",
        "colab": {
          "base_uri": "https://localhost:8080/"
        },
        "outputId": "b4916f76-715b-40e0-e012-841a475fccee"
      },
      "execution_count": 12,
      "outputs": [
        {
          "output_type": "stream",
          "name": "stdout",
          "text": [
            "+--------+------------+-----------+\n",
            "|field_id|  field_name|area_in_sqm|\n",
            "+--------+------------+-----------+\n",
            "|       5| Barn Ground|         10|\n",
            "|       6|        Bank|         10|\n",
            "|       7|Far Brossler|         20|\n",
            "+--------+------------+-----------+\n",
            "\n",
            "+------------+-----+----+-----------------+-------+-------------+\n",
            "|        crop|field|week|water_consumption|revenue|yield_per_sqm|\n",
            "+------------+-----+----+-----------------+-------+-------------+\n",
            "|strawberries|    7|   5|               14|      0|            5|\n",
            "|strawberries|    7|   7|               20|     60|           25|\n",
            "|strawberries|    7|   9|               24|    150|           25|\n",
            "|strawberries|    7|   2|               10|      0|            0|\n",
            "|strawberries|    7|   6|               18|     30|           10|\n",
            "|strawberries|    7|   8|               26|    150|           25|\n",
            "|strawberries|    7|  11|             null|    150|            0|\n",
            "|strawberries|    7|   3|               12|      0|            0|\n",
            "|strawberries|    7|  10|               10|    100|           25|\n",
            "|strawberries|    7|   4|               14|      0|            0|\n",
            "|strawberries|    7|   1|               12|      0|            0|\n",
            "|    zucchini|    5|   0|                7|      5|            5|\n",
            "|      radish|    6|  50|                8|      8|          240|\n",
            "|    zucchini|    5|   0|                6|      1|            0|\n",
            "|    zucchini|    5|   0|                6|      3|            0|\n",
            "|    zucchini|    5|   0|                5|      2|            0|\n",
            "|      radish|    6|   0|                4|      1|            0|\n",
            "|      radish|    6|  50|             null|      1|            0|\n",
            "|    zucchini|    5|  40|               12|      9|           25|\n",
            "|      radish|    6|   0|                6|      5|            0|\n",
            "|      radish|    6|   0|                3|      4|            0|\n",
            "|    zucchini|    5|  40|               13|      8|           25|\n",
            "|      radish|    6|   0|                4|      2|            0|\n",
            "|    zucchini|    5|  40|             null|     11|            0|\n",
            "|    zucchini|    5|  16|               10|      7|           25|\n",
            "|    zucchini|    5|  40|                5|     10|           25|\n",
            "|      radish|    6|   0|                7|      1|            0|\n",
            "|    zucchini|    5|   8|                9|      6|           10|\n",
            "|    zucchini|    5|   0|                7|      4|            0|\n",
            "|      radish|    6|  32|                8|      7|          160|\n",
            "+------------+-----+----+-----------------+-------+-------------+\n",
            "only showing top 30 rows\n",
            "\n"
          ]
        }
      ]
    },
    {
      "cell_type": "markdown",
      "source": [
        "#### Spark Functions "
      ],
      "metadata": {
        "id": "m91emwOwc3Hq"
      }
    },
    {
      "cell_type": "markdown",
      "source": [
        "Nutzen Sie Sparkfunktions um Jeremy den gesamte Wasserverbrauch im letzten Jahr darzustellen.\n",
        "\n",
        "\n"
      ],
      "metadata": {
        "id": "M-pGl1LjfAE8"
      }
    },
    {
      "cell_type": "code",
      "source": [
        "df_fru_veg.agg(func.sum(\"water_consumption\")).show()"
      ],
      "metadata": {
        "colab": {
          "base_uri": "https://localhost:8080/"
        },
        "id": "qzQsf1rgc1_t",
        "outputId": "63755236-1a3b-4ee2-bffb-3988abd7e46e"
      },
      "execution_count": 13,
      "outputs": [
        {
          "output_type": "stream",
          "name": "stdout",
          "text": [
            "+----------------------+\n",
            "|sum(water_consumption)|\n",
            "+----------------------+\n",
            "|                   285|\n",
            "+----------------------+\n",
            "\n"
          ]
        }
      ]
    },
    {
      "cell_type": "markdown",
      "source": [
        "Anschließend möchte Jeremy noch wissen, wie der Wasserverbrauch für die unterschiedlichen Gewächsarten war. Geben Sie hierfür den Wasserbedarf der Erdberren an."
      ],
      "metadata": {
        "id": "sQy44T9yfRV1"
      }
    },
    {
      "cell_type": "code",
      "source": [
        "df_fru_veg.filter(df_fru_veg.crop == \"strawberries\").agg(func.sum(\"water_consumption\")).collect()"
      ],
      "metadata": {
        "colab": {
          "base_uri": "https://localhost:8080/"
        },
        "id": "B1ojLiUAe9t-",
        "outputId": "7d70e060-2a20-4377-f2bb-5e9fe76b6daa"
      },
      "execution_count": 14,
      "outputs": [
        {
          "output_type": "execute_result",
          "data": {
            "text/plain": [
              "[Row(sum(water_consumption)=160)]"
            ]
          },
          "metadata": {},
          "execution_count": 14
        }
      ]
    },
    {
      "cell_type": "markdown",
      "source": [
        "#### Groupby() Bedingung"
      ],
      "metadata": {
        "id": "tXhVVCdwbOAa"
      }
    },
    {
      "cell_type": "markdown",
      "source": [
        "Für die kommenden Wochen ist mit erhöhten Niederschlägen zu rechnen. Um zu wissen, wann es sich lohnt, die Felder zu bewässern, will sich Jeremy einen Überblick über die durchschnittliche Wassermenge pro Woche verschaffen.\n",
        "\n",
        "+ Helfen Sie Jeremy  mittels groupby() Befehl dabei und visualisieren Sie den durchschnittlichen Wasserverbrauch."
      ],
      "metadata": {
        "id": "QgDG4e1JcNV2"
      }
    },
    {
      "cell_type": "code",
      "source": [
        "df_alles_was_angebaut_wird = df_fru_veg.groupBy(\"week\").agg(func.avg(\"water_consumption\"))\n",
        "df_alles_was_angebaut_wird.show()\n"
      ],
      "metadata": {
        "colab": {
          "base_uri": "https://localhost:8080/"
        },
        "id": "rwblOPantv6c",
        "outputId": "3d2d549a-64ea-484f-c761-b85b7fb1604f"
      },
      "execution_count": 15,
      "outputs": [
        {
          "output_type": "stream",
          "name": "stdout",
          "text": [
            "+----+----------------------+\n",
            "|week|avg(water_consumption)|\n",
            "+----+----------------------+\n",
            "|   0|     5.454545454545454|\n",
            "|   7|                  20.0|\n",
            "|  50|                   8.0|\n",
            "|  32|                   8.0|\n",
            "|   6|                  18.0|\n",
            "|   9|                  24.0|\n",
            "|   5|                  14.0|\n",
            "|   1|                  12.0|\n",
            "|  10|                  10.0|\n",
            "|   3|                  12.0|\n",
            "|   8|                  17.5|\n",
            "|  11|                  null|\n",
            "|   2|                  10.0|\n",
            "|   4|                  14.0|\n",
            "|  40|                  10.0|\n",
            "|  16|                  10.0|\n",
            "+----+----------------------+\n",
            "\n"
          ]
        }
      ]
    },
    {
      "cell_type": "markdown",
      "source": [
        "Nachdem wir den Durchschnittlichen Wasserbrauch kennen, interessiert Jeremy wieviel Wasser jedes Lebensmittel pro Ernte verbraucht.  "
      ],
      "metadata": {
        "id": "wmv__AZ_apN3"
      }
    },
    {
      "cell_type": "code",
      "source": [
        "gesamt_verbrauch =  df_fru_veg.groupBy(\"crop\").agg(func.sum(\"water_consumption\"))\n",
        "gesamt_verbrauch.show()"
      ],
      "metadata": {
        "colab": {
          "base_uri": "https://localhost:8080/"
        },
        "id": "i4FhWIAwN-Zw",
        "outputId": "ee605ae4-ce26-47fc-bacd-ed9c0f612816"
      },
      "execution_count": 16,
      "outputs": [
        {
          "output_type": "stream",
          "name": "stdout",
          "text": [
            "+------------+----------------------+\n",
            "|        crop|sum(water_consumption)|\n",
            "+------------+----------------------+\n",
            "|strawberries|                   160|\n",
            "|    zucchini|                    80|\n",
            "|      radish|                    45|\n",
            "+------------+----------------------+\n",
            "\n"
          ]
        }
      ]
    },
    {
      "cell_type": "markdown",
      "source": [
        "#### Join() Bedingung "
      ],
      "metadata": {
        "id": "Mc2M1zTVRKn-"
      }
    },
    {
      "cell_type": "markdown",
      "source": [
        "- Wie Sie in der Präsentation festgestellt haben, gibt es verschiedene Optionen zwei Tabellen miteinaner zu verbinden. \n",
        "+ In unserem Fall verwendenen wir nun den inner Join da wir alle Zeilen behalten möchten. "
      ],
      "metadata": {
        "id": "4UwC0uDQbY3e"
      }
    },
    {
      "cell_type": "markdown",
      "source": [
        "Bisher musste Jereomy für die Übersicht der Felder und der einzelnen Lebensmittel immer zwei Tabellenen nutzen. \n",
        "\n",
        "+ Helfen Sie ihm nun die Arbeit mittels eines Joins zu erleichtern"
      ],
      "metadata": {
        "id": "DiLUfuOjb6K-"
      }
    },
    {
      "cell_type": "code",
      "source": [
        "gesamt_join = df_fru_veg.join(df_fields, df_fru_veg.field ==  df_fields.field_id,\"inner\")\n",
        "gesamt_join.show(30)"
      ],
      "metadata": {
        "colab": {
          "base_uri": "https://localhost:8080/"
        },
        "id": "t2xewOjSP5fh",
        "outputId": "3a76e6ac-e89e-470c-b1b3-2ef8f26ea462"
      },
      "execution_count": 17,
      "outputs": [
        {
          "output_type": "stream",
          "name": "stdout",
          "text": [
            "+------------+-----+----+-----------------+-------+-------------+--------+------------+-----------+\n",
            "|        crop|field|week|water_consumption|revenue|yield_per_sqm|field_id|  field_name|area_in_sqm|\n",
            "+------------+-----+----+-----------------+-------+-------------+--------+------------+-----------+\n",
            "|    zucchini|    5|   0|                7|      4|            0|       5| Barn Ground|         10|\n",
            "|    zucchini|    5|   8|                9|      6|           10|       5| Barn Ground|         10|\n",
            "|    zucchini|    5|  40|                5|     10|           25|       5| Barn Ground|         10|\n",
            "|    zucchini|    5|  16|               10|      7|           25|       5| Barn Ground|         10|\n",
            "|    zucchini|    5|  40|             null|     11|            0|       5| Barn Ground|         10|\n",
            "|    zucchini|    5|  40|               13|      8|           25|       5| Barn Ground|         10|\n",
            "|    zucchini|    5|  40|               12|      9|           25|       5| Barn Ground|         10|\n",
            "|    zucchini|    5|   0|                5|      2|            0|       5| Barn Ground|         10|\n",
            "|    zucchini|    5|   0|                6|      3|            0|       5| Barn Ground|         10|\n",
            "|    zucchini|    5|   0|                6|      1|            0|       5| Barn Ground|         10|\n",
            "|    zucchini|    5|   0|                7|      5|            5|       5| Barn Ground|         10|\n",
            "|      radish|    6|   0|                5|      3|            0|       6|        Bank|         10|\n",
            "|      radish|    6|  32|                8|      7|          160|       6|        Bank|         10|\n",
            "|      radish|    6|   0|                7|      1|            0|       6|        Bank|         10|\n",
            "|      radish|    6|   0|                4|      2|            0|       6|        Bank|         10|\n",
            "|      radish|    6|   0|                3|      4|            0|       6|        Bank|         10|\n",
            "|      radish|    6|   0|                6|      5|            0|       6|        Bank|         10|\n",
            "|      radish|    6|  50|             null|      1|            0|       6|        Bank|         10|\n",
            "|      radish|    6|   0|                4|      1|            0|       6|        Bank|         10|\n",
            "|      radish|    6|  50|                8|      8|          240|       6|        Bank|         10|\n",
            "|strawberries|    7|   1|               12|      0|            0|       7|Far Brossler|         20|\n",
            "|strawberries|    7|   4|               14|      0|            0|       7|Far Brossler|         20|\n",
            "|strawberries|    7|  10|               10|    100|           25|       7|Far Brossler|         20|\n",
            "|strawberries|    7|   3|               12|      0|            0|       7|Far Brossler|         20|\n",
            "|strawberries|    7|  11|             null|    150|            0|       7|Far Brossler|         20|\n",
            "|strawberries|    7|   8|               26|    150|           25|       7|Far Brossler|         20|\n",
            "|strawberries|    7|   6|               18|     30|           10|       7|Far Brossler|         20|\n",
            "|strawberries|    7|   2|               10|      0|            0|       7|Far Brossler|         20|\n",
            "|strawberries|    7|   9|               24|    150|           25|       7|Far Brossler|         20|\n",
            "|strawberries|    7|   7|               20|     60|           25|       7|Far Brossler|         20|\n",
            "+------------+-----+----+-----------------+-------+-------------+--------+------------+-----------+\n",
            "only showing top 30 rows\n",
            "\n"
          ]
        }
      ]
    },
    {
      "cell_type": "markdown",
      "source": [
        "Um die Wirtschaftlichkeit unseres Unternehmen zu prüfen, möchte Jeremy sich den gesamten Ertag des jeweiligen Nahrungsmittel anzeigen. \n",
        "\n",
        "+ Mulitplizieren Sie hierfür die Spalten yield_per_sqm und_sqm area_in_sqm\n",
        "+ Erzeugen Sie eine neue Spalte im DataFrame für das Ergebnis\n",
        "+ Tipp: hierfür können Sie die Funcktion **col** der Sparkfunctions verwenden."
      ],
      "metadata": {
        "id": "Hu8qM7tpeUfS"
      }
    },
    {
      "cell_type": "code",
      "source": [
        "\n",
        "gesamt_join = gesamt_join.withColumn(\"yield_per_area\", func.col(\"yield_per_sqm\") * func.col(\"area_in_sqm\"))\n",
        "gesamt_join.show()\n"
      ],
      "metadata": {
        "colab": {
          "base_uri": "https://localhost:8080/"
        },
        "id": "IhIzI39pWm5n",
        "outputId": "5c01954a-8324-4698-f879-31337bd1992d"
      },
      "execution_count": 18,
      "outputs": [
        {
          "output_type": "stream",
          "name": "stdout",
          "text": [
            "+--------+-----+----+-----------------+-------+-------------+--------+-----------+-----------+--------------+\n",
            "|    crop|field|week|water_consumption|revenue|yield_per_sqm|field_id| field_name|area_in_sqm|yield_per_area|\n",
            "+--------+-----+----+-----------------+-------+-------------+--------+-----------+-----------+--------------+\n",
            "|zucchini|    5|   0|                7|      4|            0|       5|Barn Ground|         10|             0|\n",
            "|zucchini|    5|   8|                9|      6|           10|       5|Barn Ground|         10|           100|\n",
            "|zucchini|    5|  40|                5|     10|           25|       5|Barn Ground|         10|           250|\n",
            "|zucchini|    5|  16|               10|      7|           25|       5|Barn Ground|         10|           250|\n",
            "|zucchini|    5|  40|             null|     11|            0|       5|Barn Ground|         10|             0|\n",
            "|zucchini|    5|  40|               13|      8|           25|       5|Barn Ground|         10|           250|\n",
            "|zucchini|    5|  40|               12|      9|           25|       5|Barn Ground|         10|           250|\n",
            "|zucchini|    5|   0|                5|      2|            0|       5|Barn Ground|         10|             0|\n",
            "|zucchini|    5|   0|                6|      3|            0|       5|Barn Ground|         10|             0|\n",
            "|zucchini|    5|   0|                6|      1|            0|       5|Barn Ground|         10|             0|\n",
            "|zucchini|    5|   0|                7|      5|            5|       5|Barn Ground|         10|            50|\n",
            "|  radish|    6|   0|                5|      3|            0|       6|       Bank|         10|             0|\n",
            "|  radish|    6|  32|                8|      7|          160|       6|       Bank|         10|          1600|\n",
            "|  radish|    6|   0|                7|      1|            0|       6|       Bank|         10|             0|\n",
            "|  radish|    6|   0|                4|      2|            0|       6|       Bank|         10|             0|\n",
            "|  radish|    6|   0|                3|      4|            0|       6|       Bank|         10|             0|\n",
            "|  radish|    6|   0|                6|      5|            0|       6|       Bank|         10|             0|\n",
            "|  radish|    6|  50|             null|      1|            0|       6|       Bank|         10|             0|\n",
            "|  radish|    6|   0|                4|      1|            0|       6|       Bank|         10|             0|\n",
            "|  radish|    6|  50|                8|      8|          240|       6|       Bank|         10|          2400|\n",
            "+--------+-----+----+-----------------+-------+-------------+--------+-----------+-----------+--------------+\n",
            "only showing top 20 rows\n",
            "\n"
          ]
        }
      ]
    },
    {
      "cell_type": "code",
      "source": [
        "\n",
        "gesamt_ertrag =  gesamt_join.groupBy(\"crop\").agg(func.sum(\"revenue\"), func.sum(\"yield_per_area\"), func.sum(\"water_consumption\"))\n",
        "gesamt_ertrag = gesamt_ertrag.select(col(\"crop\").alias(\"Crop\"),col(\"sum(revenue)\").alias(\"revenue\") , col(\"sum(water_consumption)\").alias(\"water_consumption\"), col(\"sum(yield_per_area)\").alias(\"yield_per_area\"))\n",
        "gesamt_ertrag.show()\n"
      ],
      "metadata": {
        "colab": {
          "base_uri": "https://localhost:8080/"
        },
        "id": "V4RDD2cjohoE",
        "outputId": "b71bd7f5-85a0-4d6b-a53c-fe7acc6a9dd5"
      },
      "execution_count": 19,
      "outputs": [
        {
          "output_type": "stream",
          "name": "stdout",
          "text": [
            "+------------+-------+-----------------+--------------+\n",
            "|        Crop|revenue|water_consumption|yield_per_area|\n",
            "+------------+-------+-----------------+--------------+\n",
            "|    zucchini|     66|               80|          1150|\n",
            "|strawberries|    640|              160|          2300|\n",
            "|      radish|     32|               45|          4000|\n",
            "+------------+-------+-----------------+--------------+\n",
            "\n"
          ]
        }
      ]
    },
    {
      "cell_type": "markdown",
      "source": [
        "Nachdem wir den Ertrag für die einzelnen Gemüse- oder Obstsorten kennen, müssen wir Jeremy bei der Ermittelung des Gewinn je Lebensmittel unter die Arme greifen.\n",
        "\n",
        "+ Hierfür benötigen wir die zuvor ermittelten Liter je Sorte welche wir mit dem Wert von 0.2 Cent verrechnen. \n",
        " \n",
        "+ Anschließend müssen noch die Erwerbskosten für die  Pflanzensamen miteinbeziehen um unsere Produktionskosten zu erhalten.\n",
        "  >Kosten für Samen :\n",
        "  + Erdbeeren = 50 Cent\n",
        "  + Rettich = 10 Cent\n",
        "  + Zucchini = 15 Cent \n",
        "\n",
        "\n",
        "+ Geben Sie das Ergebnis absteigend an. "
      ],
      "metadata": {
        "id": "9Ar2YentoKEd"
      }
    },
    {
      "cell_type": "markdown",
      "source": [
        "Zunächst müssen wir noch bei dem Dataframe noch eine Spalte mit den Kosten für die Saatkosten hinzufügen."
      ],
      "metadata": {
        "id": "OLjb01WMY28E"
      }
    },
    {
      "cell_type": "code",
      "source": [
        "from pyspark.sql.window import Window as W\n",
        "rating = [15,50,10]\n",
        "b = spark.createDataFrame([(l,) for l in rating], ['cost_of_seed'])\n",
        "gesamt_ertrag = gesamt_ertrag.withColumn(\"idx\", func.monotonically_increasing_id())\n",
        "b = b.withColumn(\"idx\", func.monotonically_increasing_id())\n",
        "\n",
        "windowSpec = W.orderBy(\"idx\")\n",
        "gesamt_ertrag = gesamt_ertrag.withColumn(\"idx\", func.row_number().over(windowSpec))\n",
        "b = b.withColumn(\"idx\", func.row_number().over(windowSpec))\n",
        "\n",
        "\n",
        "gesamt_ertrag = gesamt_ertrag.join(b, gesamt_ertrag.idx == b.idx).drop(\"idx\")\n",
        "gesamt_ertrag.show()"
      ],
      "metadata": {
        "colab": {
          "base_uri": "https://localhost:8080/"
        },
        "id": "P-uBQULPeMwp",
        "outputId": "7f5d9e38-5c92-4ca7-f81c-0a37394b5e8a"
      },
      "execution_count": 20,
      "outputs": [
        {
          "output_type": "stream",
          "name": "stdout",
          "text": [
            "+------------+-------+-----------------+--------------+------------+\n",
            "|        Crop|revenue|water_consumption|yield_per_area|cost_of_seed|\n",
            "+------------+-------+-----------------+--------------+------------+\n",
            "|    zucchini|     66|               80|          1150|          15|\n",
            "|strawberries|    640|              160|          2300|          50|\n",
            "|      radish|     32|               45|          4000|          10|\n",
            "+------------+-------+-----------------+--------------+------------+\n",
            "\n"
          ]
        }
      ]
    },
    {
      "cell_type": "code",
      "source": [
        "gesamt_ertrag = gesamt_ertrag.withColumn(\"revenue_after_water_cost\",col(\"revenue\") - (col(\"water_consumption\")* 0.02))\n",
        "gesamt_ertrag = gesamt_ertrag.withColumn(\"netto_revenue\",col(\"revenue_after_water_cost\") - col(\"cost_of_seed\"))\n",
        "gesamt_ertrag = gesamt_ertrag.withColumn(\"revenue_after_water_cost\", func.round(gesamt_ertrag[\"revenue_after_water_cost\"], 2)).withColumn(\"netto_revenue\", func.round(gesamt_ertrag[\"netto_revenue\"], 2))\n",
        "gesamt_ertrag.show()"
      ],
      "metadata": {
        "colab": {
          "base_uri": "https://localhost:8080/"
        },
        "id": "XVOAD7ORwnMl",
        "outputId": "89c8e3c6-a300-4cf0-ca22-97d6fc1f941a"
      },
      "execution_count": 21,
      "outputs": [
        {
          "output_type": "stream",
          "name": "stdout",
          "text": [
            "+------------+-------+-----------------+--------------+------------+------------------------+-------------+\n",
            "|        Crop|revenue|water_consumption|yield_per_area|cost_of_seed|revenue_after_water_cost|netto_revenue|\n",
            "+------------+-------+-----------------+--------------+------------+------------------------+-------------+\n",
            "|    zucchini|     66|               80|          1150|          15|                    64.4|         49.4|\n",
            "|strawberries|    640|              160|          2300|          50|                   636.8|        586.8|\n",
            "|      radish|     32|               45|          4000|          10|                    31.1|         21.1|\n",
            "+------------+-------+-----------------+--------------+------------+------------------------+-------------+\n",
            "\n"
          ]
        }
      ]
    },
    {
      "cell_type": "code",
      "source": [
        "#revenue = Einnahme , yield = Ertrag\n",
        "gesamt_ertrag.orderBy(col(\"netto_revenue\").desc()).show()"
      ],
      "metadata": {
        "id": "vCPCxXQB1OZW",
        "colab": {
          "base_uri": "https://localhost:8080/"
        },
        "outputId": "4d6baca6-6230-4bae-fba5-6f62189cd7d5"
      },
      "execution_count": 22,
      "outputs": [
        {
          "output_type": "stream",
          "name": "stdout",
          "text": [
            "+------------+-------+-----------------+--------------+------------+------------------------+-------------+\n",
            "|        Crop|revenue|water_consumption|yield_per_area|cost_of_seed|revenue_after_water_cost|netto_revenue|\n",
            "+------------+-------+-----------------+--------------+------------+------------------------+-------------+\n",
            "|strawberries|    640|              160|          2300|          50|                   636.8|        586.8|\n",
            "|    zucchini|     66|               80|          1150|          15|                    64.4|         49.4|\n",
            "|      radish|     32|               45|          4000|          10|                    31.1|         21.1|\n",
            "+------------+-------+-----------------+--------------+------------+------------------------+-------------+\n",
            "\n"
          ]
        }
      ]
    },
    {
      "cell_type": "markdown",
      "source": [
        "#### Lambda Funtionen"
      ],
      "metadata": {
        "id": "dR-TzO-IiRZc"
      }
    },
    {
      "cell_type": "markdown",
      "source": [
        "Um unsere Lebensmittel in unserem Hofladen gewinnbringend vertreiben können, müssen wir Jeremy bei der Preisfindung unterstützen. \n",
        "\n",
        "+ Ermitteln Sie hierfür den Preis pro Stück und erzeugen hierfür eine neue Spalte in dem Dataframe\n"
      ],
      "metadata": {
        "id": "8iAEHuZNdIjV"
      }
    },
    {
      "cell_type": "code",
      "source": [
        "rdd2 = gesamt_ertrag.rdd.map(lambda x: (x[\"Crop\"], x[\"netto_revenue\"]*1.19*0.01, x[\"netto_revenue\"]*1.59*0.01)) \n",
        "cost_overview = rdd2.toDF([\"Crop\",\"min_selling_price_per_piece\", \"lucrative_selling_price\"])\n",
        "cost_overview = cost_overview.withColumn(\"min_selling_price_per_piece\", func.round(cost_overview[\"min_selling_price_per_piece\"], 2)).withColumn(\"lucrative_selling_price\", func.round(cost_overview[\"lucrative_selling_price\"], 2))\n",
        "cost_overview.withColumn(\"currency\", func.lit(\"£\")).orderBy(col(\"lucrative_selling_price\").desc()).show()"
      ],
      "metadata": {
        "id": "n-mW9ofyhJMd",
        "colab": {
          "base_uri": "https://localhost:8080/"
        },
        "outputId": "8f7b759f-9fe7-4b8d-f8ea-47e26cf09fd1"
      },
      "execution_count": 23,
      "outputs": [
        {
          "output_type": "stream",
          "name": "stdout",
          "text": [
            "+------------+---------------------------+-----------------------+--------+\n",
            "|        Crop|min_selling_price_per_piece|lucrative_selling_price|currency|\n",
            "+------------+---------------------------+-----------------------+--------+\n",
            "|strawberries|                       6.98|                   9.33|       £|\n",
            "|    zucchini|                       0.59|                   0.79|       £|\n",
            "|      radish|                       0.25|                   0.34|       £|\n",
            "+------------+---------------------------+-----------------------+--------+\n",
            "\n"
          ]
        }
      ]
    },
    {
      "cell_type": "markdown",
      "source": [
        "Für die Nutzung von Lambda können Sie auch ganze Funktionen aufgerufen werden. Dies wird am folgenden Beispiel erklärt. "
      ],
      "metadata": {
        "id": "7u0rFPYrgaBG"
      }
    },
    {
      "cell_type": "code",
      "source": [
        "# By Calling function\n",
        "def calc_func(x):\n",
        "    Crop = x.Crop\n",
        "    Netto_Revenue = x.netto_revenue \n",
        "    min_selling_price_per_piece = Netto_Revenue*1.19*0.01\n",
        "    lucrative_selling_price = Netto_Revenue*1.59*0.01\n",
        "    return (Crop, min_selling_price_per_piece, lucrative_selling_price)\n",
        "\n",
        "rdd_process=gesamt_ertrag.rdd.map(lambda x: calc_func(x))\n",
        "cost_overview_with_func = rdd_process.toDF([\"Crop\",\"min_selling_price_per_piece\", \"lucrative_selling_price\"])\n",
        "cost_overview_with_func = cost_overview_with_func.withColumn(\"min_selling_price_per_piece\", func.round(cost_overview_with_func[\"min_selling_price_per_piece\"], 2)).withColumn(\"lucrative_selling_price\", func.round(cost_overview_with_func[\"lucrative_selling_price\"], 2))\n",
        "cost_overview_with_func.withColumn(\"currency\", func.lit(\"£\")).orderBy(col(\"lucrative_selling_price\").desc()).show()\n"
      ],
      "metadata": {
        "id": "Ob_GnfiMgYtT",
        "colab": {
          "base_uri": "https://localhost:8080/"
        },
        "outputId": "66d71a70-8eb4-42e3-fc92-3ba5826f3e0a"
      },
      "execution_count": 24,
      "outputs": [
        {
          "output_type": "stream",
          "name": "stdout",
          "text": [
            "+------------+---------------------------+-----------------------+--------+\n",
            "|        Crop|min_selling_price_per_piece|lucrative_selling_price|currency|\n",
            "+------------+---------------------------+-----------------------+--------+\n",
            "|strawberries|                       6.98|                   9.33|       £|\n",
            "|    zucchini|                       0.59|                   0.79|       £|\n",
            "|      radish|                       0.25|                   0.34|       £|\n",
            "+------------+---------------------------+-----------------------+--------+\n",
            "\n"
          ]
        }
      ]
    },
    {
      "cell_type": "markdown",
      "source": [
        "####Übung\n",
        "\n",
        "\n",
        "*   Verwenden Sie erneut die Corn.json welche die Daten für das Getreide enthält.\n",
        "*   Ermitteln Sie den Wasserverbrauch für die jeweilige Getreidesorte.\n",
        "+   Ermitteln Sie die Kosten für den Getreideanbau und den Verkaufspreis  \n",
        "\n"
      ],
      "metadata": {
        "id": "0pl2N5XyqvzR"
      }
    }
  ]
}